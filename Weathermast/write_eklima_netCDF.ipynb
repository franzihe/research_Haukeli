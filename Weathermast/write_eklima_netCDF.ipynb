{
 "cells": [
  {
   "cell_type": "code",
   "execution_count": null,
   "metadata": {},
   "outputs": [],
   "source": [
    "import sys\n",
    "#sys.path.append('/uio/kant/geo-metos-u7/franzihe/Documents/research_Haukeli/Python/windrose')\n",
    "sys.path.append('/Volumes/SANDISK128/Documents/Research_UiO_50/Python/windrose/')\n",
    "from windrose import WindroseAxes\n",
    "import netCDF4\n",
    "import pandas as pd\n",
    "import numpy as np\n",
    "import matplotlib.pyplot as plt\n",
    "#sys.path.append('/uio/kant/geo-metos-u7/franzihe/Documents/Thesis/Python')\n",
    "sys.path.append('/Volumes/SANDISK128/Documents/Thesis/Python/')\n",
    "import createFolder as cF\n",
    "import math\n",
    "#%matplotlib inline"
   ]
  },
  {
   "cell_type": "code",
   "execution_count": null,
   "metadata": {
    "collapsed": true
   },
   "outputs": [],
   "source": [
    "from matplotlib import colors\n",
    "\n",
    "import matplotlib.cm as cm"
   ]
  },
  {
   "cell_type": "code",
   "execution_count": null,
   "metadata": {
    "collapsed": true
   },
   "outputs": [],
   "source": [
    "station = 'Haukeliseter'"
   ]
  },
  {
   "cell_type": "code",
   "execution_count": null,
   "metadata": {},
   "outputs": [],
   "source": [
    "txt_dir      = '../../Data/Eklima/'+station\n",
    "txt_filename = 'obs_'+str(2016)+'_'+str(2017)"
   ]
  },
  {
   "cell_type": "code",
   "execution_count": null,
   "metadata": {
    "collapsed": true
   },
   "outputs": [],
   "source": [
    "Haukeli = pd.read_csv(txt_dir+'/'+txt_filename+'.txt', sep =';', header=19, skipfooter = 2, engine = 'python')"
   ]
  },
  {
   "cell_type": "code",
   "execution_count": null,
   "metadata": {},
   "outputs": [],
   "source": [
    "Year = Haukeli['Year']\n",
    "Month = Haukeli['Mnth']\n",
    "Date = Haukeli['Date']\n",
    "Time = Haukeli['Time(NMT)']\n",
    "obsvar = Haukeli['RR_1'].astype(float)         # Precipitation (last 1 hour); [mm]\n",
    "obsvar_TA = Haukeli['TA'].astype(float)\n",
    "\n",
    "obsvar_DD = Haukeli['DD'].astype(float)             # Wind direction (FF); [degrees] Generell vindretning siste 10 minutter \n",
    "obsvar_FF = Haukeli['FF'].astype(float)             # Wind speed (10 meters above ground);m/s"
   ]
  },
  {
   "cell_type": "code",
   "execution_count": null,
   "metadata": {},
   "outputs": [],
   "source": [
    "# create array of values we want to have (precip, Wind)\n",
    "arr = (np.vstack((Year,Month,Date,Time,obsvar,obsvar_DD,obsvar_FF,obsvar_TA)).T)\n",
    "idx = np.where(arr[:,:] == -9999)\n",
    "arr[idx] = np.nan"
   ]
  },
  {
   "cell_type": "code",
   "execution_count": null,
   "metadata": {
    "collapsed": true
   },
   "outputs": [],
   "source": [
    "def get_netCDF_variable(f, var_name, var, dim):\n",
    "    v_0m = f.createVariable(varname=var_name, datatype=var.dtype, dimensions=dim, zlib=True)\n",
    "    v_0m[:] = var[:]\n",
    "    return(v_0m)"
   ]
  },
  {
   "cell_type": "code",
   "execution_count": null,
   "metadata": {},
   "outputs": [],
   "source": [
    "txt_dir\n",
    "for i in range(int(arr.shape[0]/24)-1):\n",
    "    if int(arr[24+i*24,2]) < 10:\n",
    "        dd = '0%s' %str(int(arr[24+i*24,2]))\n",
    "    else:\n",
    "        dd = str(int(arr[24+i*24,2]))\n",
    "        \n",
    "    if int(arr[24+i*24,1]) < 10:\n",
    "        mm = '0%s' %str(int(arr[24+i*24,1]))\n",
    "    else:\n",
    "        mm = str(int(arr[24+i*24,1]))\n",
    "    filename = 'precip_wind_temp_'+str(int(arr[24+i*24,0]))+mm+dd+'.nc'\n",
    "    ### write netCDF file\n",
    "    fw = netCDF4.Dataset(txt_dir+'/'+filename,'w')\n",
    "    ### create dimensions\n",
    "    fw.createDimension('time', arr[24+i*24:24+i*24+24,:].shape[0])\n",
    "    fw.createDimension('YYYYMMDD_HH', arr[24+i*24:24+i*24+24,0:4].shape[1])\n",
    "\n",
    "    time_w      = get_netCDF_variable(fw, 'time_stamp', arr[24+i*24:24+i*24+24,0:4], ('time','YYYYMMDD_HH' ))\n",
    "    precip_w    = get_netCDF_variable(fw, 'RR_1',       arr[24+i*24:24+i*24+24,4], ('time',) )\n",
    "    winddir_w   = get_netCDF_variable(fw, 'DD',         arr[24+i*24:24+i*24+24,5], ('time',))\n",
    "    windspeed_w = get_netCDF_variable(fw, 'FF',         arr[24+i*24:24+i*24+24,6], ('time',))\n",
    "    air_temp_w  = get_netCDF_variable(fw, 'TA',         arr[24+i*24:24+i*24+24,7], ('time',))\n",
    "\n",
    "    fw.close()"
   ]
  }
 ],
 "metadata": {
  "kernelspec": {
   "display_name": "Python 3",
   "language": "python",
   "name": "python3"
  },
  "language_info": {
   "codemirror_mode": {
    "name": "ipython",
    "version": 3
   },
   "file_extension": ".py",
   "mimetype": "text/x-python",
   "name": "python",
   "nbconvert_exporter": "python",
   "pygments_lexer": "ipython3",
   "version": "3.6.5"
  }
 },
 "nbformat": 4,
 "nbformat_minor": 2
}
