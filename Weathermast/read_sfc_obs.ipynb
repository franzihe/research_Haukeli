{
 "cells": [
  {
   "cell_type": "code",
   "execution_count": 28,
   "metadata": {
    "collapsed": true
   },
   "outputs": [],
   "source": [
    "import sys\n",
    "#sys.path.append('/uio/kant/geo-metos-u7/franzihe/Documents/research_Haukeli/Python/windrose')\n",
    "sys.path.append('/Volumes/SANDISK128/Documents/Research_UiO_50/Python/windrose/')\n",
    "from windrose import WindroseAxes\n",
    "import netCDF4\n",
    "import pandas as pd\n",
    "import numpy as np\n",
    "import matplotlib.pyplot as plt\n",
    "#sys.path.append('/uio/kant/geo-metos-u7/franzihe/Documents/Thesis/Python')\n",
    "sys.path.append('/Volumes/SANDISK128/Documents/Thesis/Python/')\n",
    "import createFolder as cF\n",
    "import math\n",
    "%matplotlib inline"
   ]
  },
  {
   "cell_type": "code",
   "execution_count": 2,
   "metadata": {
    "collapsed": true
   },
   "outputs": [],
   "source": [
    "from matplotlib import colors\n",
    "\n",
    "import matplotlib.cm as cm"
   ]
  },
  {
   "cell_type": "code",
   "execution_count": 3,
   "metadata": {
    "collapsed": true
   },
   "outputs": [],
   "source": [
    "viridis = plt.get_cmap('viridis')\n",
    "champ = 255.\n",
    "no1 = np.array([79,94,26])/champ\n",
    "no2 = np.array([131,156,45])/champ\n",
    "no3 = np.array([71,153,112])/champ\n",
    "no4 = np.array([77,111,157])/champ\n",
    "no5 = np.array([157,58,55])/champ\n",
    "no6 = np.array([211,120,50])/champ\n",
    "no7 = np.array([218,181,70])/champ\n",
    "\n",
    "cmap = colors.ListedColormap([no1, no2, no3, no4, no5, no6, no7])"
   ]
  },
  {
   "cell_type": "code",
   "execution_count": 4,
   "metadata": {
    "collapsed": true
   },
   "outputs": [],
   "source": [
    "m = ['11']#, '12', '01', '02', '03']"
   ]
  },
  {
   "cell_type": "code",
   "execution_count": 5,
   "metadata": {
    "collapsed": true
   },
   "outputs": [],
   "source": [
    "savefig = 0\n",
    "form = 'png'\n",
    "figdir = '../../Figures/Weathermast'\n"
   ]
  },
  {
   "cell_type": "code",
   "execution_count": 6,
   "metadata": {},
   "outputs": [
    {
     "name": "stdout",
     "output_type": "stream",
     "text": [
      "2016-11-07: 5.68434188608e-14\n",
      "2016-11-08: -0.0133333333334\n",
      "2016-11-09: 0.3\n",
      "2016-11-10: 0.126666666667\n",
      "2016-11-11: -0.05\n",
      "2016-11-12: 3.49\n",
      "2016-11-13: 1.47666666667\n",
      "2016-11-14: 3.43333333333\n",
      "2016-11-15: 4.44333333333\n",
      "2016-11-16: 14.66\n",
      "2016-11-17: 9.01666666667\n",
      "2016-11-18: 4.79333333333\n",
      "2016-11-19: [[ nan  nan  nan ...,  nan  nan  nan]]\n",
      "2016-11-20: 0.0\n",
      "2016-11-21: 0.42\n",
      "2016-11-22: 10.3333333333\n",
      "2016-11-23: "
     ]
    },
    {
     "name": "stderr",
     "output_type": "stream",
     "text": [
      "/Volumes/SANDISK128/Applications/anaconda/envs/py36ECMWF/lib/python3.6/site-packages/ipykernel_launcher.py:22: RuntimeWarning: invalid value encountered in greater\n",
      "/Volumes/SANDISK128/Applications/anaconda/envs/py36ECMWF/lib/python3.6/site-packages/ipykernel_launcher.py:24: RuntimeWarning: Mean of empty slice\n"
     ]
    },
    {
     "name": "stdout",
     "output_type": "stream",
     "text": [
      "3.45\n",
      "2016-11-24: 1.24\n",
      "2016-11-25: -0.12\n",
      "2016-11-26: 0.276666666667\n",
      "2016-11-27: 0.153333333333\n",
      "2016-11-28: -0.0733333333334\n",
      "2016-11-29: 2.81666666667\n",
      "2016-11-30: 2.27\n"
     ]
    }
   ],
   "source": [
    "for month in m:\n",
    "    if month == '11':\n",
    "        t = np.arange(7,31)\n",
    "    if month == '12' or month == '01' or month == '03':\n",
    "        t = np.arange(1,32)\n",
    "    if month == '02':\n",
    "        t = np.arange(1,29)\n",
    "    if month == '11' or month == '12':\n",
    "        year = '2016'\n",
    "    if month == '01' or month == '02' or month == '03':\n",
    "        year = '2017'\n",
    "    \n",
    "    for day in t:\n",
    "        if day < 10:\n",
    "            day = '0%s' %day\n",
    "        else:\n",
    "            day = '%s' %day\n",
    "            \n",
    "        dirnc = '../../Data/Weathermast/Met_%s%s%s_Haukeliseter.nc' %(year,month,day)\n",
    "        \n",
    "        f = netCDF4.Dataset(dirnc, 'r')\n",
    "        double_fence_acc = f.variables['double_fence_accum'][:]\n",
    "        \n",
    "        double_fence_acc_mean = np.nanmean(double_fence_acc,axis=1)\n",
    "        \n",
    "        \n",
    "        Series_double_fence_acc_mean = pd.Series(double_fence_acc_mean)\n",
    "        \n",
    "        double_fence_24diff = double_fence_acc_mean[Series_double_fence_acc_mean.last_valid_index()] - double_fence_acc_mean[Series_double_fence_acc_mean.first_valid_index()]\n",
    "#        double_fence_24diff = double_fence_acc_mean[-1] - double_fence_acc_mean[0]\n",
    "        \n",
    "        print(year+'-'+month+'-'+day+':', double_fence_24diff)\n",
    "        \n",
    "        f.close()"
   ]
  },
  {
   "cell_type": "code",
   "execution_count": 7,
   "metadata": {},
   "outputs": [
    {
     "name": "stderr",
     "output_type": "stream",
     "text": [
      "/Volumes/SANDISK128/Applications/anaconda/envs/py36ECMWF/lib/python3.6/site-packages/ipykernel_launcher.py:29: RuntimeWarning: invalid value encountered in greater\n",
      "/Volumes/SANDISK128/Applications/anaconda/envs/py36ECMWF/lib/python3.6/site-packages/ipykernel_launcher.py:30: RuntimeWarning: invalid value encountered in greater\n",
      "/Volumes/SANDISK128/Applications/anaconda/envs/py36ECMWF/lib/python3.6/site-packages/ipykernel_launcher.py:30: RuntimeWarning: Mean of empty slice\n",
      "/Volumes/SANDISK128/Applications/anaconda/envs/py36ECMWF/lib/python3.6/site-packages/ipykernel_launcher.py:33: RuntimeWarning: invalid value encountered in greater\n",
      "/Volumes/SANDISK128/Applications/anaconda/envs/py36ECMWF/lib/python3.6/site-packages/ipykernel_launcher.py:36: RuntimeWarning: invalid value encountered in greater\n"
     ]
    }
   ],
   "source": [
    "double_fence_acc = []\n",
    "double_fence_acc_mean = []\n",
    "wind_dir_10m = []\n",
    "wind_speed_10m = []\n",
    "for month in m:\n",
    "    if month == '11':\n",
    "        t = np.arange(7,31)\n",
    "    if month == '12' or month == '01' or month == '03':\n",
    "        t = np.arange(1,32)\n",
    "    if month == '02':\n",
    "        t = np.arange(1,29)\n",
    "    if month == '11' or month == '12':\n",
    "        year = '2016'\n",
    "    if month == '01' or month == '02' or month == '03':\n",
    "        year = '2017'\n",
    "    f = dict()\n",
    "    \n",
    "    tid = dict()\n",
    "    for day in t:\n",
    "        \n",
    "        if day < 10:\n",
    "            day = '0%s' %day\n",
    "        else:\n",
    "            day = '%s' %day\n",
    "            \n",
    "        dirnc = '../../Data/Weathermast/Met_%s%s%s_Haukeliseter.nc' %(year,month,day)\n",
    "        \n",
    "        f[int(year+month+day)] = netCDF4.Dataset(dirnc, 'r')\n",
    "        double_fence_acc.append(f[int(year+month+day)].variables['double_fence_accum'][:])\n",
    "        double_fence_acc_mean.append(np.nanmean(f[int(year+month+day)].variables['double_fence_accum'][:], axis=1))\n",
    "       # double_fence_acc_mean.append(np.nanmean(double_fence_acc,axis=1))\n",
    "\n",
    "        wind_dir_10m.append(f[int(year+month+day)].variables['10m_wind_dir_mast1'][:])\n",
    "    #    tid[int(year+month+day)] = np.arange(wind_dir_10m.shape[0])\n",
    "\n",
    "        wind_speed_10m.append(f[int(year+month+day)].variables['10m_wind_speed_mast1'][:])\n",
    "        \n",
    "        f[int(year+month+day)].close"
   ]
  },
  {
   "cell_type": "code",
   "execution_count": 8,
   "metadata": {
    "collapsed": true,
    "scrolled": false
   },
   "outputs": [],
   "source": [
    "ax0 = WindroseAxes.from_ax()\n",
    "ax0.bar(np.array(wind_dir_10m)[np.where(~ np.isnan(wind_dir_10m) )], \n",
    "       np.array(wind_speed_10m)[np.where(~ np.isnan(wind_dir_10m) )], \n",
    "       normed=True, opening=0.8, edgecolor ='white',cmap=cmap, bins = np.arange(0,24,4))\n",
    "ax0._info['bins']\n",
    "ax0.set_legend()\n",
    "ax0.legend(title = 'Wind$_{10m}$ [m s$^{-1}$]', fontsize = 12)\n",
    "ax0.get_legend().get_title().set_fontsize(16)\n",
    "ax0.tick_params(labelsize = 16)\n",
    "ax0.set_title('Wind: 08112016-31032017', fontsize = 16, y=1.08,fontweight='bold')\n",
    "if savefig == 1:\n",
    "    fig_name = 'Wind_distribution_2016_2017.png'\n",
    "    cF.createFolder('%s/' %(figdir))\n",
    "    plt.savefig('%s/%s' % (figdir, fig_name), format = form, bbox_inches='tight')\n",
    "    print('plot saved: %s/%s' %(figdir,fig_name))"
   ]
  },
  {
   "cell_type": "raw",
   "metadata": {
    "collapsed": true
   },
   "source": [
    "double_fence_24diff = []\n",
    "for i in range(0,np.array(double_fence_acc_mean).shape[0]):\n",
    "    Series_double_fence_acc_mean = pd.Series(np.array(double_fence_acc_mean)[i,:])\n",
    "    first = Series_double_fence_acc_mean.first_valid_index()\n",
    "    last = Series_double_fence_acc_mean.last_valid_index()\n",
    "    if first == None and last == None:\n",
    "        double_fence_24diff.append(np.nan)\n",
    "    else:\n",
    "        double_fence_24diff.append(np.array(double_fence_acc_mean)[i,Series_double_fence_acc_mean.last_valid_index()] \\\n",
    "                             - np.array(double_fence_acc_mean)[i,Series_double_fence_acc_mean.first_valid_index()])"
   ]
  },
  {
   "cell_type": "raw",
   "metadata": {
    "scrolled": false
   },
   "source": [
    "ax0 = WindroseAxes.from_ax()\n",
    "ax0.bar(np.ndarray.flatten(np.array(wind_dir_10m)[np.logical_and(~np.isnan(double_fence_24diff), np.array(double_fence_24diff) >= 0.),:]), \n",
    "       np.ndarray.flatten(np.array(wind_speed_10m)[np.logical_and(~np.isnan(double_fence_24diff), np.array(double_fence_24diff) >= 0.),:]), \n",
    "       normed=True, opening=0.8, edgecolor ='white',cmap=cmap, bins = np.arange(0,24,4))\n",
    "ax0._info['bins']\n",
    "ax0.set_legend()\n",
    "ax0.legend(title = 'Wind$_{10m}$ [m s$^{-1}$]', fontsize = 12)\n",
    "ax0.get_legend().get_title().set_fontsize(16)\n",
    "ax0.tick_params(labelsize = 16)\n",
    "ax0.set_title('Wind during precipiation events: 08112016-31032017', fontsize = 16, y=1.08,fontweight='bold')\n",
    "if savefig == 1:\n",
    "    fig_name = 'Wind_precip_events_2016_2017'\n",
    "    cF.createFolder('%s/' %(figdir))\n",
    "    plt.savefig('%s/%s' % (figdir, fig_name), format = form, bbox_inches='tight')\n",
    "    print('plot saved: %s/%s' %(figdir,fig_name))"
   ]
  },
  {
   "cell_type": "code",
   "execution_count": 9,
   "metadata": {
    "collapsed": true
   },
   "outputs": [],
   "source": [
    "# attach the last 9 minutes from the previous day to calculate the rolling mean every 10 minutes\n",
    "dofe_acc = []\n",
    "wind_dir = []\n",
    "wind_speed = []\n",
    "for i in range(np.array(double_fence_acc_mean).shape[0]-1):\n",
    "    pp = (np.concatenate((np.array(double_fence_acc_mean)[i,-9:],np.array(double_fence_acc_mean)[i+1,:])))\n",
    "    dofe_acc.append(pp)\n",
    "    wd = (np.concatenate((np.array(wind_dir_10m)[i,-9:], np.array(wind_dir_10m)[i+1,:])))\n",
    "    wind_dir.append(wd)\n",
    "    ws = (np.concatenate((np.array(wind_speed_10m)[i,-9:], np.array(wind_speed_10m)[i+1,:])))\n",
    "    wind_speed.append(ws)"
   ]
  },
  {
   "cell_type": "code",
   "execution_count": 10,
   "metadata": {
    "collapsed": true
   },
   "outputs": [],
   "source": [
    "# Calculate the moving average. That is, take\n",
    "# the first ten values, average them, \n",
    "# then drop the first and add the eleventh, etc.\n",
    "#dofe_acc = pd.DataFrame(np.array(dofe_acc)[:,9:])\n",
    "dofe_acc = pd.DataFrame(np.array(dofe_acc)[:,:])\n",
    "dofe_acc_rolling = dofe_acc.rolling(window=10,min_periods=7,axis=1).mean()\n",
    "dofe_acc_rolling = dofe_acc_rolling.values\n",
    "dofe_acc_rolling = np.array(dofe_acc_rolling)[:,9:]\n",
    "\n",
    "wind_dir = pd.DataFrame(np.array(wind_dir)[:,:])\n",
    "wind_dir_rolling = wind_dir.rolling(window=10,axis=1).mean()\n",
    "wind_dir_rolling = wind_dir_rolling.values\n",
    "wind_dir_rolling = np.array(wind_dir_rolling)[:,9:]\n",
    "\n",
    "wind_speed = pd.DataFrame(np.array(wind_speed)[:,:])\n",
    "wind_speed_rolling = wind_speed.rolling(window=10,axis=1).mean()\n",
    "wind_speed_rolling = wind_speed_rolling.values\n",
    "wind_speed_rolling = np.array(wind_speed_rolling)[:,9:]"
   ]
  },
  {
   "cell_type": "code",
   "execution_count": 11,
   "metadata": {
    "collapsed": true
   },
   "outputs": [],
   "source": [
    "diff = np.zeros(shape=(np.array(dofe_acc_rolling)[:,9:].shape))#/60))\n",
    "#diff[:] =  np.nan\n",
    "\n",
    "#for i in np.arange(np.array(double_fence_acc_mean).shape[0]):#/60):\n",
    "for i in range(0,np.array(dofe_acc_rolling)[:,9:].shape[1]-1):\n",
    "    diff[:,int(i)] = np.array(dofe_acc_rolling)[:,9+int(i)+1] - np.array(dofe_acc_rolling)[:,9+int(i)]"
   ]
  },
  {
   "cell_type": "code",
   "execution_count": 12,
   "metadata": {},
   "outputs": [
    {
     "name": "stderr",
     "output_type": "stream",
     "text": [
      "/Volumes/SANDISK128/Applications/anaconda/envs/py36ECMWF/lib/python3.6/site-packages/ipykernel_launcher.py:2: RuntimeWarning: invalid value encountered in greater_equal\n",
      "  \n",
      "/Volumes/SANDISK128/Applications/anaconda/envs/py36ECMWF/lib/python3.6/site-packages/ipykernel_launcher.py:3: RuntimeWarning: invalid value encountered in greater_equal\n",
      "  This is separate from the ipykernel package so we can avoid doing imports until\n",
      "/Volumes/SANDISK128/Applications/anaconda/envs/py36ECMWF/lib/python3.6/site-packages/numpy/lib/function_base.py:968: RuntimeWarning: invalid value encountered in greater_equal\n",
      "  not_smaller_than_edge = (sample[:, i] >= edges[i][-1])\n"
     ]
    }
   ],
   "source": [
    "ax0 = WindroseAxes.from_ax()\n",
    "ax0.bar(wind_dir_rolling[np.logical_and(~np.isnan(dofe_acc_rolling), dofe_acc_rolling >= 0.)], \n",
    "        wind_speed_rolling[np.logical_and(~np.isnan(dofe_acc_rolling), dofe_acc_rolling >= 0.)], \n",
    "       normed=True, opening=0.8, edgecolor ='white',cmap=cmap, bins = np.arange(0,24,4))\n",
    "ax0._info['bins']\n",
    "ax0.set_legend()\n",
    "ax0.legend(title = 'Wind$_{10m}$ [m s$^{-1}$]', fontsize = 12)\n",
    "ax0.get_legend().get_title().set_fontsize(16)\n",
    "ax0.tick_params(labelsize = 16)\n",
    "ax0.set_title('Wind during precipiation events: 08112016-31032017', fontsize = 16, y=1.08,fontweight='bold')\n",
    "if savefig == 1:\n",
    "    fig_name = 'Wind_precip_events_2016_2017'\n",
    "    cF.createFolder('%s/' %(figdir))\n",
    "    plt.savefig('%s/%s' % (figdir, fig_name), format = form, bbox_inches='tight')\n",
    "    print('plot saved: %s/%s' %(figdir,fig_name))"
   ]
  },
  {
   "cell_type": "code",
   "execution_count": null,
   "metadata": {
    "collapsed": true
   },
   "outputs": [],
   "source": []
  },
  {
   "cell_type": "code",
   "execution_count": null,
   "metadata": {
    "collapsed": true
   },
   "outputs": [],
   "source": []
  },
  {
   "cell_type": "code",
   "execution_count": 13,
   "metadata": {
    "collapsed": true
   },
   "outputs": [],
   "source": [
    "def arange_daily(RR_1):\n",
    "    \n",
    "    var = [] \n",
    "### arange daily values in an array    \n",
    "    for i in range(0,int(RR_1.shape[0]/24)-1):\n",
    "        var.append(RR_1[i*24:(i+1)*24+1])\n",
    "\n",
    "    var = np.array(var)\n",
    "    return(var)\n",
    "\n",
    "def valid_values(RR_1):\n",
    "    var = arange_daily(RR_1)\n",
    "### mask missing values with NaN\n",
    "    for i in range(0,int(var.shape[0])):\n",
    "\n",
    "        idx = np.where(var[i,:] == -9999)\n",
    "        var[i,idx] = np.nan\n",
    "        \n",
    "    return(var)"
   ]
  },
  {
   "cell_type": "code",
   "execution_count": 14,
   "metadata": {
    "collapsed": true
   },
   "outputs": [],
   "source": [
    "station = 'Haukeliseter'\n",
    "#year = 2016\n",
    "#month = 12\n",
    "#day = 21\n",
    "\n",
    "for month in m:\n",
    "    if month == '11':\n",
    "        t = np.arange(7,31)\n",
    "    if month == '12' or month == '01' or month == '03':\n",
    "        t = np.arange(1,32)\n",
    "    if month == '02':\n",
    "        t = np.arange(1,29)\n",
    "    if month == '11' or month == '12':\n",
    "        year = '2016'\n",
    "    if month == '01' or month == '02' or month == '03':\n",
    "        year = '2017'\n",
    "    \n",
    "    for day in t:\n",
    "        if day < 10:\n",
    "            day = '0%s' %day\n",
    "        else:\n",
    "            day = '%s' %day\n",
    "            "
   ]
  },
  {
   "cell_type": "code",
   "execution_count": 41,
   "metadata": {
    "collapsed": true
   },
   "outputs": [],
   "source": [
    "year = 2016\n",
    "month = '11'\n",
    "day = 23"
   ]
  },
  {
   "cell_type": "code",
   "execution_count": 42,
   "metadata": {},
   "outputs": [
    {
     "name": "stdout",
     "output_type": "stream",
     "text": [
      "[ 138.66  138.66  138.66 ...,  271.64  272.63  274.23]\n"
     ]
    },
    {
     "name": "stderr",
     "output_type": "stream",
     "text": [
      "/Volumes/SANDISK128/Applications/anaconda/envs/py36ECMWF/lib/python3.6/site-packages/ipykernel_launcher.py:5: RuntimeWarning: invalid value encountered in greater\n",
      "  \"\"\"\n"
     ]
    },
    {
     "data": {
      "text/plain": [
       "[<matplotlib.lines.Line2D at 0x10fd133c8>]"
      ]
     },
     "execution_count": 42,
     "metadata": {},
     "output_type": "execute_result"
    },
    {
     "data": {
      "image/png": "[encoded data removed]",
      "text/plain": [
       "<Figure size 432x288 with 1 Axes>"
      ]
     },
     "metadata": {},
     "output_type": "display_data"
    }
   ],
   "source": [
    "dirnc = '../../Data/Weathermast/Met_%s%s%s_Haukeliseter.nc' %(year,month,day)\n",
    "\n",
    "\n",
    "f = netCDF4.Dataset(dirnc, 'r')\n",
    "wind_dir_10m = f.variables['10m_wind_dir_mast1'][:]\n",
    "\n",
    "print(wind_dir_10m)\n",
    "plt.plot(wind_dir_10m)"
   ]
  },
  {
   "cell_type": "code",
   "execution_count": 29,
   "metadata": {},
   "outputs": [
    {
     "data": {
      "text/plain": [
       "[<matplotlib.lines.Line2D at 0x103504b38>]"
      ]
     },
     "execution_count": 29,
     "metadata": {},
     "output_type": "execute_result"
    },
    {
     "data": {
      "image/png": "[encoded data removed]",
      "text/plain": [
       "<Figure size 432x288 with 1 Axes>"
      ]
     },
     "metadata": {},
     "output_type": "display_data"
    }
   ],
   "source": [
    "\n"
   ]
  },
  {
   "cell_type": "code",
   "execution_count": null,
   "metadata": {},
   "outputs": [],
   "source": [
    "        dirnc = '../../Data/Weathermast/Met_%s%s%s_Haukeliseter.nc' %(year,month,day)\n",
    "        txt_dir      = '../../Data/Eklima/'+station\n",
    "        txt_filename = 'obs_'+str(year)+str(month)\n",
    "\n",
    "        #f1 = netCDF4.Dataset('../../Data/Weathermast/Met_%s%s%s_Haukeliseter.nc' %(year,month,day-1))\n",
    "        f = netCDF4.Dataset(dirnc, 'r')\n",
    "\n",
    "\n",
    "\n",
    "        double_fence_acc = f.variables['double_fence_accum'][:]\n",
    "        double_fence_acc_mean = np.nanmean(double_fence_acc,axis=1)\n",
    "\n",
    "        wind_dir_10m = f.variables['10m_wind_dir_mast1'][:]\n",
    "        tid = np.arange(wind_dir_10m.shape[0])\n",
    "\n",
    "        wind_speed_10m = f.variables['10m_wind_speed_mast1'][:]\n",
    "\n",
    "        diff = np.empty(shape=int(double_fence_acc_mean.shape[0]))#/60))\n",
    "        diff[:] =  np.nan\n",
    "\n",
    "        for i in np.arange(double_fence_acc_mean.shape[0]-1):#/60):\n",
    "            diff[int(i)] = double_fence_acc_mean[int(i)+1] -double_fence_acc_mean[int(i)]\n",
    "\n",
    "        print('easterlies:', np.nansum(diff[np.logical_and(wind_dir_10m[:] >= 45,\n",
    "                              wind_dir_10m[:] < 225)]))\n",
    "\n",
    "        print('westerlies:', np.nansum(diff[np.logical_or(np.logical_and(wind_dir_10m[:] >= 225,\n",
    "                                            wind_dir_10m[:] <= 360),\n",
    "                             wind_dir_10m[:] < 45)]))\n",
    "\n",
    "        print('total:', np.nansum(diff[np.logical_and(wind_dir_10m[:] >= 45,\n",
    "                              wind_dir_10m[:] < 225)]) + \\\n",
    "        np.nansum(diff[np.logical_or(np.logical_and(wind_dir_10m[:] >= 225,\n",
    "                                            wind_dir_10m[:] <= 360),\n",
    "                             wind_dir_10m[:] < 45)]))\n",
    "\n",
    "        tt = np.arange(wind_dir_10m.shape[0])\n",
    "        (tt[np.logical_and(wind_dir_10m[:] >= 45,\n",
    "                              wind_dir_10m[:] < 225)])/60\n",
    "\n",
    "        (tt[np.logical_or(np.logical_and(wind_dir_10m[:] >= 225,\n",
    "                                            wind_dir_10m[:] <= 360),\n",
    "                             wind_dir_10m[:] < 45)])/60\n",
    "\n",
    "        k = np.arange(0,wind_dir_10m.shape[0]+10,10)\n",
    "    #    k = np.arange(0,wind_dir_10m.shape[0]+30,30)\n",
    "     #   k = np.arange(0,wind_dir_10m.shape[0]+60,60)\n",
    "\n",
    "        rrdd = np.deg2rad(wind_dir_10m)\n",
    "        wd_deg = []\n",
    "        ws = []\n",
    "        for l in range(k.shape[0]-1):\n",
    "            totrx = 0.0\n",
    "            totry = 0.0\n",
    "            for i in np.arange(k[l], k[l+1]):\n",
    "                totrx = (wind_speed_10m[i]*(math.sin(rrdd[i]))) + totrx\n",
    "                totry = (wind_speed_10m[i]*(math.cos(rrdd[i]))) + totry\n",
    "    \n",
    "\n",
    "\n",
    "            if totry == 0.0:\n",
    "                r_dir = 0\n",
    "            else:\n",
    "                r_dir = math.atan(totrx/totry) # avg r_wind dir\n",
    "            if totry < 0.:\n",
    "                r_dir = r_dir + np.pi\n",
    "\n",
    "            wd_deg.append(np.rad2deg(r_dir))\n",
    "    \n",
    "            ws.append(np.sqrt( (totrx**2 + totry**2)/10**2 ))\n",
    "        for i in range(np.array(wd_deg).shape[0]):\n",
    "            if np.array(wd_deg)[i] < 0:\n",
    "                (wd_deg)[i] = 360. + (wd_deg)[i]\n",
    "\n",
    "        f.close()\n",
    "\n",
    "        Haukeli = pd.read_csv(txt_dir+'/'+txt_filename+'.txt', sep =';', header=19, skipfooter = 2, engine = 'python')\n",
    "\n",
    "        #year  = Haukeli['Year']\n",
    "        #month = Haukeli['Mnth']\n",
    "        #date  = Haukeli['Date']\n",
    "        time  = Haukeli['Time(UTC)']\n",
    "\n",
    "        obsvar = Haukeli['RR_1'].astype(float)         # Precipitation (1 hour); [mm]\n",
    "\n",
    "        obsvar_DD = Haukeli['DD'].astype(float)             # Wind direction (FF); [degrees]\n",
    "        obsvar_FF = Haukeli['FF'].astype(float)             # Wind speed (10 meters above ground);m/s\n",
    "\n",
    "        obsvar0 = valid_values(obsvar)\n",
    "\n",
    "        obsvar0_DD = valid_values(obsvar_DD)\n",
    "        obsvar0_FF = valid_values(obsvar_FF)\n",
    "\n",
    "        RR_1 = np.empty(shape=(obsvar0.shape[0], obsvar0.shape[1]+1))\n",
    "        RR_1[:,:] = np.nan\n",
    "\n",
    "        DD = np.empty(shape=(obsvar0_DD.shape[0], obsvar0_DD.shape[1]+1))\n",
    "        DD[:,:] = np.nan\n",
    "\n",
    "        for d in range(0,obsvar0.shape[0]):\n",
    "            RR_1[int(d)-1,:] = np.append(obsvar0[int(d)-1,:], obsvar0[int(d),0])\n",
    "            DD[int(d)-1,:] = np.append(obsvar0_DD[int(d)-1,:], obsvar0_DD[int(d),0])\n",
    "\n",
    "        print('easterlies:', np.nansum(obsvar0[int(day)-1,np.logical_and(obsvar0_DD[int(day)-1,:] >= 45,\n",
    "                                            obsvar0_DD[int(day)-1,:] < 225)]))\n",
    "\n",
    "        print('westerlies:', np.nansum(obsvar0[int(day)-1,np.logical_or(np.logical_and(obsvar0_DD[int(day)-1,:] >= 225,\n",
    "                                            obsvar0_DD[int(day)-1,:] <= 360),\n",
    "                                            obsvar0_DD[int(day)-1,:] <  45 )]))\n",
    "\n",
    "        print('total:', np.nansum(obsvar0[int(day)-1,np.logical_and(obsvar0_DD[int(day)-1,:] >= 45,\n",
    "                                            obsvar0_DD[int(day)-1,:] < 225)]) + \\\n",
    "        np.nansum(obsvar0[int(day)-1,np.logical_or(np.logical_and(obsvar0_DD[int(day)-1,:] >= 225,\n",
    "                                            obsvar0_DD[int(day)-1,:] <= 360),\n",
    "                                            obsvar0_DD[int(day)-1,:] <  45 )]))\n",
    "\n",
    "        tt = time[0:25]\n",
    "        #tt[np.logical_and(obsvar0_DD[int(day)-1,:] >= 45,\n",
    "         #                                           obsvar0_DD[int(day)-1,:] < 225)]\n",
    "\n",
    "        #tt[np.logical_and(obsvar0_DD[int(day)-1,:] >= 225,\n",
    "         #                                           obsvar0_DD[int(day)-1,:] <= 360,\n",
    "          #                                          obsvar0_DD[int(day)-1,:] <  45 )]\n",
    "\n",
    "\n",
    "\n",
    "\n",
    "##########################################################################################################################\n",
    "        fig = plt.figure(figsize=(8,8))\n",
    "\n",
    "        fig.text(.0, .5, '10m - Wind direction [$^{o}$]', ha='center', va='center', rotation='vertical', fontsize = 16)\n",
    "\n",
    "        ax1 = fig.add_subplot(311)\n",
    "        ax1.plot(obsvar0_DD[int(day)-1,:],'.')\n",
    "        ax1.hlines(270,0,obsvar0_DD.shape[1])\n",
    "        ax1.hlines(180,0,obsvar0_DD.shape[1])\n",
    "        ax1.hlines(90,0,obsvar0_DD.shape[1])\n",
    "        ax1.hlines(45,0,obsvar0_DD.shape[1], linestyles='dashed')\n",
    "        ax1.hlines(225,0,obsvar0_DD.shape[1], linestyles='dashed')\n",
    "\n",
    "        ax1.fill_between(np.arange(obsvar0_DD.shape[1]), 225, 360,  facecolor='gray', alpha=0.5)\n",
    "        ax1.fill_between(np.arange(obsvar0_DD.shape[1]), 0, 45,  facecolor='gray', alpha=0.5)\n",
    "\n",
    "        ax1.set_xlim([0, obsvar0_DD.shape[1]-1])\n",
    "        ax1.set_ylim([0, 360])\n",
    "        ax1.set_xticks(np.arange(0.,obsvar0_DD.shape[1],2))\n",
    "        ax1.set_yticks(np.arange(0,405,45))\n",
    "        fig.suptitle(\"%s-%s-%s\" %(year,month,day), fontsize=14,fontweight='bold')\n",
    "        ax1.tick_params(labelsize=14)\n",
    "        #######################################################################################################\n",
    "        ax2 = fig.add_subplot(312)\n",
    "        ax2.plot(wind_dir_10m,'.')\n",
    "        ax2.hlines(270,0,wind_dir_10m.shape[0])\n",
    "        ax2.hlines(180,0,wind_dir_10m.shape[0])\n",
    "        ax2.hlines(90,0,wind_dir_10m.shape[0])\n",
    "        ax2.hlines(45,0,wind_dir_10m.shape[0], linestyles='dashed')\n",
    "        ax2.hlines(225,0,wind_dir_10m.shape[0], linestyles='dashed')\n",
    "\n",
    "        ax2.fill_between(np.arange(wind_dir_10m.shape[0]), 225, 360,  facecolor='gray', alpha=0.5)\n",
    "        ax2.fill_between(np.arange(wind_dir_10m.shape[0]), 0, 45,  facecolor='gray', alpha=0.5)\n",
    "\n",
    "        ax2.set_xlim([0, wind_dir_10m.shape[0]])\n",
    "        ax2.set_ylim([0, 360])\n",
    "        ax2.set_xticks(np.arange(0,wind_dir_10m.shape[0]+120,120))\n",
    "        ax2.set_xticklabels([0, 2, 4, 6, 8, 10, 12, 14, 16, 18, 20, 22, 24 ])\n",
    "        #ax.set_xticks(np.arange(0,wind_dir_10m.shape[0]+120,120), [0, 2, 4, 6, 8, 10, 12, 14, 16, 18, 20, 22, 24 ])\n",
    "        ax2.set_yticks(np.arange(0,405,45))\n",
    "        ax2.tick_params(labelsize=14)\n",
    "        #######################################################################################################\n",
    "        ax3 = fig.add_subplot(313)\n",
    "        wd_deg = np.asarray(wd_deg)\n",
    "        ax3.plot(wd_deg,'.')\n",
    "        ax3.hlines(270,0,wd_deg.shape[0])\n",
    "        ax3.hlines(180,0,wd_deg.shape[0])\n",
    "        ax3.hlines(90,0,wd_deg.shape[0])\n",
    "        ax3.hlines(45,0,wd_deg.shape[0], linestyles='dashed')\n",
    "        ax3.hlines(225,0,wd_deg.shape[0], linestyles='dashed')\n",
    "\n",
    "        ax3.fill_between(np.arange(wd_deg.shape[0]), 225, 360,  facecolor='gray', alpha=0.5)\n",
    "        ax3.fill_between(np.arange(wd_deg.shape[0]), 0, 45,  facecolor='gray', alpha=0.5)\n",
    "\n",
    "        ax3.set_xlim([0, wd_deg.shape[0]-12])\n",
    "        ax3.set_ylim([0, 360])\n",
    "        ax3.set_xticks(np.arange(0,wd_deg.shape[0]+12,12))\n",
    "        ax3.set_xticklabels([0, 2, 4, 6, 8, 10, 12, 14, 16, 18, 20, 22, 24 ])\n",
    "        ##ax.set_xticks(np.arange(0,wind_dir_10m.shape[0]+120,120), [0, 2, 4, 6, 8, 10, 12, 14, 16, 18, 20, 22, 24 ])\n",
    "        ax3.set_yticks(np.arange(0,405,45))\n",
    "        ax3.tick_params(labelsize=14)\n",
    "\n",
    "        plt.xlabel('time [h]', fontsize=16)\n",
    "        if savefig == 1:\n",
    "            cF.createFolder('%s/10m_wind/' %(figdir))\n",
    "            fig_name = '%s%s%s.png' %(year,month,day)\n",
    "            plt.savefig('%s/10m_wind/%s' % (figdir, fig_name), format = form, bbox_inches='tight')\n",
    "            print('plot saved: %s/%s' %(figdir,fig_name))\n",
    "        else:\n",
    "            plt.show()\n",
    "        plt.close()"
   ]
  },
  {
   "cell_type": "code",
   "execution_count": null,
   "metadata": {},
   "outputs": [],
   "source": [
    "pd.DataFrame((~np.nan(wind_dir_10m)))"
   ]
  },
  {
   "cell_type": "code",
   "execution_count": null,
   "metadata": {
    "collapsed": true
   },
   "outputs": [],
   "source": [
    "a = np.arange(wind_dir_10m.shape[0])"
   ]
  },
  {
   "cell_type": "code",
   "execution_count": null,
   "metadata": {},
   "outputs": [],
   "source": [
    "westerlies_idx = a[np.logical_or(np.logical_and((wind_dir_rolling[8,:] >= 202.5), \n",
    "                             (wind_dir_rolling[8,:] <= 360.)), \n",
    "                   wind_dir_rolling[8,:] <22.5)]\n",
    "\n",
    "easterlies_idx = a[np.logical_and(wind_dir_rolling[8,:] >= 22.5,\n",
    "                              wind_dir_rolling[8,:] < 202.5)]"
   ]
  },
  {
   "cell_type": "code",
   "execution_count": null,
   "metadata": {
    "collapsed": true
   },
   "outputs": [],
   "source": [
    "sub_idx = []\n",
    "\n",
    "for i in range(0,westerlies_idx.shape[0]-1):\n",
    "#for i in range(0,76):\n",
    "   # print(i)\n",
    "    if westerlies_idx[i]+1 == westerlies_idx[i+1]:\n",
    "        continue\n",
    "        #print( westerlies_idx[i], westerlies_idx[i+1])\n",
    "    else:\n",
    "        #print(i)\n",
    "        sub_idx.append(i)"
   ]
  },
  {
   "cell_type": "code",
   "execution_count": null,
   "metadata": {
    "collapsed": true
   },
   "outputs": [],
   "source": [
    "westerly = []\n",
    "easterly = []\n",
    "for i in np.arange(0,np.array(sub_idx).shape[0]+1):\n",
    "#for i in np.arange(1,5):\n",
    "  #  print(i)\n",
    "    if i == 0:\n",
    "        westerly_duration = (westerlies_idx[ sub_idx[0]] - westerlies_idx[0])\n",
    "    elif i == np.array(sub_idx).shape[0]:\n",
    "        westerly_duration = (westerlies_idx[-1] - westerlies_idx[ sub_idx[np.array(sub_idx).shape[0]-1]+1])\n",
    "    else:\n",
    "        westerly_duration = (westerlies_idx[ sub_idx[i]] - westerlies_idx[ sub_idx[i-1]+1])\n",
    "    if westerly_duration >= 28:\n",
    "        if i == 0:\n",
    "            westerly = np.concatenate((westerly, westerlies_idx[ 0: sub_idx[0]+1]))\n",
    "#            print(westerly_duration, RR_westerly)\n",
    "        elif i == np.array(sub_idx).shape[0]:\n",
    "            westerly = np.concatenate((westerly, westerlies_idx[ sub_idx[np.array(sub_idx).shape[0]-1]+1 : ]))\n",
    " #           print(westerly_duration, RR_westerly)\n",
    "        else:\n",
    "            westerly = np.concatenate((westerly, westerlies_idx[ sub_idx[i-1]+1 : sub_idx[i]+1]))\n",
    "  #          print(westerly_duration, RR_westerly)\n",
    "    if westerly_duration < 28:\n",
    "       # print(westerly_duration)\n",
    "        easterly = np.concatenate((easterly,westerlies_idx[ sub_idx[i-1]+1 : sub_idx[i]+1]))\n",
    "\n",
    "westerly = westerly.astype(int)\n",
    "easterly = easterly.astype(int)"
   ]
  },
  {
   "cell_type": "code",
   "execution_count": null,
   "metadata": {},
   "outputs": [],
   "source": [
    "seconds = 495\n",
    "m, s = divmod(seconds, 60)\n",
    "h, m = divmod(m, 60)\n",
    "\n",
    "print('{:d}:{:02d}:{:02d}'.format(h, m, s)) # Python 3"
   ]
  },
  {
   "cell_type": "code",
   "execution_count": null,
   "metadata": {},
   "outputs": [],
   "source": [
    "easterlies_idx.shape[0]+westerly.shape[0]+easterly.shape[0]"
   ]
  },
  {
   "cell_type": "code",
   "execution_count": null,
   "metadata": {},
   "outputs": [],
   "source": [
    "np.nansum(diff[easterlies_idx]) + np.nansum(diff[easterly])"
   ]
  },
  {
   "cell_type": "code",
   "execution_count": null,
   "metadata": {},
   "outputs": [],
   "source": [
    "np.nansum(diff[westerly])"
   ]
  },
  {
   "cell_type": "code",
   "execution_count": null,
   "metadata": {},
   "outputs": [],
   "source": [
    "np.nansum(diff[easterlies_idx]) + np.nansum(diff[easterly])+np.nansum(diff[westerly])"
   ]
  },
  {
   "cell_type": "code",
   "execution_count": null,
   "metadata": {},
   "outputs": [],
   "source": [
    "sub_idx"
   ]
  },
  {
   "cell_type": "code",
   "execution_count": null,
   "metadata": {
    "collapsed": true
   },
   "outputs": [],
   "source": []
  }
 ],
 "metadata": {
  "kernelspec": {
   "display_name": "Python 3",
   "language": "python",
   "name": "python3"
  },
  "language_info": {
   "codemirror_mode": {
    "name": "ipython",
    "version": 3
   },
   "file_extension": ".py",
   "mimetype": "text/x-python",
   "name": "python",
   "nbconvert_exporter": "python",
   "pygments_lexer": "ipython3",
   "version": "3.6.5"
  }
 },
 "nbformat": 4,
 "nbformat_minor": 2
}
