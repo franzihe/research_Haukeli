{
 "cells": [
  {
   "cell_type": "code",
   "execution_count": 31,
   "metadata": {},
   "outputs": [],
   "source": [
    "import sys\n",
    "sys.path.append('/uio/kant/geo-metos-u7/franzihe/Documents/Thesis/Python')\n",
    "import netCDF4\n",
    "import datetime\n",
    "import calendar\n",
    "import pandas as pd\n",
    "import numpy as np\n",
    "import matplotlib.pyplot as plt\n",
    "from matplotlib.gridspec import GridSpec\n",
    "\n",
    "\n",
    "from scipy.integrate import simps\n",
    "import matplotlib as mpl\n",
    "\n",
    "#import fill_values as fv\n",
    "#import calc_date as cd\n",
    "import save_fig as sF\n",
    "import createFolder as cF\n",
    "#import plt_ce_image as im\n",
    "#import read_MRR as pMRR"
   ]
  },
  {
   "cell_type": "code",
   "execution_count": 32,
   "metadata": {},
   "outputs": [],
   "source": [
    "def get_dayname(year, mon, day):\n",
    "    yr = int(year)\n",
    "    mo = int(mon)\n",
    "    dy = int(day)\n",
    "    my_date = datetime.date(yr,mo,dy)\n",
    "    calday = calendar.day_name[my_date.weekday()]\n",
    "    calmon = calendar.month_abbr[mo]\n",
    "\n",
    "    return(calday, calmon);"
   ]
  },
  {
   "cell_type": "code",
   "execution_count": 33,
   "metadata": {},
   "outputs": [],
   "source": [
    "year = '2016'\n",
    "month = '11'\n",
    "#t = ['17', '18', '19', '20', '21', '22', '23', '24', '25', '26', '27']\n",
    "t = np.arange(11,19)\n",
    "forecasttime = '00'\n",
    "stn_name = 'Haukeliseter'\n",
    "all_em = 0\n",
    "em0    = 1\n",
    "\n",
    "savefig = 1\n",
    "\n",
    "if all_em == 1:\n",
    "    layers = 'sfc_hybrid5_allEM'\n",
    "elif em0 == 1:\n",
    "    layers = 'hybrid65_EM0'"
   ]
  },
  {
   "cell_type": "code",
   "execution_count": 34,
   "metadata": {},
   "outputs": [],
   "source": [
    "main_dir       = '../../Data/MEPS'\n",
    "dirnc          = '%s/%s/%s%s/%s_%s' %(main_dir,stn_name,year,month,layers,forecasttime)"
   ]
  },
  {
   "cell_type": "code",
   "execution_count": 35,
   "metadata": {},
   "outputs": [],
   "source": [
    "if savefig ==1:\n",
    "    form = 'png'\n",
    "    figdir = '../../Figures/MEPS'"
   ]
  },
  {
   "cell_type": "code",
   "execution_count": 36,
   "metadata": {},
   "outputs": [],
   "source": [
    "year         = 2016\n",
    "\n",
    "### Upslope\n",
    "# Oct 2016\n",
    "#month = 10\n",
    "#t     = [28]\n",
    "\n",
    "# Nov 2016\n",
    "month = 11\n",
    "t = np.arange(11,19)\n",
    "t = np.append(t,[28,29])\n",
    "\n",
    "# Dez 2016\n",
    "#month = 12\n",
    "#t = np.arange(21,28)\n",
    "\n",
    "#year         = 2017\n",
    "# Jan 2017\n",
    "#month = '01'\n",
    "#t = [2,3,4,5,6,7,8, 9, 10,11,12,13,28,29]\n",
    "\n",
    "# Feb 2017\n",
    "#month = '02'\n",
    "#t = np.arange(2,5)\n",
    "\n"
   ]
  },
  {
   "cell_type": "code",
   "execution_count": 37,
   "metadata": {},
   "outputs": [],
   "source": [
    "Rd = 287.    # gas constant for dry air [J kg^-1 K^-1]"
   ]
  },
  {
   "cell_type": "code",
   "execution_count": 38,
   "metadata": {},
   "outputs": [],
   "source": [
    "height_ml = dict()"
   ]
  },
  {
   "cell_type": "code",
   "execution_count": 39,
   "metadata": {},
   "outputs": [],
   "source": [
    "def plt_cloud_content(time_arr,height_ml,cloud_content_ml,cc):\n",
    "    \n",
    "    ##### define things which are set for all #####\n",
    "    champ = 255.\n",
    "    vert_col = np.array([197,197,197])/champ    # vertical line for day marker\n",
    "\n",
    "    \n",
    "    #var_label = 'SWC [g m$^{-3}$]'\n",
    "    var_label = 'Cloud content [g m$^{-3}$]'\n",
    "    label_txt = 'height [km]'\n",
    "\n",
    "    xmax = 24.\n",
    "    ymax = 12500.\n",
    "\n",
    "    xdays = ['%s-%s-%s' %(year,month,ini_day), '', \n",
    "        6, '',12, '', 18, '',\n",
    "        '%s-%s-%s' %(year,month,ini_day+1),  '',\n",
    "        6, '', 12, '', 18, '',\n",
    "        '%s-%s-%s' %(year,month,ini_day+2)]\n",
    "    \n",
    "    yticks3 = np.arange(0,14000.,2000)\n",
    "    yticks = yticks3\n",
    "    \n",
    "    \n",
    "    \n",
    "    #levels = np.arange(0,1.51,0.01)\n",
    "    levels = np.arange(0.,0.1,0.001)\n",
    "    levels = np.arange(0., np.nanmax(cloud_content_ml),0.0001)\n",
    "\n",
    "    #cb_ticks = []\n",
    "    cb_ticks = levels[::30]\n",
    "    \n",
    "    \n",
    "#    if np.max(cloud_content_ml) < 0.0001:\n",
    " #       print('cloud content < 0.001')\n",
    "  #      return\n",
    "   # else:\n",
    "        \n",
    "        \n",
    "    ##### begin figure #####\n",
    "    fig =plt.figure(figsize=(10,3))\n",
    "\n",
    "    gs = GridSpec(2,3)\n",
    "    ax0 = plt.subplot(gs[0,:-1])\n",
    "    im0 = ax0.contourf(time_arr,height_ml,cloud_content_ml,#levels, \n",
    "            cmap='jet', extend = 'max', alpha = 1.0, \n",
    "           #vmin = 0, vmax = 1.5, \n",
    "            origin = 'lower')\n",
    "    ax0.axis([time_arr[0,0], time_arr[48,0], 0., ymax])\n",
    "    ax0.set_xticks( np.arange(time_arr[0,0],time_arr[49,0],3*60*60))\n",
    "    #ax0.get_xaxis().set_tick_params(width=5)\n",
    "    ax0.set_xticklabels(xdays)\n",
    "\n",
    "    ax0.set_yticks(yticks)\n",
    "    ax0.set_ylabel(label_txt)#, fontsize = label_fs-2)\n",
    "\n",
    "#ax.xaxis.grid()\n",
    "# Vertical line to show end of day\n",
    "    ax0.axvline(time_arr[0,0],color = vert_col, linewidth = 3)\n",
    "    ax0.axvline(time_arr[24,0],color = vert_col, linewidth = 3)\n",
    "    ax0.axvline(time_arr[48,0],color = vert_col, linewidth = 3)\n",
    "\n",
    "\n",
    "    ax31 = plt.subplot(gs[1,-1])\n",
    "    ax31.axis('off')\n",
    "    cbaxes = fig.add_axes([0.685, .275, 0.017, 0.66])  # [left, bottom, width, height] \n",
    "    cbar = fig.colorbar(im0, cax=cbaxes, #ticks = cb_ticks, \n",
    "                    orientation = 'vertical')#, pad=0.20, fraction = 0.08, shrink = 2.5)\n",
    "    cbar.ax.tick_params()#labelsize= tick_fs-2)\n",
    "    cbar.ax.set_ylabel(var_label)#,fontsize = label_fs-2)\n",
    "\n",
    "    \n",
    "\n",
    "    ax0.set_title('Cloud content MEPS$_{CONTROL}$')\n",
    "    \n",
    "    \n",
    "    ax0.text(0.02,0.95, #'SWC$_{Retrieval\\,\\,3h}$' ,\n",
    "                 cc ,\n",
    "            verticalalignment ='top', horizontalalignment='left',\n",
    "             transform = ax0.transAxes,\n",
    "             color = 'k', #ontsize = im.fontsize,\n",
    "             bbox={'facecolor':'white','alpha':1.,'pad':3})\n",
    "    \n",
    "#    lgd = plt.tight_layout(pad=1.4, w_pad=1.5, h_pad=1.5)\n",
    " #   return(lgd)"
   ]
  },
  {
   "cell_type": "code",
   "execution_count": 40,
   "metadata": {
    "scrolled": true
   },
   "outputs": [
    {
     "name": "stdout",
     "output_type": "stream",
     "text": [
      "saved: ../../Figures/MEPS/cloud_content/20161111_water_ice.png\n",
      "saved: ../../Figures/MEPS/cloud_content/20161111_water.png\n"
     ]
    },
    {
     "name": "stderr",
     "output_type": "stream",
     "text": [
      "/opt/uio/modules/packages/python/Anaconda3/envs/analysis/lib/python3.6/site-packages/ipykernel_launcher.py:90: RuntimeWarning: invalid value encountered in less\n"
     ]
    },
    {
     "name": "stdout",
     "output_type": "stream",
     "text": [
      "saved: ../../Figures/MEPS/cloud_content/20161111_ice.png\n",
      "saved: ../../Figures/MEPS/cloud_content/20161112_water_ice.png\n",
      "saved: ../../Figures/MEPS/cloud_content/20161112_water.png\n",
      "saved: ../../Figures/MEPS/cloud_content/20161112_ice.png\n",
      "saved: ../../Figures/MEPS/cloud_content/20161113_water_ice.png\n",
      "saved: ../../Figures/MEPS/cloud_content/20161113_water.png\n",
      "saved: ../../Figures/MEPS/cloud_content/20161113_ice.png\n",
      "saved: ../../Figures/MEPS/cloud_content/20161114_water_ice.png\n",
      "saved: ../../Figures/MEPS/cloud_content/20161114_water.png\n",
      "saved: ../../Figures/MEPS/cloud_content/20161114_ice.png\n",
      "saved: ../../Figures/MEPS/cloud_content/20161115_water_ice.png\n",
      "saved: ../../Figures/MEPS/cloud_content/20161115_water.png\n",
      "saved: ../../Figures/MEPS/cloud_content/20161115_ice.png\n",
      "saved: ../../Figures/MEPS/cloud_content/20161116_water_ice.png\n",
      "saved: ../../Figures/MEPS/cloud_content/20161116_water.png\n",
      "saved: ../../Figures/MEPS/cloud_content/20161116_ice.png\n",
      "saved: ../../Figures/MEPS/cloud_content/20161117_water_ice.png\n",
      "saved: ../../Figures/MEPS/cloud_content/20161117_water.png\n",
      "saved: ../../Figures/MEPS/cloud_content/20161117_ice.png\n",
      "saved: ../../Figures/MEPS/cloud_content/20161118_water_ice.png\n",
      "saved: ../../Figures/MEPS/cloud_content/20161118_water.png\n",
      "saved: ../../Figures/MEPS/cloud_content/20161118_ice.png\n",
      "saved: ../../Figures/MEPS/cloud_content/20161128_water_ice.png\n",
      "saved: ../../Figures/MEPS/cloud_content/20161128_water.png\n",
      "saved: ../../Figures/MEPS/cloud_content/20161128_ice.png\n",
      "saved: ../../Figures/MEPS/cloud_content/20161129_water_ice.png\n",
      "saved: ../../Figures/MEPS/cloud_content/20161129_water.png\n",
      "saved: ../../Figures/MEPS/cloud_content/20161129_ice.png\n"
     ]
    }
   ],
   "source": [
    "\n",
    "## MEPS ######\n",
    "for day in t:\n",
    "    fn = netCDF4.Dataset('%s/%s%s%s_%s.nc' %(dirnc,year,month,day,forecasttime), 'r')\n",
    "\n",
    "    # Read in time to know initialisation time (plotting)    \n",
    "    time_ml = fn.variables['time']\n",
    "    ini_day = datetime.datetime.utcfromtimestamp(time_ml[:][0]).day    # day of initialisation\n",
    "    ini_hh  = datetime.datetime.utcfromtimestamp(time_ml[:][0]).hour   # first hour of initialisation\n",
    "    calday, calmon = get_dayname(year, month, ini_day)\n",
    "    \n",
    "    \n",
    "    # layer thickness to calculate height\n",
    "    thickness_ml     = fn.variables['layer_thickness']\n",
    "    h_above = []\n",
    "    h_above.append(np.zeros(thickness_ml[:,:].shape[0]))\n",
    "    th_arr = np.nansum([np.asarray(h_above)[:,0], thickness_ml[:,0]], axis = 0)\n",
    "    h_above.append(th_arr)\n",
    "    for i in range(2,thickness_ml[:,:].shape[1]):\n",
    "        th_arr = np.nansum([h_above[i-1], thickness_ml[:,i-1]], axis = 0)\n",
    "        h_above.append(th_arr)\n",
    "    height_ml = np.transpose(h_above) \n",
    "\n",
    "    pressure_ml = fn.variables['pressure_ml'][:]\n",
    "    atmo_CCW_content_ml = fn.variables['atmosphere_cloud_condensed_water_content_ml'][:]\n",
    "    atmo_CI_content_ml = fn.variables['atmosphere_cloud_ice_content_ml'][:]\n",
    "\n",
    "    ####\n",
    "    # Read in the pressure, and the air temperature to calculate ice amount from [kg/kg] to [kg/m^3]\n",
    "    air_temp_ml = fn.variables['air_temperature_ml'][:]\n",
    "    # calculate density at each level\n",
    "    density_ml = pressure_ml/(Rd*air_temp_ml)\n",
    "    # convert from [kg/kg] to [kg/m^3]\n",
    "    atmo_CCW_content_ml = (atmo_CCW_content_ml*density_ml)\n",
    "    atmo_CI_content_ml = (atmo_CI_content_ml*density_ml)\n",
    "    # convert the snow amount from [kg/m^2] into [g/m^2] by multiply with 1000\n",
    "    atmo_CCW_content_ml = (atmo_CCW_content_ml*1000.)\n",
    "    atmo_CI_content_ml = (atmo_CI_content_ml*1000.)\n",
    "\n",
    "    cloud_content_ml = atmo_CCW_content_ml + atmo_CI_content_ml\n",
    "\n",
    "    ####\n",
    "    # create 2d time array\n",
    "    time_arr = np.repeat(time_ml, pressure_ml.shape[1], axis = 0)\n",
    "    time_arr = np.reshape(time_arr, (-1, pressure_ml.shape[1]))\n",
    "\n",
    "    #####\n",
    "    # Plot the cloud content\n",
    "    cc = '(water+ice)'\n",
    "    x1, x2 = np.where(cloud_content_ml[:,:] <0.)\n",
    "    cloud_content_ml[x1[:],x2[:]] = np.nan\n",
    "\n",
    "    #lgd = \n",
    "    plt_cloud_content(time_arr,height_ml,cloud_content_ml,cc)\n",
    "\n",
    "\n",
    "    \n",
    "    if savefig ==1:\n",
    "        fig_name = '%s%s%s_%s.%s' %(year,month,ini_day,cc,form)\n",
    "        cF.createFolder('%s/cloud_content/%s%s' %(figdir,year,month))\n",
    "#    plt.savefig('%s/cloud_content/%s' % (figdir, fig_name), format = form,#bbox_extra_artists=(lgd,), \n",
    " #               bbox_inches='tight')\n",
    "        sF.save_figure_portrait('%s/cloud_content/%s%s' %(figdir,year,month), fig_name, form)\n",
    "        print('saved: %s/cloud_content/%s%s/%s' %(figdir,year,month, fig_name))\n",
    "    else:\n",
    "        plt.show()\n",
    "    plt.close()\n",
    "    \n",
    "    ##\n",
    "    cc = 'water'\n",
    "    x1, x2 = np.where(atmo_CI_content_ml[:,:] <0.)\n",
    "    atmo_CI_content_ml[x1[:],x2[:]] = np.nan\n",
    "\n",
    "    plt_cloud_content(time_arr,height_ml,atmo_CCW_content_ml,cc)\n",
    "\n",
    "    \n",
    "    if savefig ==1:\n",
    "        fig_name = '%s%s%s_%s.%s' %(year,month,ini_day,cc,form)\n",
    "        cF.createFolder('%s/cloud_content/%s%s' %(figdir,year,month))\n",
    "#    plt.savefig('%s/cloud_content/%s' % (figdir, fig_name), format = form,#bbox_extra_artists=(lgd,), \n",
    " #               bbox_inches='tight')\n",
    "        sF.save_figure_portrait('%s/cloud_content/%s%s' %(figdir,year,month), fig_name, form)\n",
    "        print('saved: %s/cloud_content/%s%s/%s' %(figdir,year,month, fig_name))\n",
    "    else:\n",
    "        plt.show()\n",
    "    plt.close()\n",
    "\n",
    "    ##\n",
    "    cc = 'ice'\n",
    "    x1, x2 = np.where(atmo_CI_content_ml[:,:] <0.)\n",
    "    atmo_CI_content_ml[x1[:],x2[:]] = np.nan\n",
    "\n",
    "    plt_cloud_content(time_arr,height_ml,atmo_CI_content_ml,cc)\n",
    "\n",
    "    \n",
    "    if savefig ==1:\n",
    "        fig_name = '%s%s%s_%s.%s' %(year,month,ini_day,cc,form)\n",
    "        cF.createFolder('%s/cloud_content/%s%s' %(figdir,year,month))\n",
    "#    plt.savefig('%s/cloud_content/%s' % (figdir, fig_name), format = form,#bbox_extra_artists=(lgd,), \n",
    " #               bbox_inches='tight')\n",
    "        sF.save_figure_portrait('%s/cloud_content/%s%s' %(figdir,year,month), fig_name, form)\n",
    "        print('saved: %s/cloud_content/%s%s/%s' %(figdir,year,month, fig_name))\n",
    "    else:\n",
    "        plt.show()\n",
    "    plt.close()"
   ]
  },
  {
   "cell_type": "code",
   "execution_count": 41,
   "metadata": {},
   "outputs": [
    {
     "data": {
      "text/plain": [
       "11"
      ]
     },
     "execution_count": 41,
     "metadata": {},
     "output_type": "execute_result"
    }
   ],
   "source": [
    "month"
   ]
  },
  {
   "cell_type": "code",
   "execution_count": 42,
   "metadata": {},
   "outputs": [
    {
     "data": {
      "text/plain": [
       "2016"
      ]
     },
     "execution_count": 42,
     "metadata": {},
     "output_type": "execute_result"
    }
   ],
   "source": [
    "year\n"
   ]
  },
  {
   "cell_type": "code",
   "execution_count": null,
   "metadata": {},
   "outputs": [],
   "source": []
  }
 ],
 "metadata": {
  "kernelspec": {
   "display_name": "Python 3",
   "language": "python",
   "name": "python3"
  },
  "language_info": {
   "codemirror_mode": {
    "name": "ipython",
    "version": 3
   },
   "file_extension": ".py",
   "mimetype": "text/x-python",
   "name": "python",
   "nbconvert_exporter": "python",
   "pygments_lexer": "ipython3",
   "version": "3.6.7"
  }
 },
 "nbformat": 4,
 "nbformat_minor": 2
}
