{
 "cells": [
  {
   "cell_type": "code",
   "execution_count": 1,
   "metadata": {},
   "outputs": [],
   "source": [
    "                                                                                                                                                                                                                                                                                                                                                                                                                                                                                                                                                                                                                                                                                                                                                                                                                                                                                                                                                                                                                                                                                                                                                                                                                                                                                                                                                                                                                                                                                                                                                                                                                                                                                                                                                                                                                                                                                                                                                                                                                                                                                                                                                                                                                                                                                                                                                                                                                                                                                                                                                                                                                                                                                                                                                                                                                                                                                                                                                                                                                                                                                                                                                                                                                                                        import zipfile"
   ]
  },
  {
   "cell_type": "code",
   "execution_count": 2,
   "metadata": {},
   "outputs": [],
   "source": [
    "sourcefolder = '../../../../Downloads'\n",
    "targetfolder = '../../Data/CloudSat/2C_Precip'\n",
    "f = ['PRECIP-COLUMN', 'SNOW-PROFILE']\n",
    "t = ['2016356112357_56655', \n",
    "      '2016357102821_56669',\n",
    "      '2016358111138_56684',\n",
    "      '2016359101602_56698',\n",
    "      '2016360105918_56713',\n",
    "      '2016361100342_56727']"
   ]
  },
  {
   "cell_type": "raw",
   "metadata": {},
   "source": [
    "for file in f:\n",
    "    if file == 'PRECIP-COLUMN':\n",
    "        processing = 'P2'\n",
    "    elif file == 'SNOW-PROFILE':\n",
    "        processing = 'P'\n",
    "    \n",
    "    for day in t:\n",
    "        with zipfile.ZipFile(\"%s/%s_CS_2C-%s_GRANULE_%s_R04_E06.hdf.zip\" %(sourcefolder,day,file,processing),\"r\") as zip_ref:\n",
    "            zip_ref.extractall(targetfolder)"
   ]
  },
  {
   "cell_type": "markdown",
   "metadata": {},
   "source": [
    "https://www.science-emergence.com/Articles/How-to-read-a-MODIS-HDF-file-using-python-/\n",
    "\n",
    "https://www.science-emergence.com/Articles/How-to-read-CloudSat-2B-GEOPROF-GRANULE-HDF4-file-using-python-and-pyhdf-/"
   ]
  },
  {
   "cell_type": "code",
   "execution_count": 3,
   "metadata": {
    "scrolled": true
   },
   "outputs": [],
   "source": [
    "### Import python libraries\n",
    "from pyhdf.SD import SD, SDC\n",
    "from pyhdf.HDF import *\n",
    "from pyhdf.VS import *\n",
    "import numpy as np\n",
    "import pandas as pd\n",
    "import matplotlib.pyplot as plt\n",
    "from mpl_toolkits.basemap import Basemap\n",
    "from mpl_toolkits.basemap import shiftgrid\n",
    "\n",
    "\n",
    "import pprint"
   ]
  },
  {
   "cell_type": "code",
   "execution_count": 4,
   "metadata": {},
   "outputs": [],
   "source": [
    "for file in f:\n",
    "    if file == 'PRECIP-COLUMN':\n",
    "        processing = 'P2'\n",
    "    elif file == 'SNOW-PROFILE':\n",
    "        processing = 'P'\n",
    "for day in t:\n",
    "    file_path = targetfolder\n",
    "    file_name = '/%s_CS_2C-%s_GRANULE_%s_R04_E06.hdf' %(day,file,processing)"
   ]
  },
  {
   "cell_type": "code",
   "execution_count": 5,
   "metadata": {},
   "outputs": [
    {
     "data": {
      "text/plain": [
       "'../../Data/CloudSat/2C_Precip/2016361100342_56727_CS_2C-SNOW-PROFILE_GRANULE_P_R04_E06.hdf'"
      ]
     },
     "execution_count": 5,
     "metadata": {},
     "output_type": "execute_result"
    }
   ],
   "source": [
    "file_path+file_name"
   ]
  },
  {
   "cell_type": "code",
   "execution_count": 6,
   "metadata": {
    "scrolled": true
   },
   "outputs": [
    {
     "name": "stdout",
     "output_type": "stream",
     "text": [
      "[('Profile_time', '', 7, 20679, 1, 0, 4, 1962, 0),\n",
      " ('UTC_start', '', 8, 1, 1, 0, 4, 1962, 0),\n",
      " ('TAI_start', '', 9, 1, 1, 0, 8, 1962, 0),\n",
      " ('Latitude', '', 10, 20679, 1, 0, 4, 1962, 0),\n",
      " ('Longitude', '', 11, 20679, 1, 0, 4, 1962, 0),\n",
      " ('DEM_elevation', '', 13, 20679, 1, 0, 2, 1962, 0),\n",
      " ('Vertical_binsize', '', 14, 1, 1, 0, 4, 1962, 0),\n",
      " ('Data_quality', '', 15, 20679, 1, 0, 1, 1962, 0),\n",
      " ('Data_status', '', 16, 20679, 1, 0, 1, 1962, 0),\n",
      " ('Data_targetID', '', 17, 20679, 1, 0, 1, 1962, 0),\n",
      " ('snow_retrieval_status', '', 18, 20679, 1, 0, 1, 1962, 0),\n",
      " ('norm_chi_square', '', 19, 20679, 1, 0, 4, 1962, 0),\n",
      " ('snowfall_rate_sfc', '', 32, 20679, 1, 0, 4, 1962, 0),\n",
      " ('snowfall_rate_sfc_uncert', '', 33, 20679, 1, 0, 4, 1962, 0),\n",
      " ('snowfall_rate_sfc_confidence', '', 34, 20679, 1, 0, 1, 1962, 0),\n",
      " ('nray:2C-SNOW-PROFILE', 'DimVal0.1', 203, 1, 1, 0, 4, 1962, 0),\n",
      " ('nbin:2C-SNOW-PROFILE', 'DimVal0.1', 205, 1, 1, 0, 4, 1962, 0)]\n"
     ]
    }
   ],
   "source": [
    "### Read vdata\n",
    "\n",
    "# Retrieve information about all data stored using HDF vdata model:\n",
    "f = HDF(file_path+file_name, SDC.READ) \n",
    "vs = f.vstart()\n",
    "\n",
    "data_info_list = vs.vdatainfo()\n",
    "\n",
    "pprint.pprint( data_info_list )\n",
    "\n",
    "vs.end() # terminate the vdata interface\n",
    "f.close()"
   ]
  },
  {
   "cell_type": "code",
   "execution_count": 8,
   "metadata": {},
   "outputs": [
    {
     "name": "stdout",
     "output_type": "stream",
     "text": [
      "Nb pixels:  20679\n",
      "Lat min, Lat max:  [-81.82369232177734] [81.82267761230469]\n",
      "[-69.22298431396484]\n",
      "[-69.23181915283203]\n",
      "[-69.24064636230469]\n",
      "[-69.24948120117188]\n",
      "[-69.25831604003906]\n",
      "[-69.26714324951172]\n",
      "[-69.27597045898438]\n",
      "[-69.28479766845703]\n",
      "[-69.29362487792969]\n",
      "[-69.30245208740234]\n",
      "[-69.311279296875]\n",
      "[-69.32010650634766]\n",
      "[-69.32893371582031]\n",
      "[-69.33775329589844]\n",
      "[-69.3465805053711]\n",
      "{}\n"
     ]
    }
   ],
   "source": [
    "### Read latitudes and longitudes, profile time\n",
    "f = HDF(file_path+file_name, SDC.READ) \n",
    "vs = f.vstart()\n",
    "\n",
    "vdata_lat = vs.attach('Latitude')\n",
    "vdata_long = vs.attach('Longitude')\n",
    "\n",
    "vdata_profile_time = vs.attach('Profile_time')\n",
    "\n",
    "\n",
    "\n",
    "lat = vdata_lat[:]\n",
    "long = vdata_long[:]\n",
    "\n",
    "profile_time = vdata_profile_time[:]\n",
    "\n",
    "\n",
    "\n",
    "print('Nb pixels: ', len(lat))\n",
    "print('Lat min, Lat max: ',min(lat),max(lat))\n",
    "\n",
    "for i in range(15): # sample\n",
    "    print(lat[i])\n",
    "\n",
    "# to get vdata latitude info\n",
    "print( vdata_lat.attrinfo() )        \n",
    "        \n",
    "vdata_lat.detach() # \"close\" the vdata\n",
    "vdata_long.detach() # \"close\" the vdata\n",
    "vs.end() # terminate the vdata interface\n",
    "f.close()\n",
    "\n",
    "\n"
   ]
  },
  {
   "cell_type": "code",
   "execution_count": 9,
   "metadata": {},
   "outputs": [
    {
     "data": {
      "text/plain": [
       "(20679, 1)"
      ]
     },
     "execution_count": 9,
     "metadata": {},
     "output_type": "execute_result"
    }
   ],
   "source": [
    "np.array(lat).shape"
   ]
  },
  {
   "cell_type": "code",
   "execution_count": 10,
   "metadata": {},
   "outputs": [
    {
     "data": {
      "text/plain": [
       "(20679, 1)"
      ]
     },
     "execution_count": 10,
     "metadata": {},
     "output_type": "execute_result"
    }
   ],
   "source": [
    "np.array(long).shape"
   ]
  },
  {
   "cell_type": "code",
   "execution_count": null,
   "metadata": {},
   "outputs": [],
   "source": []
  },
  {
   "cell_type": "code",
   "execution_count": 11,
   "metadata": {},
   "outputs": [
    {
     "name": "stdout",
     "output_type": "stream",
     "text": [
      "(9, 2)\n"
     ]
    }
   ],
   "source": [
    "# Read SDS data\n",
    "file = SD(file_path+file_name, SDC.READ)\n",
    "pprint.pprint( file.info() )  # number of sds and metadata\n"
   ]
  },
  {
   "cell_type": "code",
   "execution_count": 12,
   "metadata": {},
   "outputs": [
    {
     "name": "stdout",
     "output_type": "stream",
     "text": [
      "{0: 'Height',\n",
      " 1: 'snowfall_rate',\n",
      " 2: 'snowfall_rate_uncert',\n",
      " 3: 'log_N0',\n",
      " 4: 'log_N0_uncert',\n",
      " 5: 'log_lambda',\n",
      " 6: 'log_lambda_uncert',\n",
      " 7: 'snow_water_content',\n",
      " 8: 'snow_water_content_uncert'}\n"
     ]
    }
   ],
   "source": [
    "# Get and print all sds names\n",
    "datasets_dic = file.datasets()\n",
    "\n",
    "sds_dic = {}\n",
    "for key, value in datasets_dic.items():\n",
    "    sds_dic[value[3]] = key\n",
    "\n",
    "pprint.pprint( sds_dic )"
   ]
  },
  {
   "cell_type": "code",
   "execution_count": 13,
   "metadata": {},
   "outputs": [
    {
     "name": "stdout",
     "output_type": "stream",
     "text": [
      "('snow_water_content', 2, [20679, 125], 5, 1)\n",
      "{'_FillValue': 0.0}\n",
      "(20679, 125)\n"
     ]
    }
   ],
   "source": [
    "# Read snow water content\n",
    "SWC_obj = file.select('snow_water_content') # select SWC\n",
    "SWC = SWC_obj.get()\n",
    "SWC_info = SWC_obj.info()\n",
    "\n",
    "print( SWC_info )\n",
    "pprint.pprint( SWC_obj.attributes() )\n",
    "\n",
    "print( SWC.shape )"
   ]
  },
  {
   "cell_type": "code",
   "execution_count": 14,
   "metadata": {},
   "outputs": [
    {
     "name": "stdout",
     "output_type": "stream",
     "text": [
      "('snowfall_rate', 2, [20679, 125], 5, 1)\n",
      "{'_FillValue': 0.0}\n",
      "(20679, 125)\n"
     ]
    }
   ],
   "source": [
    "# Read snowfall rate \n",
    "snowfall_rate_obj = file.select('snowfall_rate') # select snowfall_rate\n",
    "snowfall_rate = snowfall_rate_obj.get()\n",
    "snowfall_rate_info = snowfall_rate_obj.info()\n",
    "\n",
    "print( snowfall_rate_info )\n",
    "pprint.pprint( snowfall_rate_obj.attributes() )\n",
    "\n",
    "print( snowfall_rate.shape )"
   ]
  },
  {
   "cell_type": "code",
   "execution_count": 15,
   "metadata": {},
   "outputs": [
    {
     "name": "stdout",
     "output_type": "stream",
     "text": [
      "('Height', 2, [20679, 125], 22, 1)\n",
      "{'_FillValue': -9999}\n",
      "(20679, 125)\n"
     ]
    }
   ],
   "source": [
    "# Read height\n",
    "height_obj = file.select('Height')\n",
    "height = height_obj.get()\n",
    "height_info = height_obj.info()\n",
    "\n",
    "print( height_info )\n",
    "pprint.pprint( height_obj.attributes() )\n",
    "\n",
    "print( height.shape )"
   ]
  },
  {
   "cell_type": "code",
   "execution_count": null,
   "metadata": {},
   "outputs": [],
   "source": []
  },
  {
   "cell_type": "code",
   "execution_count": 16,
   "metadata": {},
   "outputs": [],
   "source": [
    "# create 2d profile time array\n",
    "profile_time_arr = np.repeat(profile_time, height.shape[1], axis = 0)\n",
    "profile_time_arr = np.reshape(profile_time_arr, (-1, height.shape[1]))"
   ]
  },
  {
   "cell_type": "code",
   "execution_count": 17,
   "metadata": {},
   "outputs": [],
   "source": [
    "x1, x2 = np.where(SWC[:,:] <0.01)\n",
    "SWC[x1[:],x2[:]] = np.nan"
   ]
  },
  {
   "cell_type": "code",
   "execution_count": 18,
   "metadata": {},
   "outputs": [
    {
     "data": {
      "text/plain": [
       "<matplotlib.contour.QuadContourSet at 0x7f4212965f98>"
      ]
     },
     "execution_count": 18,
     "metadata": {},
     "output_type": "execute_result"
    },
    {
     "data": {
      "image/png": "[encoded data removed]",
      "text/plain": [
       "<Figure size 432x288 with 1 Axes>"
      ]
     },
     "metadata": {
      "needs_background": "light"
     },
     "output_type": "display_data"
    }
   ],
   "source": [
    "plt.contourf(profile_time_arr,height,SWC)"
   ]
  },
  {
   "cell_type": "code",
   "execution_count": null,
   "metadata": {},
   "outputs": [],
   "source": []
  },
  {
   "cell_type": "code",
   "execution_count": 19,
   "metadata": {},
   "outputs": [],
   "source": [
    "lats, lons = np.meshgrid(lat, long)"
   ]
  },
  {
   "cell_type": "raw",
   "metadata": {},
   "source": [
    "# A 2D numpy array of your temperatures, or some other variable, that matches the lat/lon grid\n",
    "# Generate randomized test data for now\n",
    "data = np.random.randint(50, size=np.shape(lats))"
   ]
  },
  {
   "cell_type": "code",
   "execution_count": 20,
   "metadata": {},
   "outputs": [],
   "source": [
    "stn_lat      = 59.81\n",
    "stn_lon      = 7.21"
   ]
  },
  {
   "cell_type": "code",
   "execution_count": 21,
   "metadata": {},
   "outputs": [
    {
     "data": {
      "text/plain": [
       "<matplotlib.collections.PathCollection at 0x7f4212896b38>"
      ]
     },
     "execution_count": 21,
     "metadata": {},
     "output_type": "execute_result"
    },
    {
     "data": {
      "image/png": "[encoded data removed]",
      "text/plain": [
       "<Figure size 432x288 with 1 Axes>"
      ]
     },
     "metadata": {},
     "output_type": "display_data"
    }
   ],
   "source": [
    "# Create a basemap to show the data\n",
    "#m = Basemap(llcrnrlon=np.min(long),llcrnrlat=np.min(lat),urcrnrlon=np.max(long),urcrnrlat=np.max(lat),)\n",
    "m = Basemap(llcrnrlon=5., urcrnrlon=9., llcrnrlat=57.,urcrnrlat=62)\n",
    "m.drawcoastlines()\n",
    "#m.pcolormesh(lons, lats, data, alpha=.3)\n",
    "m.scatter(stn_lon, stn_lat)"
   ]
  },
  {
   "cell_type": "code",
   "execution_count": 22,
   "metadata": {},
   "outputs": [],
   "source": [
    "# Now find the absolute value of the difference between the  station's lat/lon with every point in the grid. \n",
    "# This tells us how close a point is to the particular latitude and longitude.\n",
    "abslat = np.abs(lats-stn_lat)\n",
    "abslon= np.abs(lons-stn_lon)"
   ]
  },
  {
   "cell_type": "code",
   "execution_count": 23,
   "metadata": {},
   "outputs": [],
   "source": [
    "c = np.maximum(abslon, abslat)"
   ]
  },
  {
   "cell_type": "code",
   "execution_count": 24,
   "metadata": {},
   "outputs": [],
   "source": [
    "x, y = np.where(c == np.min(c))\n",
    "grid_lat = lats[x[0], y[0]]"
   ]
  },
  {
   "cell_type": "code",
   "execution_count": 25,
   "metadata": {},
   "outputs": [],
   "source": [
    "grid_lon = lons[x[0], y[0]]"
   ]
  },
  {
   "cell_type": "code",
   "execution_count": 26,
   "metadata": {},
   "outputs": [
    {
     "data": {
      "text/plain": [
       "array([19141])"
      ]
     },
     "execution_count": 26,
     "metadata": {},
     "output_type": "execute_result"
    }
   ],
   "source": [
    "x"
   ]
  },
  {
   "cell_type": "code",
   "execution_count": 27,
   "metadata": {},
   "outputs": [
    {
     "name": "stdout",
     "output_type": "stream",
     "text": [
      "Value of 59.810813903808594 7.21480131149292\n",
      "59.810813903808594 7.21480131149292 is the nearest grid to 59.81 7.21\n"
     ]
    },
    {
     "data": {
      "text/plain": [
       "<bound method Basemap.pcolormesh of <mpl_toolkits.basemap.Basemap object at 0x7f42128e0978>>"
      ]
     },
     "execution_count": 27,
     "metadata": {},
     "output_type": "execute_result"
    },
    {
     "data": {
      "image/png": "[encoded data removed]",
      "text/plain": [
       "<Figure size 432x288 with 1 Axes>"
      ]
     },
     "metadata": {},
     "output_type": "display_data"
    }
   ],
   "source": [
    "print( \"Value of %s %s\" % (grid_lat, grid_lon))\n",
    "print( \"%s %s is the nearest grid to %s %s\" %(grid_lat, grid_lon, stn_lat, stn_lon))\n",
    "\n",
    "m.drawcoastlines()\n",
    "#m.pcolormesh(lons, lats, c)\n",
    "m.scatter(grid_lon, grid_lat, s=100, c='k')\n",
    "#plt.text(grid_lon+.5, grid_lat+.5, #grid_data, \n",
    "      #   color='w')\n",
    "m.scatter(stn_lon, stn_lat)\n",
    "m.pcolormesh"
   ]
  },
  {
   "cell_type": "code",
   "execution_count": 28,
   "metadata": {},
   "outputs": [],
   "source": [
    "lower_lat = stn_lat -2.\n",
    "upper_lat = stn_lat +2.\n",
    "\n",
    "left_lon = stn_lon -2.\n",
    "right_lon = stn_lon +2.\n"
   ]
  },
  {
   "cell_type": "code",
   "execution_count": 29,
   "metadata": {},
   "outputs": [],
   "source": [
    "abslat_lower = np.abs(lats-lower_lat)"
   ]
  },
  {
   "cell_type": "code",
   "execution_count": 31,
   "metadata": {},
   "outputs": [
    {
     "ename": "MemoryError",
     "evalue": "",
     "output_type": "error",
     "traceback": [
      "\u001b[0;31m---------------------------------------------------------------------------\u001b[0m",
      "\u001b[0;31mMemoryError\u001b[0m                               Traceback (most recent call last)",
      "\u001b[0;32m<ipython-input-31-a82d8167d2f0>\u001b[0m in \u001b[0;36m<module>\u001b[0;34m\u001b[0m\n\u001b[0;32m----> 1\u001b[0;31m \u001b[0mabslat_upper\u001b[0m \u001b[0;34m=\u001b[0m \u001b[0mnp\u001b[0m\u001b[0;34m.\u001b[0m\u001b[0mabs\u001b[0m\u001b[0;34m(\u001b[0m\u001b[0mlats\u001b[0m\u001b[0;34m-\u001b[0m\u001b[0mupper_lat\u001b[0m\u001b[0;34m)\u001b[0m\u001b[0;34m\u001b[0m\u001b[0;34m\u001b[0m\u001b[0m\n\u001b[0m",
      "\u001b[0;31mMemoryError\u001b[0m: "
     ]
    }
   ],
   "source": [
    "abslat_upper = np.abs(lats-upper_lat)"
   ]
  },
  {
   "cell_type": "code",
   "execution_count": null,
   "metadata": {},
   "outputs": [],
   "source": [
    "abslon_left = np.abs(lons-left_lon)"
   ]
  },
  {
   "cell_type": "code",
   "execution_count": null,
   "metadata": {},
   "outputs": [],
   "source": [
    "abslon_right = np.abs(lons-right_lon)"
   ]
  },
  {
   "cell_type": "code",
   "execution_count": null,
   "metadata": {},
   "outputs": [],
   "source": [
    "c_llcrn =  np.maximum(abslon_left, abslat_lower)\n",
    "c_lrcrn =  np.maximum(abslon_right, abslat_lower)\n",
    "\n",
    "c\n"
   ]
  },
  {
   "cell_type": "code",
   "execution_count": null,
   "metadata": {},
   "outputs": [],
   "source": [
    "x_llcrn, y_llcrn = np.where(c_llcrn == np.min(c_llcrn))"
   ]
  },
  {
   "cell_type": "code",
   "execution_count": null,
   "metadata": {},
   "outputs": [],
   "source": [
    "x_llcrn"
   ]
  },
  {
   "cell_type": "code",
   "execution_count": null,
   "metadata": {},
   "outputs": [],
   "source": [
    "y_llcrn"
   ]
  },
  {
   "cell_type": "code",
   "execution_count": null,
   "metadata": {},
   "outputs": [],
   "source": [
    "grid_lat_llcrn = lats[x_llcrn[0], y_llcrn[0]]"
   ]
  },
  {
   "cell_type": "code",
   "execution_count": null,
   "metadata": {},
   "outputs": [],
   "source": [
    "grid_lon_llcrn = lons[x_llcrn[0], y_llcrn[0]]"
   ]
  },
  {
   "cell_type": "code",
   "execution_count": null,
   "metadata": {},
   "outputs": [],
   "source": [
    "print( \"Value of %s %s\" % (grid_lat_llcrn, grid_lon_llcrn))\n",
    "#print( \"%s %s is the nearest grid to %s %s\" %(grid_lat, grid_lon, stn_lat, stn_lon))"
   ]
  },
  {
   "cell_type": "code",
   "execution_count": null,
   "metadata": {},
   "outputs": [],
   "source": []
  },
  {
   "cell_type": "code",
   "execution_count": null,
   "metadata": {},
   "outputs": [],
   "source": []
  },
  {
   "cell_type": "code",
   "execution_count": null,
   "metadata": {},
   "outputs": [],
   "source": []
  },
  {
   "cell_type": "code",
   "execution_count": null,
   "metadata": {},
   "outputs": [],
   "source": []
  },
  {
   "cell_type": "code",
   "execution_count": null,
   "metadata": {},
   "outputs": [],
   "source": []
  },
  {
   "cell_type": "code",
   "execution_count": null,
   "metadata": {},
   "outputs": [],
   "source": [
    "x, y = find_station_yx(np.array(lat), np.array(long), stn_lat, stn_lon)"
   ]
  },
  {
   "cell_type": "code",
   "execution_count": null,
   "metadata": {},
   "outputs": [],
   "source": [
    "def find_station_yx(latitude, longitude, stn_lat, stn_lon):\n",
    "# find the absolute value of the difference between the  station's lat/lon with every point in the grid. \n",
    "# This tells us how close a point is to the particular latitude and longitude.\n",
    "    abslat = np.abs(latitude[:,:]-stn_lat)\n",
    "    abslon = np.abs(longitude[:,:]-stn_lon)\n",
    "\n",
    "# Now we need to combine these two results. We will use numpy.maximum, which takes two arrays and finds the local \n",
    "# maximum.\n",
    "    c = np.maximum(abslon, abslat)\n",
    "\n",
    "# If you don't like flattened arrays, you can also get the row/column index like this\n",
    "    y, x = np.where(c == np.min(c))\n",
    "    return(x,y);"
   ]
  }
 ],
 "metadata": {
  "kernelspec": {
   "display_name": "Python 3",
   "language": "python",
   "name": "python3"
  },
  "language_info": {
   "codemirror_mode": {
    "name": "ipython",
    "version": 3
   },
   "file_extension": ".py",
   "mimetype": "text/x-python",
   "name": "python",
   "nbconvert_exporter": "python",
   "pygments_lexer": "ipython3",
   "version": "3.6.7"
  }
 },
 "nbformat": 4,
 "nbformat_minor": 2
}
