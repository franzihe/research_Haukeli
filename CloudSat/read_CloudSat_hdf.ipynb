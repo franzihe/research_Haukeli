{
 "cells": [
  {
   "cell_type": "code",
   "execution_count": null,
   "metadata": {},
   "outputs": [],
   "source": [
    "import sys\n",
    "sys.path.append('/uio/kant/geo-metos-u7/franzihe/Documents/Thesis/Python')\n",
    "import createFolder as cF\n",
    "### Import python libraries\n",
    "from pyhdf.SD import SD, SDC\n",
    "from pyhdf.HDF import *\n",
    "from pyhdf.VS import *\n",
    "import numpy as np\n",
    "import pandas as pd\n",
    "import matplotlib.pyplot as plt\n",
    "from mpl_toolkits.basemap import Basemap\n",
    "from mpl_toolkits.basemap import shiftgrid\n",
    "\n",
    "import pprint\n",
    "import zipfile\n",
    "\n",
    "import glob\n",
    "import os\n",
    "%matplotlib inline"
   ]
  },
  {
   "cell_type": "code",
   "execution_count": null,
   "metadata": {},
   "outputs": [],
   "source": [
    "sourcefolder = '../../Data/CloudSat/zip.downloads/'\n",
    "\n",
    "Product_name = ['GEOPROF']\n"
   ]
  },
  {
   "cell_type": "code",
   "execution_count": null,
   "metadata": {},
   "outputs": [],
   "source": [
    "ym = [201611, 201612, 201701, 201702, 201703]\n"
   ]
  },
  {
   "cell_type": "code",
   "execution_count": null,
   "metadata": {},
   "outputs": [],
   "source": [
    "savefig = 1"
   ]
  },
  {
   "cell_type": "raw",
   "metadata": {},
   "source": [
    "for year_month in ym:\n",
    "    targetfolder = '../../Data/CloudSat/%s/%s/' %(Product_name[0],year_month)\n",
    "    for name in glob.glob('%s%s/*.zip' %(sourcefolder, year_month)):\n",
    "        with zipfile.ZipFile(name,'r') as zip_ref:\n",
    "            zip_ref.extractall(targetfolder)\n",
    "        "
   ]
  },
  {
   "cell_type": "markdown",
   "metadata": {},
   "source": [
    "https://www.science-emergence.com/Articles/How-to-read-a-MODIS-HDF-file-using-python-/\n",
    "\n",
    "https://www.science-emergence.com/Articles/How-to-read-CloudSat-2B-GEOPROF-GRANULE-HDF4-file-using-python-and-pyhdf-/"
   ]
  },
  {
   "cell_type": "code",
   "execution_count": null,
   "metadata": {},
   "outputs": [],
   "source": [
    "stn_lat      = 59.81\n",
    "stn_lon      = 7.21\n",
    "\n",
    "lower_lat = stn_lat -1.\n",
    "upper_lat = stn_lat +1.\n",
    "\n",
    "left_lon = stn_lon -1.\n",
    "right_lon = stn_lon +1.\n"
   ]
  },
  {
   "cell_type": "markdown",
   "metadata": {},
   "source": [
    "http://www.trondkristiansen.com/?page_id=846\n",
    "\n",
    "Since the ETOPO1 file is quite large (445MB) I added a function to the script that cuts out only the area of interest from the ETOPO1 file. This saves space and time (see function: findSubsetIndices)."
   ]
  },
  {
   "cell_type": "code",
   "execution_count": null,
   "metadata": {},
   "outputs": [],
   "source": [
    "def findSubsetIndices(min_lat,max_lat,min_lon,max_lon,lats,lons):\n",
    "    \n",
    "    \"\"\"Array to store the results returned from the function\"\"\"\n",
    "    res=np.zeros((4),dtype=np.float64)\n",
    "    minLon=min_lon; maxLon=max_lon\n",
    "    \n",
    "    distances1 = []; distances2 = []\n",
    "    indices=[]; index=1\n",
    "    \n",
    "    for point in lats:\n",
    "        s1 = max_lat-point # (vector subtract)\n",
    "        s2 = min_lat-point # (vector subtract)\n",
    "        distances1.append((np.dot(s1, s1), point, index))\n",
    "        distances2.append((np.dot(s2, s2), point, index-1))\n",
    "        index=index+1\n",
    "        \n",
    "    distances1.sort()\n",
    "    distances2.sort()\n",
    "    indices.append(distances1[0])\n",
    "    indices.append(distances2[0])\n",
    "    \n",
    "    distances1 = []; distances2 = []; index=1\n",
    "   \n",
    "    for point in lons:\n",
    "        s1 = maxLon-point # (vector subtract)\n",
    "        s2 = minLon-point # (vector subtract)\n",
    "        distances1.append((np.dot(s1, s1), point, index))\n",
    "        distances2.append((np.dot(s2, s2), point, index-1))\n",
    "        index=index+1\n",
    "        \n",
    "    distances1.sort()\n",
    "    distances2.sort()\n",
    "    indices.append(distances1[0])\n",
    "    indices.append(distances2[0])\n",
    "    \n",
    "    \"\"\" Save final product: max_lat_indices,min_lat_indices,max_lon_indices,min_lon_indices\"\"\"\n",
    "    minJ=indices[1][2] # min_lat_indices\n",
    "    maxJ=indices[0][2]\n",
    "    minI=indices[3][2]\n",
    "    maxI=indices[2][2] # max_lon_indices\n",
    "    \n",
    "    res[0]=minI; res[1]=maxI; res[2]=minJ; res[3]=maxJ;\n",
    "    return res"
   ]
  },
  {
   "cell_type": "code",
   "execution_count": null,
   "metadata": {
    "scrolled": true
   },
   "outputs": [],
   "source": [
    "for year_month in ym:\n",
    "    targetfolder = '../../Data/CloudSat/%s/%s/' %(Product_name[0],year_month)\n",
    "    os.chdir(targetfolder)\n",
    " \n",
    "\n",
    "    if year_month == 201611:\n",
    "        granule = np.arange(56028,56357)\n",
    "    if year_month == 201612:\n",
    "        granule = np.arange(56357,56806)\n",
    "    if year_month == 201701:\n",
    "        granule = np.arange(56816,57260)\n",
    "    if year_month == 201702:\n",
    "        granule = np.arange(57260,57668)\n",
    "    if year_month == 201703:\n",
    "        granule = np.arange(57668,58119)\n",
    "\n",
    "    for i in granule:\n",
    "        for file in glob.glob('*%s_CS_2B-GEOPROF_GRANULE_P_R04_E06.hdf' %(i)):\n",
    "\n",
    "\n",
    "### Read latitudes and longitudes, profile time\n",
    "            f = HDF(file, SDC.READ) \n",
    "            vs = f.vstart()\n",
    "\n",
    "            data_info_list = vs.vdatainfo()\n",
    "\n",
    "\n",
    "            vdata_lat = vs.attach('Latitude')\n",
    "            vdata_long = vs.attach('Longitude')\n",
    "\n",
    "            vdata_profile_time = vs.attach('Profile_time')\n",
    "\n",
    "\n",
    "\n",
    "            lat = vdata_lat[:]\n",
    "            long = vdata_long[:]\n",
    "\n",
    "            profile_time = vdata_profile_time[:]\n",
    "\n",
    "\n",
    "       \n",
    "        \n",
    "            vdata_lat.detach() # \"close\" the vdata\n",
    "            vdata_long.detach() # \"close\" the vdata\n",
    "            vdata_profile_time.detach()\n",
    "            vs.end() # terminate the vdata interface\n",
    "            f.close()\n",
    "\n",
    "\n",
    "\n",
    "\n",
    "# Create a basemap to show the data\n",
    "            fontsize = 16\n",
    "            plt.figure(figsize=(15,5))\n",
    "            m = Basemap(projection='cyl',llcrnrlat=lower_lat,urcrnrlat=upper_lat, \n",
    "                        llcrnrlon=left_lon,urcrnrlon=right_lon,resolution='c')\n",
    "            m.drawcoastlines()\n",
    "            m.fillcontinents(color='tan',lake_color='lightblue',zorder=1)\n",
    "            m.drawmapboundary(fill_color='lightblue',zorder=0)\n",
    "            m.drawmeridians(np.arange(np.round(left_lon),right_lon,1),labels=[0,0,0,1],fontsize=fontsize)\n",
    "            m.drawparallels(np.arange(np.round(lower_lat),upper_lat,1),labels=[1,1,0,1],fontsize=fontsize)\n",
    "            x,y = m(long,lat)\n",
    "\n",
    "\n",
    "            m.scatter(x,y,fontsize,marker='o',color='b',zorder=2,label='Trajectory')\n",
    "            m.scatter(stn_lon,stn_lat,10*fontsize,'r', marker=\"^\",zorder=2)\n",
    "            plt.text(stn_lon+0.1, stn_lat+0.1, 'Haukeliseter',fontsize=fontsize,\n",
    "                     fontweight='bold', ha='left',va='top',color='k')\n",
    "        \n",
    "            plt.legend(loc='upper left',prop={'size': fontsize})\n",
    "        \n",
    "            split_file = file.split('_')\n",
    "        \n",
    "\n",
    "            plt.title(\"Cloudsat %s_%s\" %(split_file[0],split_file[1]),fontsize=fontsize)\n",
    "\n",
    "            if savefig == 1:\n",
    "                if lower_lat == stn_lat -1.:\n",
    "                    fig_dir = '../../../../Figures/cloudsat_trajectory/%s/2deg/' %(year_month)\n",
    "                if lower_lat == stn_lat -2.:\n",
    "                    fig_dir = '../../../../Figures/cloudsat_trajectory/%s/4deg/' %(year_month)\n",
    "                if lower_lat == stn_lat -5.:\n",
    "                    fig_dir = '../../../../Figures/cloudsat_trajectory/%s/10deg/' %(year_month)\n",
    "                fig_name = '%s_%s.png' %(split_file[0],split_file[1])    \n",
    "                cF.createFolder(fig_dir)\n",
    "                plt.savefig(fig_dir+fig_name, bbox_inches='tight', dpi=200)\n",
    "                print('figure saved:', fig_dir+fig_name)\n",
    "            else:\n",
    "                plt.show()\n",
    "            plt.close()\n",
    "    \n",
    "    os.chdir('../../../../Python/CloudSat')\n"
   ]
  },
  {
   "cell_type": "code",
   "execution_count": null,
   "metadata": {},
   "outputs": [],
   "source": []
  }
 ],
 "metadata": {
  "kernelspec": {
   "display_name": "Python 3",
   "language": "python",
   "name": "python3"
  },
  "language_info": {
   "codemirror_mode": {
    "name": "ipython",
    "version": 3
   },
   "file_extension": ".py",
   "mimetype": "text/x-python",
   "name": "python",
   "nbconvert_exporter": "python",
   "pygments_lexer": "ipython3",
   "version": "3.6.7"
  }
 },
 "nbformat": 4,
 "nbformat_minor": 2
}
