{
 "cells": [
  {
   "cell_type": "code",
   "execution_count": null,
   "metadata": {},
   "outputs": [],
   "source": [
    "                                                                                                                                                                                                                                                                                                                                                                                                                                                                                                                                                                                                                                                                                                                                                                                                                                                                                                                                                                                                                                                                                                                                                                                                                                                                                                                                                                                                                                                                                                                                                                                                                                                                                                                                                                                                                                                                                                                                                                                                                                                                                                                                                                                                                                                                                                                                                                                                                                                                                                                                                                                                                                                                                                                                                                                                                                                                                                                                                                                                                                                                                                                                                                                                                                                        import zipfile"
   ]
  },
  {
   "cell_type": "code",
   "execution_count": null,
   "metadata": {},
   "outputs": [],
   "source": [
    "sourcefolder = '../../../../Downloads'\n",
    "targetfolder = '../../Data/CloudSat/2C_Precip'\n",
    "f = ['PRECIP-COLUMN', 'SNOW-PROFILE']\n",
    "t = ['2016356112357_56655', \n",
    "      '2016357102821_56669',\n",
    "      '2016358111138_56684',\n",
    "      '2016359101602_56698',\n",
    "      '2016360105918_56713',\n",
    "      '2016361100342_56727']"
   ]
  },
  {
   "cell_type": "raw",
   "metadata": {},
   "source": [
    "for file in f:\n",
    "    if file == 'PRECIP-COLUMN':\n",
    "        processing = 'P2'\n",
    "    elif file == 'SNOW-PROFILE':\n",
    "        processing = 'P'\n",
    "    \n",
    "    for day in t:\n",
    "        with zipfile.ZipFile(\"%s/%s_CS_2C-%s_GRANULE_%s_R04_E06.hdf.zip\" %(sourcefolder,day,file,processing),\"r\") as zip_ref:\n",
    "            zip_ref.extractall(targetfolder)"
   ]
  },
  {
   "cell_type": "markdown",
   "metadata": {},
   "source": [
    "https://www.science-emergence.com/Articles/How-to-read-a-MODIS-HDF-file-using-python-/\n",
    "\n",
    "https://www.science-emergence.com/Articles/How-to-read-CloudSat-2B-GEOPROF-GRANULE-HDF4-file-using-python-and-pyhdf-/"
   ]
  },
  {
   "cell_type": "code",
   "execution_count": null,
   "metadata": {
    "scrolled": true
   },
   "outputs": [],
   "source": [
    "### Import python libraries\n",
    "from pyhdf.SD import SD, SDC\n",
    "from pyhdf.HDF import *\n",
    "from pyhdf.VS import *\n",
    "import numpy as np\n",
    "import pandas as pd\n",
    "import matplotlib.pyplot as plt\n",
    "from mpl_toolkits.basemap import Basemap\n",
    "from mpl_toolkits.basemap import shiftgrid\n",
    "\n",
    "\n",
    "import pprint"
   ]
  },
  {
   "cell_type": "code",
   "execution_count": null,
   "metadata": {},
   "outputs": [],
   "source": [
    "for file in f:\n",
    "    if file == 'PRECIP-COLUMN':\n",
    "        processing = 'P2'\n",
    "    elif file == 'SNOW-PROFILE':\n",
    "        processing = 'P'\n",
    "for day in t:\n",
    "    file_path = targetfolder\n",
    "    file_name = '/%s_CS_2C-%s_GRANULE_%s_R04_E06.hdf' %(day,file,processing)"
   ]
  },
  {
   "cell_type": "code",
   "execution_count": null,
   "metadata": {},
   "outputs": [],
   "source": [
    "file_path+file_name"
   ]
  },
  {
   "cell_type": "code",
   "execution_count": null,
   "metadata": {
    "scrolled": true
   },
   "outputs": [],
   "source": [
    "### Read vdata\n",
    "\n",
    "# Retrieve information about all data stored using HDF vdata model:\n",
    "f = HDF(file_path+file_name, SDC.READ) \n",
    "vs = f.vstart()\n",
    "\n",
    "data_info_list = vs.vdatainfo()\n",
    "\n",
    "pprint.pprint( data_info_list )\n",
    "\n",
    "vs.end() # terminate the vdata interface\n",
    "f.close()"
   ]
  },
  {
   "cell_type": "code",
   "execution_count": null,
   "metadata": {},
   "outputs": [],
   "source": [
    "### Read latitudes and longitudes, profile time\n",
    "f = HDF(file_path+file_name, SDC.READ) \n",
    "vs = f.vstart()\n",
    "\n",
    "vdata_lat = vs.attach('Latitude')\n",
    "vdata_long = vs.attach('Longitude')\n",
    "\n",
    "vdata_profile_time = vs.attach('Profile_time')\n",
    "\n",
    "\n",
    "\n",
    "lat = vdata_lat[:]\n",
    "long = vdata_long[:]\n",
    "\n",
    "profile_time = vdata_profile_time[:]\n",
    "\n",
    "\n",
    "\n",
    "print('Nb pixels: ', len(lat))\n",
    "print('Lat min, Lat max: ',min(lat),max(lat))\n",
    "\n",
    "for i in range(15): # sample\n",
    "    print(lat[i])\n",
    "\n",
    "# to get vdata latitude info\n",
    "print( vdata_lat.attrinfo() )        \n",
    "        \n",
    "vdata_lat.detach() # \"close\" the vdata\n",
    "vdata_long.detach() # \"close\" the vdata\n",
    "vs.end() # terminate the vdata interface\n",
    "f.close()\n",
    "\n",
    "\n"
   ]
  },
  {
   "cell_type": "code",
   "execution_count": null,
   "metadata": {},
   "outputs": [],
   "source": [
    "np.array(lat).shape"
   ]
  },
  {
   "cell_type": "code",
   "execution_count": null,
   "metadata": {},
   "outputs": [],
   "source": [
    "np.array(long).shape"
   ]
  },
  {
   "cell_type": "code",
   "execution_count": null,
   "metadata": {},
   "outputs": [],
   "source": []
  },
  {
   "cell_type": "code",
   "execution_count": null,
   "metadata": {},
   "outputs": [],
   "source": [
    "# Read SDS data\n",
    "file = SD(file_path+file_name, SDC.READ)\n",
    "pprint.pprint( file.info() )  # number of sds and metadata\n"
   ]
  },
  {
   "cell_type": "code",
   "execution_count": null,
   "metadata": {},
   "outputs": [],
   "source": [
    "# Get and print all sds names\n",
    "datasets_dic = file.datasets()\n",
    "\n",
    "sds_dic = {}\n",
    "for key, value in datasets_dic.items():\n",
    "    sds_dic[value[3]] = key\n",
    "\n",
    "pprint.pprint( sds_dic )"
   ]
  },
  {
   "cell_type": "code",
   "execution_count": null,
   "metadata": {},
   "outputs": [],
   "source": [
    "# Read snow water content\n",
    "SWC_obj = file.select('snow_water_content') # select SWC\n",
    "SWC = SWC_obj.get()\n",
    "SWC_info = SWC_obj.info()\n",
    "\n",
    "print( SWC_info )\n",
    "pprint.pprint( SWC_obj.attributes() )\n",
    "\n",
    "print( SWC.shape )"
   ]
  },
  {
   "cell_type": "code",
   "execution_count": null,
   "metadata": {},
   "outputs": [],
   "source": [
    "# Read snowfall rate \n",
    "snowfall_rate_obj = file.select('snowfall_rate') # select snowfall_rate\n",
    "snowfall_rate = snowfall_rate_obj.get()\n",
    "snowfall_rate_info = snowfall_rate_obj.info()\n",
    "\n",
    "print( snowfall_rate_info )\n",
    "pprint.pprint( snowfall_rate_obj.attributes() )\n",
    "\n",
    "print( snowfall_rate.shape )"
   ]
  },
  {
   "cell_type": "code",
   "execution_count": null,
   "metadata": {},
   "outputs": [],
   "source": [
    "# Read height\n",
    "height_obj = file.select('Height')\n",
    "height = height_obj.get()\n",
    "height_info = height_obj.info()\n",
    "\n",
    "print( height_info )\n",
    "pprint.pprint( height_obj.attributes() )\n",
    "\n",
    "print( height.shape )"
   ]
  },
  {
   "cell_type": "code",
   "execution_count": null,
   "metadata": {},
   "outputs": [],
   "source": []
  },
  {
   "cell_type": "code",
   "execution_count": null,
   "metadata": {},
   "outputs": [],
   "source": [
    "# create 2d profile time array\n",
    "profile_time_arr = np.repeat(profile_time, height.shape[1], axis = 0)\n",
    "profile_time_arr = np.reshape(profile_time_arr, (-1, height.shape[1]))"
   ]
  },
  {
   "cell_type": "code",
   "execution_count": null,
   "metadata": {},
   "outputs": [],
   "source": [
    "x1, x2 = np.where(SWC[:,:] <0.01)\n",
    "SWC[x1[:],x2[:]] = np.nan"
   ]
  },
  {
   "cell_type": "code",
   "execution_count": null,
   "metadata": {},
   "outputs": [],
   "source": [
    "plt.contourf(profile_time_arr,height,SWC)"
   ]
  },
  {
   "cell_type": "code",
   "execution_count": null,
   "metadata": {},
   "outputs": [],
   "source": []
  },
  {
   "cell_type": "code",
   "execution_count": null,
   "metadata": {},
   "outputs": [],
   "source": [
    "lats, lons = np.meshgrid(lat, long)"
   ]
  },
  {
   "cell_type": "raw",
   "metadata": {},
   "source": [
    "# A 2D numpy array of your temperatures, or some other variable, that matches the lat/lon grid\n",
    "# Generate randomized test data for now\n",
    "data = np.random.randint(50, size=np.shape(lats))"
   ]
  },
  {
   "cell_type": "code",
   "execution_count": null,
   "metadata": {},
   "outputs": [],
   "source": [
    "stn_lat      = 59.81\n",
    "stn_lon      = 7.21"
   ]
  },
  {
   "cell_type": "code",
   "execution_count": null,
   "metadata": {},
   "outputs": [],
   "source": [
    "# Create a basemap to show the data\n",
    "#m = Basemap(llcrnrlon=np.min(long),llcrnrlat=np.min(lat),urcrnrlon=np.max(long),urcrnrlat=np.max(lat),)\n",
    "m = Basemap(llcrnrlon=5., urcrnrlon=9., llcrnrlat=57.,urcrnrlat=62)\n",
    "m.drawcoastlines()\n",
    "#m.pcolormesh(lons, lats, data, alpha=.3)\n",
    "m.scatter(stn_lon, stn_lat)"
   ]
  },
  {
   "cell_type": "code",
   "execution_count": null,
   "metadata": {},
   "outputs": [],
   "source": [
    "# Now find the absolute value of the difference between the  station's lat/lon with every point in the grid. \n",
    "# This tells us how close a point is to the particular latitude and longitude.\n",
    "abslat = np.abs(lats-stn_lat)\n",
    "abslon= np.abs(lons-stn_lon)"
   ]
  },
  {
   "cell_type": "code",
   "execution_count": null,
   "metadata": {},
   "outputs": [],
   "source": [
    "c = np.maximum(abslon, abslat)"
   ]
  },
  {
   "cell_type": "code",
   "execution_count": null,
   "metadata": {},
   "outputs": [],
   "source": [
    "x, y = np.where(c == np.min(c))\n",
    "grid_lat = lats[x[0], y[0]]"
   ]
  },
  {
   "cell_type": "code",
   "execution_count": null,
   "metadata": {},
   "outputs": [],
   "source": [
    "grid_lon = lons[x[0], y[0]]"
   ]
  },
  {
   "cell_type": "code",
   "execution_count": null,
   "metadata": {},
   "outputs": [],
   "source": [
    "x"
   ]
  },
  {
   "cell_type": "code",
   "execution_count": null,
   "metadata": {},
   "outputs": [],
   "source": [
    "print( \"Value of %s %s\" % (grid_lat, grid_lon))\n",
    "print( \"%s %s is the nearest grid to %s %s\" %(grid_lat, grid_lon, stn_lat, stn_lon))\n",
    "\n",
    "m.drawcoastlines()\n",
    "#m.pcolormesh(lons, lats, c)\n",
    "m.scatter(grid_lon, grid_lat, s=100, c='k')\n",
    "#plt.text(grid_lon+.5, grid_lat+.5, #grid_data, \n",
    "      #   color='w')\n",
    "m.scatter(stn_lon, stn_lat)\n",
    "m.pcolormesh"
   ]
  },
  {
   "cell_type": "code",
   "execution_count": null,
   "metadata": {},
   "outputs": [],
   "source": [
    "lower_lat = stn_lat -2.\n",
    "upper_lat = stn_lat +2.\n",
    "\n",
    "left_lon = stn_lon -2.\n",
    "right_lon = stn_lon +2.\n"
   ]
  },
  {
   "cell_type": "code",
   "execution_count": null,
   "metadata": {},
   "outputs": [],
   "source": [
    "abslat_lower = np.abs(lats-lower_lat)"
   ]
  },
  {
   "cell_type": "code",
   "execution_count": null,
   "metadata": {},
   "outputs": [],
   "source": [
    "abslat_upper = np.abs(lats-upper_lat)"
   ]
  },
  {
   "cell_type": "code",
   "execution_count": null,
   "metadata": {},
   "outputs": [],
   "source": [
    "abslon_left = np.abs(lons-left_lon)"
   ]
  },
  {
   "cell_type": "code",
   "execution_count": null,
   "metadata": {},
   "outputs": [],
   "source": [
    "abslon_right = np.abs(lons-right_lon)"
   ]
  },
  {
   "cell_type": "code",
   "execution_count": null,
   "metadata": {},
   "outputs": [],
   "source": [
    "c_llcrn =  np.maximum(abslon_left, abslat_lower)\n",
    "c_lrcrn =  np.maximum(abslon_right, abslat_lower)\n",
    "\n",
    "c\n"
   ]
  },
  {
   "cell_type": "code",
   "execution_count": null,
   "metadata": {},
   "outputs": [],
   "source": [
    "x_llcrn, y_llcrn = np.where(c_llcrn == np.min(c_llcrn))"
   ]
  },
  {
   "cell_type": "code",
   "execution_count": null,
   "metadata": {},
   "outputs": [],
   "source": [
    "x_llcrn"
   ]
  },
  {
   "cell_type": "code",
   "execution_count": null,
   "metadata": {},
   "outputs": [],
   "source": [
    "y_llcrn"
   ]
  },
  {
   "cell_type": "code",
   "execution_count": null,
   "metadata": {},
   "outputs": [],
   "source": [
    "grid_lat_llcrn = lats[x_llcrn[0], y_llcrn[0]]"
   ]
  },
  {
   "cell_type": "code",
   "execution_count": null,
   "metadata": {},
   "outputs": [],
   "source": [
    "grid_lon_llcrn = lons[x_llcrn[0], y_llcrn[0]]"
   ]
  },
  {
   "cell_type": "code",
   "execution_count": null,
   "metadata": {},
   "outputs": [],
   "source": [
    "print( \"Value of %s %s\" % (grid_lat_llcrn, grid_lon_llcrn))\n",
    "#print( \"%s %s is the nearest grid to %s %s\" %(grid_lat, grid_lon, stn_lat, stn_lon))"
   ]
  },
  {
   "cell_type": "code",
   "execution_count": null,
   "metadata": {},
   "outputs": [],
   "source": []
  },
  {
   "cell_type": "code",
   "execution_count": null,
   "metadata": {},
   "outputs": [],
   "source": []
  },
  {
   "cell_type": "code",
   "execution_count": null,
   "metadata": {},
   "outputs": [],
   "source": []
  },
  {
   "cell_type": "code",
   "execution_count": null,
   "metadata": {},
   "outputs": [],
   "source": []
  },
  {
   "cell_type": "code",
   "execution_count": null,
   "metadata": {},
   "outputs": [],
   "source": []
  },
  {
   "cell_type": "code",
   "execution_count": null,
   "metadata": {},
   "outputs": [],
   "source": [
    "x, y = find_station_yx(np.array(lat), np.array(long), stn_lat, stn_lon)"
   ]
  },
  {
   "cell_type": "code",
   "execution_count": null,
   "metadata": {},
   "outputs": [],
   "source": [
    "def find_station_yx(latitude, longitude, stn_lat, stn_lon):\n",
    "# find the absolute value of the difference between the  station's lat/lon with every point in the grid. \n",
    "# This tells us how close a point is to the particular latitude and longitude.\n",
    "    abslat = np.abs(latitude[:,:]-stn_lat)\n",
    "    abslon = np.abs(longitude[:,:]-stn_lon)\n",
    "\n",
    "# Now we need to combine these two results. We will use numpy.maximum, which takes two arrays and finds the local \n",
    "# maximum.\n",
    "    c = np.maximum(abslon, abslat)\n",
    "\n",
    "# If you don't like flattened arrays, you can also get the row/column index like this\n",
    "    y, x = np.where(c == np.min(c))\n",
    "    return(x,y);"
   ]
  }
 ],
 "metadata": {
  "kernelspec": {
   "display_name": "Python 3",
   "language": "python",
   "name": "python3"
  },
  "language_info": {
   "codemirror_mode": {
    "name": "ipython",
    "version": 3
   },
   "file_extension": ".py",
   "mimetype": "text/x-python",
   "name": "python",
   "nbconvert_exporter": "python",
   "pygments_lexer": "ipython3",
   "version": "3.6.7"
  }
 },
 "nbformat": 4,
 "nbformat_minor": 2
}
