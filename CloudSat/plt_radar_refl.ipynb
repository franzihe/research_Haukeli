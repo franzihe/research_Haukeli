{
 "cells": [
  {
   "cell_type": "markdown",
   "metadata": {},
   "source": [
    "https://www.science-emergence.com/Codes/Plot-CloudSat-radar-reflectivity-using-python-and-matplotlib/"
   ]
  },
  {
   "cell_type": "code",
   "execution_count": 1,
   "metadata": {},
   "outputs": [],
   "source": [
    "from pyhdf.SD import SD, SDC # To read a HDF file (SD data)\n",
    "from pyhdf.HDF import *\n",
    "from pyhdf.VS import *\n",
    "\n",
    "import numpy as np\n",
    "import matplotlib.pyplot as plt\n",
    "import matplotlib.cm as cm\n",
    "\n",
    "from mpl_toolkits.axes_grid1 import make_axes_locatable\n",
    "import pylab"
   ]
  },
  {
   "cell_type": "code",
   "execution_count": 2,
   "metadata": {},
   "outputs": [],
   "source": [
    "#---------- bits_stripping Function ----------#\n",
    "\n",
    "def bits_stripping(bit_start,bit_count,value):\n",
    "\tbitmask=pow(2,bit_start+bit_count)-1\n",
    "\treturn np.right_shift(np.bitwise_and(value,bitmask),bit_start)"
   ]
  },
  {
   "cell_type": "code",
   "execution_count": 3,
   "metadata": {},
   "outputs": [],
   "source": [
    "year_month = 201612\n",
    "targetfolder = '../../Data/CloudSat/2C_Precip/%s/' %year_month"
   ]
  },
  {
   "cell_type": "code",
   "execution_count": 8,
   "metadata": {},
   "outputs": [],
   "source": [
    "import pprint"
   ]
  },
  {
   "cell_type": "code",
   "execution_count": 10,
   "metadata": {},
   "outputs": [
    {
     "name": "stdout",
     "output_type": "stream",
     "text": [
      "[('Profile_time', '', 7, 20678, 1, 0, 4, 1962, 0),\n",
      " ('UTC_start', '', 8, 1, 1, 0, 4, 1962, 0),\n",
      " ('TAI_start', '', 9, 1, 1, 0, 8, 1962, 0),\n",
      " ('Latitude', '', 10, 20678, 1, 0, 4, 1962, 0),\n",
      " ('Longitude', '', 11, 20678, 1, 0, 4, 1962, 0),\n",
      " ('DEM_elevation', '', 13, 20678, 1, 0, 2, 1962, 0),\n",
      " ('Vertical_binsize', '', 14, 1, 1, 0, 4, 1962, 0),\n",
      " ('Data_quality', '', 15, 20678, 1, 0, 1, 1962, 0),\n",
      " ('Data_status', '', 16, 20678, 1, 0, 1, 1962, 0),\n",
      " ('Data_targetID', '', 17, 20678, 1, 0, 1, 1962, 0),\n",
      " ('snow_retrieval_status', '', 18, 20678, 1, 0, 1, 1962, 0),\n",
      " ('norm_chi_square', '', 19, 20678, 1, 0, 4, 1962, 0),\n",
      " ('snowfall_rate_sfc', '', 32, 20678, 1, 0, 4, 1962, 0),\n",
      " ('snowfall_rate_sfc_uncert', '', 33, 20678, 1, 0, 4, 1962, 0),\n",
      " ('snowfall_rate_sfc_confidence', '', 34, 20678, 1, 0, 1, 1962, 0),\n",
      " ('nray:2C-SNOW-PROFILE', 'DimVal0.1', 203, 1, 1, 0, 4, 1962, 0),\n",
      " ('nbin:2C-SNOW-PROFILE', 'DimVal0.1', 205, 1, 1, 0, 4, 1962, 0)]\n"
     ]
    }
   ],
   "source": [
    "\n",
    "#---------- Read HDF Files (VD data) ----------#\n",
    "\n",
    "f = HDF(targetfolder+'2016358111138_56684_CS_2C-SNOW-PROFILE_GRANULE_P_R04_E06.hdf') \n",
    "vs = f.vstart() \n",
    "data_info_list = vs.vdatainfo()\n",
    "#pprint.pprint(data_info_list)\n",
    "\n",
    "Latitude = vs.attach('Latitude')\n",
    "Longitude = vs.attach('Longitude')\n",
    "\n",
    "a = Latitude[:]\n",
    "\n",
    "Latitude.detach() # \"close\" the vdata\n",
    "Longitude.detach() # \"close\" the vdata\n",
    "vs.end() # terminate the vdata interface\n",
    "f.close() "
   ]
  },
  {
   "cell_type": "code",
   "execution_count": 14,
   "metadata": {},
   "outputs": [
    {
     "name": "stdout",
     "output_type": "stream",
     "text": [
      "{0: 'Height',\n",
      " 1: 'snowfall_rate',\n",
      " 2: 'snowfall_rate_uncert',\n",
      " 3: 'log_N0',\n",
      " 4: 'log_N0_uncert',\n",
      " 5: 'log_lambda',\n",
      " 6: 'log_lambda_uncert',\n",
      " 7: 'snow_water_content',\n",
      " 8: 'snow_water_content_uncert'}\n"
     ]
    }
   ],
   "source": [
    "#---------- Read HDF Files ----------#\n",
    "\n",
    "cpr_2b_geoprof = SD(targetfolder+'2016358111138_56684_CS_2C-SNOW-PROFILE_GRANULE_P_R04_E06.hdf', SDC.READ)\n",
    "datasets_dic = cpr_2b_geoprof.datasets()\n",
    "\n",
    "sds_dic = {}\n",
    "for key, value in datasets_dic.items():\n",
    "    sds_dic[value[3]] = key\n",
    "pprint.pprint( sds_dic)"
   ]
  },
  {
   "cell_type": "code",
   "execution_count": 15,
   "metadata": {},
   "outputs": [],
   "source": [
    "cpr_2b_geoprof_height = cpr_2b_geoprof.select('Height')\n",
    "#cpr_2b_geoprof_cloud_mask = cpr_2b_geoprof.select('CPR_Cloud_mask')\n",
    "#cpr_2b_geoprof_radar_reflectivity = cpr_2b_geoprof.select('Radar_Reflectivity')\n",
    "cpr_2b_geoprof_snow_water_content = cpr_2b_geoprof.select('snow_water_content')\n",
    "\n",
    "cpr_2b_geoprof_height_data = cpr_2b_geoprof_height.get()\n",
    "#cpr_2b_geoprof_cloud_mask_data = cpr_2b_geoprof_cloud_mask.get()\n",
    "#cpr_2b_geoprof_radar_reflectivity_data = cpr_2b_geoprof_radar_reflectivity.get()\n",
    "cpr_2b_geoprof_snow_water_content_data = cpr_2b_geoprof_snow_water_content.get()"
   ]
  },
  {
   "cell_type": "code",
   "execution_count": 17,
   "metadata": {},
   "outputs": [
    {
     "data": {
      "text/plain": [
       "0.50061285"
      ]
     },
     "execution_count": 17,
     "metadata": {},
     "output_type": "execute_result"
    }
   ],
   "source": [
    "cpr_2b_geoprof_snow_water_content_data.max()"
   ]
  },
  {
   "cell_type": "code",
   "execution_count": 19,
   "metadata": {},
   "outputs": [
    {
     "data": {
      "image/png": "[encoded data removed]",
      "text/plain": [
       "<Figure size 432x288 with 2 Axes>"
      ]
     },
     "metadata": {
      "needs_background": "light"
     },
     "output_type": "display_data"
    }
   ],
   "source": [
    "fillvalue = 15360\n",
    "missing = -8888\n",
    "\n",
    "img = np.zeros((800,125))\n",
    "img.fill(-30)\n",
    "\n",
    "#for i in np.arange(800):\n",
    " #   for j in np.arange(125):\n",
    "  #      k = int( 125 * (cpr_2b_geoprof_height_data[i,j] + 5000) / 35000 )\n",
    "   #     if cpr_2b_geoprof_radar_reflectivity_data[i,j] > -3000 and \\\n",
    "    #                cpr_2b_geoprof_radar_reflectivity_data[i,j] < 2100:\n",
    "     #       img[i,k] = cpr_2b_geoprof_radar_reflectivity_data[i,j] / 100\n",
    "\n",
    "ax = plt.subplot(111)\n",
    "im = ax.imshow(img.T, interpolation='bilinear', cmap=cm.jet, origin='lower', extent=[0,200,-10,60])\n",
    "\n",
    "plt.title( 'CLOUDSAT Radar Reflectivity' )\n",
    "\n",
    "plt.ylabel('Height (km)',fontsize=14)\n",
    "#pylab.yticks([-10,0,10,20,30,40,50,60], [-5,0,5,10,15,20,25,30])\n",
    "divider = make_axes_locatable(ax)\n",
    "cax = divider.append_axes(\"right\", size=\"3%\", pad=0.10)\n",
    "plt.colorbar(im, cax=cax)\n",
    "\n",
    "#plt.savefig(\"cloudsat_radar_reflectivity.png\")\n",
    "plt.show()"
   ]
  },
  {
   "cell_type": "code",
   "execution_count": 20,
   "metadata": {},
   "outputs": [
    {
     "data": {
      "text/plain": [
       "array([[-30., -30., -30., ..., -30., -30., -30.],\n",
       "       [-30., -30., -30., ..., -30., -30., -30.],\n",
       "       [-30., -30., -30., ..., -30., -30., -30.],\n",
       "       ...,\n",
       "       [-30., -30., -30., ..., -30., -30., -30.],\n",
       "       [-30., -30., -30., ..., -30., -30., -30.],\n",
       "       [-30., -30., -30., ..., -30., -30., -30.]])"
      ]
     },
     "execution_count": 20,
     "metadata": {},
     "output_type": "execute_result"
    }
   ],
   "source": [
    "img"
   ]
  },
  {
   "cell_type": "code",
   "execution_count": null,
   "metadata": {},
   "outputs": [],
   "source": []
  }
 ],
 "metadata": {
  "kernelspec": {
   "display_name": "Python 3",
   "language": "python",
   "name": "python3"
  },
  "language_info": {
   "codemirror_mode": {
    "name": "ipython",
    "version": 3
   },
   "file_extension": ".py",
   "mimetype": "text/x-python",
   "name": "python",
   "nbconvert_exporter": "python",
   "pygments_lexer": "ipython3",
   "version": "3.6.7"
  }
 },
 "nbformat": 4,
 "nbformat_minor": 2
}
