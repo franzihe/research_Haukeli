{
 "cells": [
  {
   "cell_type": "code",
   "execution_count": 7,
   "metadata": {},
   "outputs": [],
   "source": [
    "import sys\n",
    "sys.path.append('/uio/kant/geo-metos-u7/franzihe/Documents/Thesis/Python')\n",
    "\n",
    "import numpy as np\n",
    "import netCDF4\n",
    "import pandas as pd\n",
    "import matplotlib.pyplot as plt\n",
    "\n",
    "import createFolder as cF\n",
    "np.warnings.filterwarnings('ignore')\n",
    "\n"
   ]
  },
  {
   "cell_type": "code",
   "execution_count": 8,
   "metadata": {},
   "outputs": [],
   "source": [
    "m = ['11', '12', '01', '02', '03']\n",
    "station = 'Haukeliseter'"
   ]
  },
  {
   "cell_type": "markdown",
   "metadata": {},
   "source": [
    "### Retrieval data"
   ]
  },
  {
   "cell_type": "code",
   "execution_count": 9,
   "metadata": {},
   "outputs": [],
   "source": [
    "txt_dir = '../../Data/Retrieval/'\n",
    "txt_filename = 'pulsed_minute_surface_acc_Haukeli.dat.txt'\n",
    "txt_filename = 'upslope_minute_surface_acc_Haukeli.dat.txt'"
   ]
  },
  {
   "cell_type": "code",
   "execution_count": 10,
   "metadata": {
    "scrolled": true
   },
   "outputs": [],
   "source": [
    "def get_netCDF_variable(f, var_name, var, dim):\n",
    "    v_0m = f.createVariable(varname=var_name, datatype=var.dtype, dimensions=dim, zlib=True)\n",
    "    v_0m[:] = var[:]\n",
    "    return(v_0m)"
   ]
  },
  {
   "cell_type": "code",
   "execution_count": 11,
   "metadata": {
    "scrolled": true
   },
   "outputs": [],
   "source": [
    "Haukeli = pd.read_fwf(txt_dir+txt_filename,header=1)"
   ]
  },
  {
   "cell_type": "code",
   "execution_count": null,
   "metadata": {},
   "outputs": [],
   "source": [
    "for i in range(int(np.round((Haukeli.shape[0]-1)/int(1440/6+1)))):\n",
    "    Date = int(Haukeli['Unnamed: 0'][i*int(1440/6+1)])\n",
    "    precip_24 = (Haukeli['Unnamed: 1'][i*int(1440/6+1)])\n",
    "    precip_24 = np.array([precip_24])\n",
    "    \n",
    "    column0 = Haukeli['Unnamed: 0'][i*int(1440/6+1)+1:(i+1)*int(1440/6+1)]\n",
    "    column1 = Haukeli['Unnamed: 1'][i*int(1440/6+1)+1:(i+1)*int(1440/6+1)]\n",
    "    column2 = Haukeli['Unnamed: 2'][i*int(1440/6+1)+1:(i+1)*int(1440/6+1)]\n",
    "    column3 = Haukeli['Unnamed: 3'][i*int(1440/6+1)+1:(i+1)*int(1440/6+1)]\n",
    "    column4 = Haukeli['Unnamed: 4'][i*int(1440/6+1)+1:(i+1)*int(1440/6+1)]\n",
    "    column5 = Haukeli['Unnamed: 5'][i*int(1440/6+1)+1:(i+1)*int(1440/6+1)]\n",
    "\n",
    "    column0 = column0.convert_objects(convert_numeric=True)\n",
    "    column1 = column1.convert_objects(convert_numeric=True)\n",
    "    column2 = column2.convert_objects(convert_numeric=True)\n",
    "    column3 = column3.convert_objects(convert_numeric=True)\n",
    "    column4 = column4.convert_objects(convert_numeric=True)\n",
    "    column5 = column5.convert_objects(convert_numeric=True)\n",
    "\n",
    "    obs_diff = pd.concat([column0, column1, column2, column3, column4, column5], axis =1)\n",
    "    obs_diff = np.array(obs_diff)\n",
    "\n",
    "    obs_diff = obs_diff.flatten()/obs_diff.flatten().shape[0]\n",
    "    "
   ]
  },
  {
   "cell_type": "code",
   "execution_count": 12,
   "metadata": {},
   "outputs": [],
   "source": [
    "    filename = txt_filename.split('_')[0]+'_precip_%s.nc' %(Date)\n",
    "\n",
    "    ### write netCDF file\n",
    "    fw = netCDF4.Dataset(txt_dir+filename, 'w')\n",
    "    ### create dimensions\n",
    "    fw.createDimension('time', obs_diff.shape[0])\n",
    "    fw.createDimension('24h_acc_sum', precip_24.shape[0])\n",
    "    \n",
    "    precip_w       = get_netCDF_variable(fw, 'precipitation', obs_diff, ('time',))\n",
    "    total_precip_w = get_netCDF_variable(fw, '24h_precip_acc', precip_24, ('24h_acc_sum',) )\n",
    "    \n",
    "    fw.close()"
   ]
  },
  {
   "cell_type": "code",
   "execution_count": null,
   "metadata": {},
   "outputs": [],
   "source": []
  }
 ],
 "metadata": {
  "kernelspec": {
   "display_name": "Python 3",
   "language": "python",
   "name": "python3"
  },
  "language_info": {
   "codemirror_mode": {
    "name": "ipython",
    "version": 3
   },
   "file_extension": ".py",
   "mimetype": "text/x-python",
   "name": "python",
   "nbconvert_exporter": "python",
   "pygments_lexer": "ipython3",
   "version": "3.6.7"
  }
 },
 "nbformat": 4,
 "nbformat_minor": 2
}
