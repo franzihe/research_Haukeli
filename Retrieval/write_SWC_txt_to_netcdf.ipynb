{
 "cells": [
  {
   "cell_type": "code",
   "execution_count": 1,
   "metadata": {},
   "outputs": [],
   "source": [
    "import sys\n",
    "sys.path.append('/home/franzihe/Documents/Python/Thesis/')\n",
    "\n",
    "import pandas as pd\n",
    "import numpy as np\n",
    "import netCDF4\n",
    "import createFolder as cF\n",
    "import matplotlib.pyplot as plt"
   ]
  },
  {
   "cell_type": "code",
   "execution_count": 2,
   "metadata": {},
   "outputs": [],
   "source": [
    "station = 'Haukeliseter'"
   ]
  },
  {
   "cell_type": "code",
   "execution_count": 3,
   "metadata": {},
   "outputs": [],
   "source": [
    "txt_dir = '../../../Data/Retrieval/%s/SWC_hourly/' %(station)"
   ]
  },
  {
   "cell_type": "code",
   "execution_count": 4,
   "metadata": {},
   "outputs": [],
   "source": [
    "m = ['10', '11', '12', '01', '02', '03']"
   ]
  },
  {
   "cell_type": "code",
   "execution_count": 5,
   "metadata": {},
   "outputs": [],
   "source": [
    "txt_filename = 'hourly_swc_Haukeli.dat.txt'"
   ]
  },
  {
   "cell_type": "code",
   "execution_count": 6,
   "metadata": {},
   "outputs": [],
   "source": [
    "wind_pat = 'pulsed'\n",
    "\n",
    "\n",
    "Haukeli_p = pd.read_fwf(txt_dir + wind_pat + '_' + txt_filename,names = 'S')\n",
    "Haukeli_p\n",
    "\n",
    "wind_pat = 'upslope'\n",
    "Haukeli_u = pd.read_fwf(txt_dir + wind_pat + '_' + txt_filename,names = 'S')"
   ]
  },
  {
   "cell_type": "code",
   "execution_count": 7,
   "metadata": {},
   "outputs": [],
   "source": [
    "def get_netCDF_variable(f, var_name, var, dim):\n",
    "    v_0m = f.createVariable(varname=var_name, datatype=var.dtype, dimensions=dim, zlib=True)\n",
    "    v_0m[:] = var[:]\n",
    "    return(v_0m)"
   ]
  },
  {
   "cell_type": "code",
   "execution_count": 8,
   "metadata": {},
   "outputs": [],
   "source": [
    "def separate_SWC_to_days(Date,  Haukeli):\n",
    "    if Date == 20161031 or Date == 20161231 or Date == 20170131 or Date == 20170331:\n",
    "        if str(Date).split()[0][4:6] == '12':\n",
    "                next_Date = 20170101\n",
    "        else:\n",
    "            if int(str(Date).split()[0][4:6])+1 < 10:\n",
    "                    next_Date = int(year+'0'+str(int(str(Date).split()[0][4:6])+1)+'01')\n",
    "            else:\n",
    "                    next_Date = int(year+str(int(str(Date).split()[0][4:6])+1)+'01')\n",
    "    elif Date == 20161130:\n",
    "            next_Date = int(year+str(int(str(Date).split()[0][4:6])+1)+'01')\n",
    "    elif Date == 20170228:\n",
    "            next_Date = 20170301\n",
    "    else:\n",
    "            next_Date = Date+1\n",
    "            \n",
    "    idx_ = np.where(Haukeli['S'] == Date)[0] \n",
    "    idx_2 = np.where(Haukeli['S'] == next_Date)[0]\n",
    "    \n",
    "    \n",
    "    if len(idx_2) == 0:\n",
    "            _dd = pd.DataFrame(Haukeli['S'][idx_[0]+1 : ]).reset_index()\n",
    "    else:\n",
    "            _dd = pd.DataFrame(Haukeli['S'][idx_[0]+1 : idx_2[0]]).reset_index()\n",
    "        \n",
    "    if len(_dd) == 0:\n",
    "            print(Date, 'no data')\n",
    "            _s = np.empty(shape = (14,60*24))\n",
    "            _s[:] = np.nan\n",
    "    else:\n",
    "            hh = pd.DataFrame()\n",
    "            _s = np.empty(shape = (14,60*24))\n",
    "            _s[:] = np.nan\n",
    "            for i in range(0,24):\n",
    "                _h = _dd['S'][np.where(_dd['S'] == i*60)[0][0]+1  : np.where(_dd['S'] == i*60)[0][0]+15]\n",
    "                hh[str(int(_dd['S'][np.where(_dd['S'] == i*60)[0][0]]))] = _h[:].reset_index()['S']\n",
    "         #   hh = np.array(hh)\n",
    "            for i in range(0,60*24,60):\n",
    "                _s[:,i] = hh[str(i)][:]\n",
    "            \n",
    "    return _s"
   ]
  },
  {
   "cell_type": "code",
   "execution_count": 9,
   "metadata": {},
   "outputs": [
    {
     "name": "stdout",
     "output_type": "stream",
     "text": [
      "20161216 no data\n",
      "20161216 no data\n",
      "20161217 no data\n",
      "20161217 no data\n",
      "20161218 no data\n",
      "20161218 no data\n",
      "20170130 no data\n",
      "20170130 no data\n",
      "20170131 no data\n",
      "20170131 no data\n",
      "20170207 no data\n",
      "20170207 no data\n",
      "20170208 no data\n",
      "20170208 no data\n",
      "20170209 no data\n",
      "20170209 no data\n",
      "20170210 no data\n",
      "20170210 no data\n",
      "20170211 no data\n",
      "20170211 no data\n",
      "20170212 no data\n",
      "20170212 no data\n",
      "20170213 no data\n",
      "20170213 no data\n",
      "20170214 no data\n",
      "20170214 no data\n",
      "20170215 no data\n",
      "20170215 no data\n",
      "20170216 no data\n",
      "20170216 no data\n",
      "20170217 no data\n",
      "20170217 no data\n",
      "20170218 no data\n",
      "20170218 no data\n",
      "20170219 no data\n",
      "20170219 no data\n",
      "20170220 no data\n",
      "20170220 no data\n",
      "20170221 no data\n",
      "20170221 no data\n",
      "20170222 no data\n",
      "20170222 no data\n",
      "20170223 no data\n",
      "20170223 no data\n",
      "20170224 no data\n",
      "20170224 no data\n",
      "20170225 no data\n",
      "20170225 no data\n",
      "20170226 no data\n",
      "20170226 no data\n",
      "20170227 no data\n",
      "20170227 no data\n",
      "20170228 no data\n",
      "20170228 no data\n",
      "20170301 no data\n",
      "20170301 no data\n",
      "20170302 no data\n",
      "20170302 no data\n",
      "20170303 no data\n",
      "20170303 no data\n",
      "20170304 no data\n",
      "20170304 no data\n",
      "20170305 no data\n",
      "20170305 no data\n",
      "20170306 no data\n",
      "20170306 no data\n",
      "20170307 no data\n",
      "20170307 no data\n",
      "20170308 no data\n",
      "20170308 no data\n",
      "20170315 no data\n",
      "20170315 no data\n"
     ]
    }
   ],
   "source": [
    "for month in m:\n",
    "    if month == '10':\n",
    "        t = np.arange(16,32)\n",
    "    if month == '11':\n",
    "        t = np.arange(1,31)\n",
    "    if month == '12' or month == '01' or month == '03':\n",
    "        t = np.arange(1,32)\n",
    "    if month == '02':\n",
    "        t = np.arange(1,29)\n",
    "    if month == '10' or month == '11' or month == '12':\n",
    "        year = '2016'\n",
    "    if month == '01' or month == '02' or month == '03':\n",
    "        year = '2017'\n",
    "        \n",
    "    for day in t:\n",
    "        \n",
    "        if day < 10:\n",
    "            day = '0%s' %day\n",
    "        else:\n",
    "            day = '%s' %day\n",
    "        \n",
    "        Date = int(year+month+day)\n",
    "#        print(Date)\n",
    "        hh_u = separate_SWC_to_days(Date, Haukeli_u)\n",
    "        hh_p = separate_SWC_to_days(Date, Haukeli_p)\n",
    "        \n",
    "        ### write netCDF file\n",
    "        cF.createFolder(txt_dir )\n",
    "        fw = netCDF4.Dataset(txt_dir + '%s.nc' %Date, 'w')\n",
    "        fw.createDimension('time', hh_u.shape[1])\n",
    "        fw.createDimension('level', hh_u.shape[0])\n",
    "\n",
    "        hh_u_w = get_netCDF_variable(fw, 'upslope_SWC', hh_u, ('level', 'time',))\n",
    "        hh_p_w = get_netCDF_variable(fw, 'pulsed_SWC', hh_p, ('level', 'time',))\n",
    "        fw.close()"
   ]
  },
  {
   "cell_type": "code",
   "execution_count": 11,
   "metadata": {},
   "outputs": [
    {
     "data": {
      "text/plain": [
       "(14, 1440)"
      ]
     },
     "execution_count": 11,
     "metadata": {},
     "output_type": "execute_result"
    }
   ],
   "source": [
    "hh_u.shape"
   ]
  },
  {
   "cell_type": "code",
   "execution_count": null,
   "metadata": {},
   "outputs": [],
   "source": []
  }
 ],
 "metadata": {
  "kernelspec": {
   "display_name": "Python 3",
   "language": "python",
   "name": "python3"
  },
  "language_info": {
   "codemirror_mode": {
    "name": "ipython",
    "version": 3
   },
   "file_extension": ".py",
   "mimetype": "text/x-python",
   "name": "python",
   "nbconvert_exporter": "python",
   "pygments_lexer": "ipython3",
   "version": "3.7.3"
  }
 },
 "nbformat": 4,
 "nbformat_minor": 4
}
