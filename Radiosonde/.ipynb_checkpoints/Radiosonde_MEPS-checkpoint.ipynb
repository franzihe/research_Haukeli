{
 "cells": [
  {
   "cell_type": "markdown",
   "metadata": {
    "collapsed": true
   },
   "source": [
    "Skew-T Radiosonde plot\n",
    "\n",
    "$ source activate py36skewT\n",
    "\n",
    "$ jupyter notebook\n",
    "\n",
    "\n"
   ]
  },
  {
   "cell_type": "code",
   "execution_count": 42,
   "metadata": {
    "collapsed": true
   },
   "outputs": [],
   "source": [
    "import sys\n",
    "sys.path.append('/Volumes/SANDISK128/Applications/pyMeteo/pymeteo/')\n",
    "sys.path.append('/Volumes/SANDISK128/Documents/Research_UiO_50/research_Haukeli')\n",
    "sys.path.append('/Volumes/SANDISK128/Documents/Thesis/Python/')\n",
    "\n",
    "import numpy as np\n",
    "import netCDF4\n",
    "import pandas as pd\n",
    "\n",
    "import thermo\n",
    "from pymeteo.constants import *\n",
    "from datetime import date\n",
    "import datetime\n",
    "\n",
    "import calc_date as cd\n",
    "import createFolder as cF\n",
    "import plot_skewT as skewT\n",
    "\n",
    "import matplotlib.pyplot as plt\n",
    "\n"
   ]
  },
  {
   "cell_type": "code",
   "execution_count": 43,
   "metadata": {
    "collapsed": true
   },
   "outputs": [],
   "source": [
    "savefig = 0\n",
    "\n",
    "stn = 'Haukeliseter'\n",
    "\n",
    "#year = '2016'\n",
    "#year = '2017'"
   ]
  },
  {
   "cell_type": "raw",
   "metadata": {},
   "source": [
    "# Nov 2016\n",
    "month = '11'\n",
    "t = np.arange(11,19)\n",
    "t = np.append(t,[28,29])"
   ]
  },
  {
   "cell_type": "raw",
   "metadata": {},
   "source": [
    "# Dec 2016\n",
    "month = '12'\n",
    "t = np.arange(21,28)"
   ]
  },
  {
   "cell_type": "raw",
   "metadata": {},
   "source": [
    "# Jan 2017\n",
    "month = '01'\n",
    "t = np.arange(2,14)\n",
    "t = np.append(t,[28,29])"
   ]
  },
  {
   "cell_type": "raw",
   "metadata": {},
   "source": [
    "# Feb 2017\n",
    "month = '02'\n",
    "t = np.arange(1,5)"
   ]
  },
  {
   "cell_type": "code",
   "execution_count": 45,
   "metadata": {
    "collapsed": true
   },
   "outputs": [],
   "source": [
    "hh = ['00', '12']\n",
    "\n",
    "if savefig == 1:\n",
    "    fig_file = '../../Figures/Sounding/%s/%s%s/' %(stn,year,month)\n",
    "    cF.createFolder(fig_file)"
   ]
  },
  {
   "cell_type": "code",
   "execution_count": 46,
   "metadata": {},
   "outputs": [
    {
     "name": "stdout",
     "output_type": "stream",
     "text": [
      "saved: ../../Figures/Sounding/Haukeliseter/201701/20170102_00.png\n",
      "saved: ../../Figures/Sounding/Haukeliseter/201701/20170102_12.png\n",
      "saved: ../../Figures/Sounding/Haukeliseter/201701/20170103_00.png\n",
      "saved: ../../Figures/Sounding/Haukeliseter/201701/20170103_12.png\n",
      "saved: ../../Figures/Sounding/Haukeliseter/201701/20170104_00.png\n",
      "saved: ../../Figures/Sounding/Haukeliseter/201701/20170104_12.png\n",
      "saved: ../../Figures/Sounding/Haukeliseter/201701/20170105_00.png\n",
      "saved: ../../Figures/Sounding/Haukeliseter/201701/20170105_12.png\n",
      "saved: ../../Figures/Sounding/Haukeliseter/201701/20170106_00.png\n",
      "saved: ../../Figures/Sounding/Haukeliseter/201701/20170106_12.png\n",
      "saved: ../../Figures/Sounding/Haukeliseter/201701/20170107_00.png\n",
      "saved: ../../Figures/Sounding/Haukeliseter/201701/20170107_12.png\n",
      "saved: ../../Figures/Sounding/Haukeliseter/201701/20170108_00.png\n",
      "saved: ../../Figures/Sounding/Haukeliseter/201701/20170108_12.png\n",
      "saved: ../../Figures/Sounding/Haukeliseter/201701/20170109_00.png\n",
      "saved: ../../Figures/Sounding/Haukeliseter/201701/20170109_12.png\n",
      "saved: ../../Figures/Sounding/Haukeliseter/201701/20170110_00.png\n",
      "saved: ../../Figures/Sounding/Haukeliseter/201701/20170110_12.png\n",
      "saved: ../../Figures/Sounding/Haukeliseter/201701/20170111_00.png\n",
      "saved: ../../Figures/Sounding/Haukeliseter/201701/20170111_12.png\n",
      "saved: ../../Figures/Sounding/Haukeliseter/201701/20170112_00.png\n",
      "saved: ../../Figures/Sounding/Haukeliseter/201701/20170112_12.png\n",
      "saved: ../../Figures/Sounding/Haukeliseter/201701/20170113_00.png\n",
      "saved: ../../Figures/Sounding/Haukeliseter/201701/20170113_12.png\n",
      "saved: ../../Figures/Sounding/Haukeliseter/201701/20170128_00.png\n",
      "saved: ../../Figures/Sounding/Haukeliseter/201701/20170128_12.png\n",
      "saved: ../../Figures/Sounding/Haukeliseter/201701/20170129_00.png\n",
      "saved: ../../Figures/Sounding/Haukeliseter/201701/20170129_12.png\n"
     ]
    }
   ],
   "source": [
    "for day in t:\n",
    "    if day < 10:\n",
    "        day = '0%s' %day\n",
    "    ###### OPEN files ########\n",
    "    nc_file = '../../Data/MEPS/%s/%s%s/hybrid65_EM0_00/%s%s%s_00.nc' %(stn,year,month,year,month,day)\n",
    "    \n",
    "    fn = netCDF4.Dataset(nc_file)\n",
    "\n",
    "    # Read in time to know initialisation time (plotting)\n",
    "    time = fn.variables['time'][:]\n",
    "    # time = fv.fill_nan(time[:])\n",
    "    \n",
    "    for h in hh:\n",
    "        ini_day = datetime.datetime.utcfromtimestamp(time[int(h)]).day   # day of initialisation\n",
    "        hour    = datetime.datetime.utcfromtimestamp(time[int(h)]).hour  # hour of initialisation\n",
    "        calday, calmon = cd.get_dayname(year,month,ini_day)\n",
    "\n",
    "        # Read in the variable names which are needed for plotting the Radiosonde\n",
    "        T = fn.variables['air_temperature_ml'][:,:]\n",
    "        p = fn.variables['pressure_ml'][:,:]\n",
    "        u = fn.variables['x_wind_ml'][:,:]\n",
    "        v = fn.variables['y_wind_ml'][:,:]\n",
    "        qv = fn.variables['specific_humidity_ml'][:,:]\n",
    "\n",
    "        p = np.fliplr(p)\n",
    "\n",
    "\n",
    "        # Layer thickness to calculate height\n",
    "        thickness_ml = fn.variables['layer_thickness']\n",
    "        h_above = []\n",
    "        h_above.append(np.zeros(thickness_ml[:,:].shape[0]))\n",
    "        th_arr = np.nansum([np.asarray(h_above)[:,0], thickness_ml[:,0]], axis = 0)\n",
    "        h_above.append(th_arr)\n",
    "        for i in range(2,thickness_ml[:,:].shape[1]):\n",
    "            th_arr = np.nansum([np.array(h_above)[i-1], thickness_ml[:,i-1]],axis=0)\n",
    "            h_above.append(th_arr)\n",
    "        height_ml = np.transpose(h_above)\n",
    "\n",
    "# substitue missing values with nan\n",
    "#T = fv.fill_nan(T[:])\n",
    "#p = fv.fill_nan(p[:])\n",
    "#u = fv.fill_nan(u[:])\n",
    "#v = fv.fill_nan(v[:])\n",
    "#qv = fv.fill_nan(qv[:])\n",
    "\n",
    "        # calculate dew point with thermo.py\n",
    "        Td = thermo.Td(p, qv)\n",
    "\n",
    "        # get the temperature in °C\n",
    "        T  = T - T00\n",
    "        Td = Td - T00\n",
    "\n",
    "        # plot vertical temp profile\n",
    "        if hour < 10:\n",
    "            hour = '0%s' %hour\n",
    "\n",
    "        title = '%s, %s %s %s   %s$\\,$UTC' %(calday,ini_day,calmon,year,hour)\n",
    "#skewT.plot_skewT(T, Td, height_ml, p, u, v, title)\n",
    "        skewT.plot_skewT_MEPS(T, Td, height_ml, p, u, v, int(h), title)\n",
    "\n",
    "        if savefig == 1:\n",
    "            if ini_day < 10:\n",
    "                ini_day = '0%s' %ini_day\n",
    "            filename = fig_file+'%s%s%s_%s.png' %(year,month,ini_day,h)\n",
    "            plt.savefig(filename,orientation = 'portrait', papertype = 'a4')#, dpi=300,bbox_inches=0)\n",
    "            print('saved: %s' %filename)\n",
    "        else:\n",
    "            plt.show()\n",
    "        plt.close()    \n",
    "    \n",
    "\n",
    "\n"
   ]
  },
  {
   "cell_type": "code",
   "execution_count": null,
   "metadata": {
    "collapsed": true
   },
   "outputs": [],
   "source": []
  }
 ],
 "metadata": {
  "kernelspec": {
   "display_name": "Python 3",
   "language": "python",
   "name": "python3"
  },
  "language_info": {
   "codemirror_mode": {
    "name": "ipython",
    "version": 3
   },
   "file_extension": ".py",
   "mimetype": "text/x-python",
   "name": "python",
   "nbconvert_exporter": "python",
   "pygments_lexer": "ipython3",
   "version": "3.6.1"
  }
 },
 "nbformat": 4,
 "nbformat_minor": 2
}
