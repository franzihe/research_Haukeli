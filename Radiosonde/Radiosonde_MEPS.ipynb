{
 "cells": [
  {
   "cell_type": "markdown",
   "metadata": {
    "collapsed": true
   },
   "source": [
    "Skew-T Radiosonde plot\n",
    "\n",
    "$ source activate py36skewT\n",
    "\n",
    "$ jupyter notebook\n",
    "\n",
    "\n"
   ]
  },
  {
   "cell_type": "code",
   "execution_count": 79,
   "metadata": {},
   "outputs": [],
   "source": [
    "import sys\n",
    "sys.path.append('/Volumes/SANDISK128/Applications/pyMeteo/pymeteo/')\n",
    "sys.path.append('/Volumes/SANDISK128/Documents/Research_UiO_50/research_Haukeli')\n",
    "sys.path.append('/Volumes/SANDISK128/Documents/Thesis/Python/')\n",
    "\n",
    "import numpy as np\n",
    "import netCDF4\n",
    "import pandas as pd\n",
    "\n",
    "import thermo\n",
    "from pymeteo.constants import *\n",
    "from datetime import date\n",
    "import datetime\n",
    "\n",
    "import calc_date as cd\n",
    "import createFolder as cF\n",
    "import plot_skewT as skewT"
   ]
  },
  {
   "cell_type": "code",
   "execution_count": 80,
   "metadata": {},
   "outputs": [],
   "source": [
    "savefig = 0\n",
    "\n",
    "stn = 'Stavanger'\n",
    "\n",
    "year = '2016'\n",
    "# Nov 2016\n",
    "month = '11'\n",
    "t = np.arange(11,19)\n",
    "t = np.append(t,[28,29])\n",
    "\n",
    "# Dec 2016\n",
    "#month = '12'\n",
    "#t = np.arange(21,28)\n",
    "\n",
    "#year = '2017'\n",
    "# Jan 2017\n",
    "#month = '01'\n",
    "#t = np.arange(2,14)\n",
    "#t = np.append(t,[28,29])\n",
    "\n",
    "# Feb 2017\n",
    "#month = '02'\n",
    "#t = np.arange(1,5)\n",
    "\n",
    "hh = '00'\n",
    "\n",
    "if savefig == 1:\n",
    "    fig_file = '../../Figures/Sounding/%s/%s%s/' %(stn,year,month)\n",
    "    cF.createFolder(fig_file)"
   ]
  },
  {
   "cell_type": "code",
   "execution_count": 81,
   "metadata": {},
   "outputs": [],
   "source": [
    "for day in np.arange(11,12):\n",
    "    ###### OPEN files ########\n",
    "    nc_file = '../../Data/MEPS/%s/%s%s/hybrid65_EM0_%s/%s%s%s_00.nc' %(stn,year,month,hh,year,month,day)\n",
    "    \n",
    "    fn = netCDF4.Dataset(nc_file)"
   ]
  },
  {
   "cell_type": "code",
   "execution_count": 82,
   "metadata": {},
   "outputs": [
    {
     "data": {
      "text/plain": [
       "<class 'netCDF4._netCDF4.Dataset'>\n",
       "root group (NETCDF4 data model, file format HDF5):\n",
       "    dimensions(sizes): time(67), hybrid(65), ensemble_member(1)\n",
       "    variables(dimensions): float64 \u001b[4mtime\u001b[0m(time), float64 \u001b[4mhybrid\u001b[0m(hybrid), float64 \u001b[4mair_temperature_ml\u001b[0m(time,hybrid), float64 \u001b[4mspecific_humidity_ml\u001b[0m(time,hybrid), float64 \u001b[4mx_wind_ml\u001b[0m(time,hybrid), float64 \u001b[4my_wind_ml\u001b[0m(time,hybrid), float32 \u001b[4matmosphere_cloud_condensed_water_content_ml\u001b[0m(time,hybrid), float32 \u001b[4matmosphere_cloud_ice_content_ml\u001b[0m(time,hybrid), float32 \u001b[4mpressure_departure\u001b[0m(time,hybrid), float64 \u001b[4mpressure_ml\u001b[0m(time,hybrid), float64 \u001b[4mlayer_thickness\u001b[0m(time,hybrid), float64 \u001b[4mgeop_layer_thickness\u001b[0m(time,hybrid)\n",
       "    groups: "
      ]
     },
     "execution_count": 82,
     "metadata": {},
     "output_type": "execute_result"
    }
   ],
   "source": [
    "fn"
   ]
  },
  {
   "cell_type": "code",
   "execution_count": 85,
   "metadata": {},
   "outputs": [
    {
     "ename": "ValueError",
     "evalue": "The truth value of an array with more than one element is ambiguous. Use a.any() or a.all()",
     "output_type": "error",
     "traceback": [
      "\u001b[0;31m---------------------------------------------------------------------------\u001b[0m",
      "\u001b[0;31mValueError\u001b[0m                                Traceback (most recent call last)",
      "\u001b[0;32m<ipython-input-85-0b1e66a63e9c>\u001b[0m in \u001b[0;36m<module>\u001b[0;34m()\u001b[0m\n\u001b[1;32m     43\u001b[0m \u001b[0;34m\u001b[0m\u001b[0m\n\u001b[1;32m     44\u001b[0m \u001b[0mtitle\u001b[0m \u001b[0;34m=\u001b[0m \u001b[0;34m'%s, %s %s %s   %s$\\,$UTC'\u001b[0m \u001b[0;34m%\u001b[0m\u001b[0;34m(\u001b[0m\u001b[0mcalday\u001b[0m\u001b[0;34m,\u001b[0m\u001b[0mini_day\u001b[0m\u001b[0;34m,\u001b[0m\u001b[0mcalmon\u001b[0m\u001b[0;34m,\u001b[0m\u001b[0myear\u001b[0m\u001b[0;34m,\u001b[0m\u001b[0mhour\u001b[0m\u001b[0;34m)\u001b[0m\u001b[0;34m\u001b[0m\u001b[0m\n\u001b[0;32m---> 45\u001b[0;31m \u001b[0mskewT\u001b[0m\u001b[0;34m.\u001b[0m\u001b[0mplot_skewT\u001b[0m\u001b[0;34m(\u001b[0m\u001b[0mT\u001b[0m\u001b[0;34m,\u001b[0m \u001b[0mTd\u001b[0m\u001b[0;34m,\u001b[0m \u001b[0mheight_ml\u001b[0m\u001b[0;34m,\u001b[0m \u001b[0mp\u001b[0m\u001b[0;34m,\u001b[0m \u001b[0mu\u001b[0m\u001b[0;34m,\u001b[0m \u001b[0mv\u001b[0m\u001b[0;34m,\u001b[0m \u001b[0mtitle\u001b[0m\u001b[0;34m)\u001b[0m\u001b[0;34m\u001b[0m\u001b[0m\n\u001b[0m\u001b[1;32m     46\u001b[0m \u001b[0;31m#skewT.plot_skewT_EM(T, Td, height_ml, p, u, v, int(hh), title)\u001b[0m\u001b[0;34m\u001b[0m\u001b[0;34m\u001b[0m\u001b[0m\n\u001b[1;32m     47\u001b[0m \u001b[0;34m\u001b[0m\u001b[0m\n",
      "\u001b[0;32m/Volumes/SANDISK128/Documents/Research_UiO_50/research_Haukeli/Radiosonde/plot_skewT.py\u001b[0m in \u001b[0;36mplot_skewT\u001b[0;34m(T, Td, z, p, u, v, text)\u001b[0m\n\u001b[1;32m     44\u001b[0m     \u001b[0max4\u001b[0m \u001b[0;34m=\u001b[0m \u001b[0mplt\u001b[0m\u001b[0;34m.\u001b[0m\u001b[0msubplot\u001b[0m\u001b[0;34m(\u001b[0m\u001b[0mgs\u001b[0m\u001b[0;34m[\u001b[0m\u001b[0;36m0\u001b[0m\u001b[0;34m,\u001b[0m\u001b[0;34m-\u001b[0m\u001b[0;36m1\u001b[0m\u001b[0;34m]\u001b[0m\u001b[0;34m)\u001b[0m\u001b[0;34m\u001b[0m\u001b[0m\n\u001b[1;32m     45\u001b[0m     \u001b[0mskewt\u001b[0m\u001b[0;34m.\u001b[0m\u001b[0mplot_wind_axes\u001b[0m\u001b[0;34m(\u001b[0m\u001b[0max4\u001b[0m\u001b[0;34m)\u001b[0m\u001b[0;34m\u001b[0m\u001b[0m\n\u001b[0;32m---> 46\u001b[0;31m     \u001b[0mskewt\u001b[0m\u001b[0;34m.\u001b[0m\u001b[0mplot_wind_barbs\u001b[0m\u001b[0;34m(\u001b[0m\u001b[0max4\u001b[0m\u001b[0;34m,\u001b[0m\u001b[0mz\u001b[0m\u001b[0;34m,\u001b[0m\u001b[0mp\u001b[0m\u001b[0;34m,\u001b[0m\u001b[0mu\u001b[0m\u001b[0;34m,\u001b[0m\u001b[0mv\u001b[0m\u001b[0;34m)\u001b[0m\u001b[0;34m\u001b[0m\u001b[0m\n\u001b[0m\u001b[1;32m     47\u001b[0m \u001b[0;34m\u001b[0m\u001b[0m\n\u001b[1;32m     48\u001b[0m \u001b[0;31m# Add labels for levels based on surface parcel\u001b[0m\u001b[0;34m\u001b[0m\u001b[0;34m\u001b[0m\u001b[0m\n",
      "\u001b[0;32m/Volumes/SANDISK128/Documents/Research_UiO_50/research_Haukeli/Radiosonde/skewt_modi.py\u001b[0m in \u001b[0;36mplot_wind_barbs\u001b[0;34m(axes, z, p, u, v)\u001b[0m\n\u001b[1;32m    862\u001b[0m \u001b[0;32mdef\u001b[0m \u001b[0mplot_wind_barbs\u001b[0m\u001b[0;34m(\u001b[0m\u001b[0maxes\u001b[0m\u001b[0;34m,\u001b[0m \u001b[0mz\u001b[0m\u001b[0;34m,\u001b[0m \u001b[0mp\u001b[0m\u001b[0;34m,\u001b[0m \u001b[0mu\u001b[0m\u001b[0;34m,\u001b[0m \u001b[0mv\u001b[0m\u001b[0;34m)\u001b[0m\u001b[0;34m:\u001b[0m\u001b[0;34m\u001b[0m\u001b[0m\n\u001b[1;32m    863\u001b[0m     \u001b[0;32mfor\u001b[0m \u001b[0mi\u001b[0m \u001b[0;32min\u001b[0m \u001b[0mnp\u001b[0m\u001b[0;34m.\u001b[0m\u001b[0marange\u001b[0m\u001b[0;34m(\u001b[0m\u001b[0;36m0\u001b[0m\u001b[0;34m,\u001b[0m\u001b[0mlen\u001b[0m\u001b[0;34m(\u001b[0m\u001b[0mz\u001b[0m\u001b[0;34m)\u001b[0m\u001b[0;34m)\u001b[0m\u001b[0;34m:\u001b[0m\u001b[0;34m\u001b[0m\u001b[0m\n\u001b[0;32m--> 864\u001b[0;31m         \u001b[0;32mif\u001b[0m \u001b[0;34m(\u001b[0m\u001b[0mp\u001b[0m\u001b[0;34m[\u001b[0m\u001b[0mi\u001b[0m\u001b[0;34m]\u001b[0m \u001b[0;34m>\u001b[0m \u001b[0mpt_plot\u001b[0m\u001b[0;34m)\u001b[0m\u001b[0;34m:\u001b[0m\u001b[0;34m\u001b[0m\u001b[0m\n\u001b[0m\u001b[1;32m    865\u001b[0m             \u001b[0mplt\u001b[0m\u001b[0;34m.\u001b[0m\u001b[0mbarbs\u001b[0m\u001b[0;34m(\u001b[0m\u001b[0;36m0\u001b[0m\u001b[0;34m,\u001b[0m\u001b[0mp\u001b[0m\u001b[0;34m[\u001b[0m\u001b[0mi\u001b[0m\u001b[0;34m]\u001b[0m\u001b[0;34m,\u001b[0m\u001b[0mu\u001b[0m\u001b[0;34m[\u001b[0m\u001b[0mi\u001b[0m\u001b[0;34m]\u001b[0m\u001b[0;34m,\u001b[0m\u001b[0mv\u001b[0m\u001b[0;34m[\u001b[0m\u001b[0mi\u001b[0m\u001b[0;34m]\u001b[0m\u001b[0;34m,\u001b[0m \u001b[0mlength\u001b[0m\u001b[0;34m=\u001b[0m\u001b[0;36m8.\u001b[0m\u001b[0;34m,\u001b[0m \u001b[0mlinewidth\u001b[0m\u001b[0;34m=\u001b[0m\u001b[0;36m2.\u001b[0m\u001b[0;34m)\u001b[0m\u001b[0;34m\u001b[0m\u001b[0m\n\u001b[1;32m    866\u001b[0m \u001b[0;34m\u001b[0m\u001b[0m\n",
      "\u001b[0;31mValueError\u001b[0m: The truth value of an array with more than one element is ambiguous. Use a.any() or a.all()"
     ]
    }
   ],
   "source": [
    "# Read in time to know initialisation time (plotting)\n",
    "time = fn.variables['time'][:]\n",
    "# time = fv.fill_nan(time[:])\n",
    "ini_day = datetime.datetime.utcfromtimestamp(time[int(hh)]).day   # day of initialisation\n",
    "hour    = datetime.datetime.utcfromtimestamp(time[int(hh)]).hour  # hour of initialisation\n",
    "calday, calmon = cd.get_dayname(year,month,ini_day)\n",
    "\n",
    "# Read in the variable names which are needed for plotting the Radiosonde\n",
    "T = fn.variables['air_temperature_ml'][:,:]\n",
    "p = fn.variables['pressure_ml'][:,:]\n",
    "u = fn.variables['x_wind_ml'][:,:]\n",
    "v = fn.variables['y_wind_ml'][:,:]\n",
    "qv = fn.variables['specific_humidity_ml'][:,:]\n",
    "\n",
    "# Layer thickness to calculate height\n",
    "thickness_ml = fn.variables['layer_thickness']\n",
    "h_above = []\n",
    "h_above.append(np.zeros(thickness_ml[:,:].shape[0]))\n",
    "th_arr = np.nansum([np.asarray(h_above)[:,0], thickness_ml[:,0]], axis = 0)\n",
    "h_above.append(th_arr)\n",
    "for i in range(2,thickness_ml[:,:].shape[1]):\n",
    "    th_arr = np.nansum([np.array(h_above)[i-1], thickness_ml[:,i-1]],axis=0)\n",
    "    h_above.append(th_arr)\n",
    "height_ml = np.transpose(h_above)\n",
    "\n",
    "# substitue missing values with nan\n",
    "#T = fv.fill_nan(T[:])\n",
    "#p = fv.fill_nan(p[:])\n",
    "#u = fv.fill_nan(u[:])\n",
    "#v = fv.fill_nan(v[:])\n",
    "#qv = fv.fill_nan(qv[:])\n",
    "\n",
    "# calculate dew point with thermo.py\n",
    "Td = thermo.Td(p, qv)\n",
    "\n",
    "# get the temperature in °C\n",
    "T  = T - T00\n",
    "Td = T - T00\n",
    "\n",
    "# plot vertical temp profile\n",
    "if hour < 10:\n",
    "    hour = '0%s' %hour\n",
    "\n",
    "title = '%s, %s %s %s   %s$\\,$UTC' %(calday,ini_day,calmon,year,hour)\n",
    "skewT.plot_skewT(T, Td, height_ml, p, u, v, title)\n",
    "#skewT.plot_skewT_EM(T, Td, height_ml, p, u, v, int(hh), title)\n",
    "\n",
    "if savefig == 1:\n",
    "    filename = fig_file+'%s%s%s_%s.png' %(year,month,ini_day,hh)\n",
    "    plt.savefig(filename,orientation = 'portrait', papertype = 'a4')#, dpi=300,bbox_inches=0)\n",
    "else:\n",
    "    plt.show()\n",
    "plt.close()    \n",
    "    \n",
    "\n",
    "\n"
   ]
  },
  {
   "cell_type": "code",
   "execution_count": null,
   "metadata": {
    "collapsed": true
   },
   "outputs": [],
   "source": []
  }
 ],
 "metadata": {
  "kernelspec": {
   "display_name": "Python 3",
   "language": "python",
   "name": "python3"
  },
  "language_info": {
   "codemirror_mode": {
    "name": "ipython",
    "version": 3
   },
   "file_extension": ".py",
   "mimetype": "text/x-python",
   "name": "python",
   "nbconvert_exporter": "python",
   "pygments_lexer": "ipython3",
   "version": "3.6.1"
  }
 },
 "nbformat": 4,
 "nbformat_minor": 2
}
