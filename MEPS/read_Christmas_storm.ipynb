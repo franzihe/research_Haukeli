{
 "cells": [
  {
   "cell_type": "code",
   "execution_count": 1,
   "metadata": {},
   "outputs": [],
   "source": [
    "import sys\n",
    "sys.path.append('/uio/kant/geo-metos-u7/franzihe/Documents/Thesis/Python')\n",
    "import time\n",
    "import netCDF4\n",
    "import numpy as np\n",
    "import matplotlib.pyplot as plt\n",
    "import datetime\n",
    "import pandas as pd\n",
    "#import fill_values as fv\n",
    "#import calc_station_properties as cs\n",
    "\n",
    "import createFolder as cF\n",
    "from scipy.integrate import simps\n",
    "import fcts_read_stat as rs\n"
   ]
  },
  {
   "cell_type": "code",
   "execution_count": 7,
   "metadata": {},
   "outputs": [],
   "source": [
    "thredds      = 'http://thredds.met.no/thredds/dodsC/metusers/dagb/Franziska'\n",
    "\n",
    "stn_name     = 'Haukeliseter'\n",
    "stn_lat      = 59.81\n",
    "stn_lon      = 7.21\n",
    "#stn_name     = 'Stavanger'\n",
    "#stn_lat      = 58.87\n",
    "#stn_lon      = 5.67\n",
    "\n",
    "year        = 2016\n",
    "month        = 12\n",
    "day          = 26\n",
    "forecasttime = '00'"
   ]
  },
  {
   "cell_type": "code",
   "execution_count": 45,
   "metadata": {},
   "outputs": [],
   "source": [
    "def mask_array(variable, #ens_memb, \n",
    "               y, x, EM):\n",
    "    if EM == 10:\n",
    "        if np.ma.is_masked(variable[:,:,#ens_memb,\n",
    "                                    y,x]):\n",
    "            mask = np.ma.getmaskarray(variable[:,:,#ens_memb,\n",
    "                                               y,x])  \n",
    "            fill_value = np.nan\n",
    "            marr = np.ma.array(variable[:,:,#ens_memb,\n",
    "                                        y,x], mask = mask, fill_value = fill_value)\n",
    "            dtype = marr.filled().dtype\n",
    "            filled = marr.filled()\n",
    "        else:\n",
    "            fill_value = np.nan\n",
    "            marr = variable[:,:,:,#ens_memb,\n",
    "                        y,x]\n",
    "            filled = marr\n",
    "            dtype = marr.dtype\n",
    "    elif EM == 1:\n",
    "        if np.ma.is_masked(variable[:,:,y,x]):\n",
    "            mask = np.ma.getmaskarray(variable[:,:,y,x])  \n",
    "            fill_value = np.nan\n",
    "            marr = np.ma.array(variable[:,:,y,x], mask = mask, fill_value = fill_value)\n",
    "            dtype = marr.filled().dtype\n",
    "            filled = marr.filled()\n",
    "        else:\n",
    "            fill_value = np.nan\n",
    "            marr = variable[:,:,y,x]\n",
    "            filled = marr\n",
    "            dtype = marr.dtype\n",
    "    return(filled, dtype)"
   ]
  },
  {
   "cell_type": "code",
   "execution_count": null,
   "metadata": {},
   "outputs": [],
   "source": []
  },
  {
   "cell_type": "code",
   "execution_count": null,
   "metadata": {},
   "outputs": [],
   "source": []
  },
  {
   "cell_type": "code",
   "execution_count": null,
   "metadata": {},
   "outputs": [],
   "source": []
  },
  {
   "cell_type": "code",
   "execution_count": 47,
   "metadata": {},
   "outputs": [],
   "source": [
    "fn = dict()\n",
    "latitude  = dict()\n",
    "longitude = dict()\n",
    "x = dict()\n",
    "y = dict()\n",
    "\n",
    "ap = dict()\n",
    "b = dict()\n",
    "surface_air_pressure = dict()\n",
    "air_temperature_0m = dict()\n",
    "air_temperature_ml = dict()\n",
    "dtype_sap  = dict()\n",
    "dtype_at0m =  dict()\n",
    "dtype_atml = dict()"
   ]
  },
  {
   "cell_type": "code",
   "execution_count": 49,
   "metadata": {},
   "outputs": [],
   "source": [
    "for ens_memb in range(10):\n",
    "    fn[ens_memb] = netCDF4.Dataset('%s/%s%s%s_%s/meps_mbr00%s_%s%s%s%s.nc' %(thredds,year,month,day,forecasttime,ens_memb,year,month,day,forecasttime),'r')\n",
    "\n",
    "    ## Latitudes\n",
    "    ## [y = 949][x = 739]\n",
    "    latitude[ens_memb] = fn[ens_memb].variables['latitude']\n",
    "\n",
    "    ## Longitudes \n",
    "    ## [y = 949][x = 739]\n",
    "    longitude[ens_memb] = fn[ens_memb].variables['longitude']\n",
    "\n",
    "    # Now find the absolute value of the difference between the  station's lat/lon with every point in the grid. \n",
    "    x[ens_memb],y[ens_memb] = rs.find_station_yx(latitude[ens_memb], longitude[ens_memb], stn_lat, stn_lon)\n",
    "    y[ens_memb] = y[ens_memb][0]\n",
    "    x[ens_memb] = x[ens_memb][0]\n",
    "\n",
    "    \n",
    "    ######## with Vertical Levels ( hybrid )#################################\n",
    "    ## hybrid levels atmosphere_hybrid_sigma_pressure_coordinate\n",
    "    # formula: p(n,k,j,i) = ap(k) + b(k)*ps(n,j,i)\n",
    "    # positive: down\n",
    "\n",
    "\n",
    "    ### variables to calculate pressure\n",
    "    #p0 = fn.variables['p0']    ## p0: p0\n",
    "    ap[ens_memb] = fn[ens_memb].variables['ap'][:]    ## ap: ap\n",
    "    b[ens_memb] = fn[ens_memb].variables['b'][:]      ## b: b\n",
    "    \n",
    "    surface_air_pressure[ens_memb] = fn[ens_memb].variables['surface_air_pressure'][:]\n",
    "    air_temperature_0m[ens_memb]   = fn[ens_memb].variables['air_temperature_0m'][:]\n",
    "    air_temperature_ml[ens_memb]   = fn[ens_memb].variables['air_temperature_ml']\n",
    "    \n",
    "    ### mask arrays\n",
    "    "
   ]
  },
  {
   "cell_type": "code",
   "execution_count": 50,
   "metadata": {},
   "outputs": [],
   "source": [
    "for ens_memb in range(10):\n",
    "    surface_air_pressure[ens_memb], dtype_sap[ens_memb]  = mask_array(surface_air_pressure[ens_memb], \n",
    "                                                      y[ens_memb], x[ens_memb],EM=1)\n",
    "    air_temperature_0m[ens_memb],   dtype_at0m[ens_memb] = mask_array(air_temperature_0m[ens_memb],    \n",
    "                                                      y[ens_memb], x[ens_memb],EM=1)\n",
    "    air_temperature_ml[ens_memb],   dtype_atml[ens_memb] = mask_array(air_temperature_ml[ens_memb],  \n",
    "                                                     y[ens_memb], x[ens_memb],EM=1)\n"
   ]
  },
  {
   "cell_type": "code",
   "execution_count": 150,
   "metadata": {},
   "outputs": [],
   "source": [
    "\n",
    "\n",
    "\n",
    "\n",
    "### Transfer pressure coordinate\n",
    "p_interface = ap[:]+b[:]*surface_air_pressure[:,:]\n",
    "    \n",
    "\n",
    "### 1) Connect interface values and surface values for pressure\n",
    "### Pressure\n",
    "p_interfaces2 = np.concatenate((p_interface[:,:],surface_air_pressure[:,:]),axis=1)\n",
    "\n",
    "# transform hybrid sigma pressure coordinates at interface levels to pressure at model levels\n",
    "p_ml = np.empty([p_interfaces2.shape[0],p_interfaces2.shape[1]-1])\n",
    "for i in range(0,p_interfaces2.shape[1]-1):\n",
    "    p_ml[:,i] = 1/2 * (p_interfaces2[:,i] + p_interfaces2[:,i+1])\n",
    "p_ml = np.concatenate((p_ml[:,:],surface_air_pressure[:,:]),axis=1)\n",
    "    \n",
    "### --> Now the pressure is calculated at each model level\n",
    "\n",
    "### 2) Connect model levels and surface values for temperature\n",
    "### Temperature\n",
    "temperature_ml = np.concatenate((air_temperature_ml[:,:],\n",
    "                                        air_temperature_0m[:,:]),axis=1)\n",
    "\n",
    "    \n",
    "\n",
    "dz, dgeop = rs.get_thickness(p_ml, temperature_ml)\n"
   ]
  },
  {
   "cell_type": "code",
   "execution_count": 151,
   "metadata": {},
   "outputs": [],
   "source": [
    "thickness = dz\n",
    "h_above = []\n",
    "h_above.append(np.zeros(thickness[:,:].shape[0]))\n",
    "th_arr = np.nansum([np.asarray(h_above)[:,0], thickness[:,0]], axis = 0)\n",
    "h_above.append(th_arr)\n",
    "for i in range(2,thickness[:,:].shape[1]):    \n",
    "    th_arr = np.nansum([h_above[i-1], thickness[:,i-1]], axis = 0)\n",
    "    h_above.append(th_arr)\n",
    "height_ml = np.transpose(h_above) "
   ]
  },
  {
   "cell_type": "code",
   "execution_count": 152,
   "metadata": {},
   "outputs": [],
   "source": [
    "pressure_ml = p_ml[:,0:-1]"
   ]
  },
  {
   "cell_type": "code",
   "execution_count": 153,
   "metadata": {},
   "outputs": [],
   "source": [
    "####\n",
    "# calculate density at each level\n",
    "Rd = 287.\n",
    "density_ml = pressure_ml/(Rd*air_temperature_ml)"
   ]
  },
  {
   "cell_type": "code",
   "execution_count": 154,
   "metadata": {},
   "outputs": [],
   "source": [
    "mass_fraction_of_snow_in_air_ml = fn.variables['mass_fraction_of_snow_in_air_ml'][:,:,y,x]\n"
   ]
  },
  {
   "cell_type": "code",
   "execution_count": 155,
   "metadata": {},
   "outputs": [],
   "source": [
    "mass_fraction_of_cloud_condensed_water_in_air_ml = fn.variables['mass_fraction_of_cloud_condensed_water_in_air_ml'][:,:,y,x]"
   ]
  },
  {
   "cell_type": "code",
   "execution_count": 156,
   "metadata": {},
   "outputs": [],
   "source": [
    "mass_fraction_of_cloud_ice_in_air_ml = fn.variables['mass_fraction_of_cloud_ice_in_air_ml'][:,:,y,x]"
   ]
  },
  {
   "cell_type": "code",
   "execution_count": 157,
   "metadata": {},
   "outputs": [],
   "source": [
    "mass_fraction_of_graupel_in_air_ml = fn.variables['mass_fraction_of_graupel_in_air_ml'][:,:,y,x]"
   ]
  },
  {
   "cell_type": "code",
   "execution_count": 158,
   "metadata": {},
   "outputs": [],
   "source": [
    "mass_fraction_of_rain_in_air_ml = fn.variables['mass_fraction_of_rain_in_air_ml'][:,:,y,x]"
   ]
  },
  {
   "cell_type": "code",
   "execution_count": 159,
   "metadata": {},
   "outputs": [],
   "source": [
    "ice = mass_fraction_of_snow_in_air_ml + mass_fraction_of_cloud_ice_in_air_ml + mass_fraction_of_graupel_in_air_ml"
   ]
  },
  {
   "cell_type": "code",
   "execution_count": 160,
   "metadata": {},
   "outputs": [],
   "source": [
    "# convert from [kg/kg] to [kg/m^3]\n",
    "ice_amount_ml = (ice*density_ml)"
   ]
  },
  {
   "cell_type": "code",
   "execution_count": 161,
   "metadata": {},
   "outputs": [],
   "source": [
    "# convert the snow amount from [kg/m^2] into [g/m^2] by multiply with 1000\n",
    "ice_amount_ml = (ice_amount_ml*1000.)"
   ]
  },
  {
   "cell_type": "code",
   "execution_count": 162,
   "metadata": {},
   "outputs": [
    {
     "data": {
      "text/plain": [
       "(49, 65)"
      ]
     },
     "execution_count": 162,
     "metadata": {},
     "output_type": "execute_result"
    }
   ],
   "source": [
    "height_ml.shape"
   ]
  },
  {
   "cell_type": "code",
   "execution_count": 163,
   "metadata": {},
   "outputs": [],
   "source": [
    "time = fn.variables['time'][:]"
   ]
  },
  {
   "cell_type": "code",
   "execution_count": 164,
   "metadata": {},
   "outputs": [
    {
     "data": {
      "text/plain": [
       "((49,), (49, 65), (49, 65))"
      ]
     },
     "execution_count": 164,
     "metadata": {},
     "output_type": "execute_result"
    }
   ],
   "source": [
    "time.shape, height_ml.shape, (ice_amount_ml).shape"
   ]
  },
  {
   "cell_type": "code",
   "execution_count": 165,
   "metadata": {},
   "outputs": [
    {
     "data": {
      "text/plain": [
       "(49, 65)"
      ]
     },
     "execution_count": 165,
     "metadata": {},
     "output_type": "execute_result"
    }
   ],
   "source": [
    "mass_fraction_of_cloud_condensed_water_in_air_ml.shape"
   ]
  },
  {
   "cell_type": "code",
   "execution_count": 166,
   "metadata": {},
   "outputs": [],
   "source": [
    "lead_time = np.arange(0,mass_fraction_of_cloud_condensed_water_in_air_ml.shape[0])\n",
    "model_level = np.arange(0,mass_fraction_of_cloud_condensed_water_in_air_ml.shape[1])\n",
    "td,Y = np.meshgrid(lead_time,model_level,)"
   ]
  },
  {
   "cell_type": "code",
   "execution_count": 167,
   "metadata": {},
   "outputs": [],
   "source": [
    "height_MRR = np.arange(300,3100,200)"
   ]
  },
  {
   "cell_type": "code",
   "execution_count": 168,
   "metadata": {},
   "outputs": [],
   "source": [
    "time_MEPS = np.empty(shape=(td.shape[1], height_MRR.shape[0]))\n",
    "height_MEPS = np.empty(shape=(height_ml.shape[0], height_MRR.shape[0]))\n",
    "SWC_MEPS = np.empty(shape=(ice_amount_ml.shape[0], height_MRR.shape[0]))\n",
    "for i in range(height_ml.shape[0]):\n",
    "    for k in range(height_MRR.shape[0]):\n",
    "        idx1 = (np.abs(height_ml[i,:] - np.array(height_MRR)[k]).argmin())\n",
    "        \n",
    "        height_MEPS[i,k] = height_ml[i,idx1]\n",
    "        time_MEPS[i,k]   = td[idx1,i]\n",
    "        SWC_MEPS[i,k]    = ice_amount_ml[i,idx1]"
   ]
  },
  {
   "cell_type": "code",
   "execution_count": 169,
   "metadata": {},
   "outputs": [
    {
     "data": {
      "text/plain": [
       "<matplotlib.contour.QuadContourSet at 0x7f25deb8e668>"
      ]
     },
     "execution_count": 169,
     "metadata": {},
     "output_type": "execute_result"
    },
    {
     "data": {
      "image/png": "[encoded data removed]",
      "text/plain": [
       "<Figure size 432x288 with 1 Axes>"
      ]
     },
     "metadata": {
      "needs_background": "light"
     },
     "output_type": "display_data"
    }
   ],
   "source": [
    "fig = plt.figure()\n",
    "ax = fig.add_subplot(111)\n",
    "ax.contourf(time_MEPS, height_MEPS, np.fliplr(SWC_MEPS), np.arange(0,1.5,0.1), vmin=0, vmax=1.5, cmap='jet',extend='max')"
   ]
  },
  {
   "cell_type": "code",
   "execution_count": null,
   "metadata": {},
   "outputs": [],
   "source": []
  },
  {
   "cell_type": "code",
   "execution_count": null,
   "metadata": {},
   "outputs": [],
   "source": [
    "memb = np.arange(0,1)"
   ]
  },
  {
   "cell_type": "code",
   "execution_count": null,
   "metadata": {},
   "outputs": [],
   "source": [
    "######## with Vertical Levels ( hybrid )#################################\n",
    "## hybrid levels atmosphere_hybrid_sigma_pressure_coordinate\n",
    "# formula: p(n,k,j,i) = ap(k) + b(k)*ps(n,j,i)\n",
    "# positive: down\n",
    "\n",
    "\n",
    "### variables to calculate pressure\n",
    "#p0 = fn.variables['p0']    ## p0: p0\n",
    "ap = fn.variables['ap']    ## ap: ap\n",
    "b = fn.variables['b']      ## b: b\n",
    "\n",
    "surface_air_pressure = fn.variables['surface_air_pressure']\n",
    "air_temperature_0m   = fn.variables['air_temperature_0m']\n",
    "air_temperature_ml   = fn.variables['air_temperature_ml']"
   ]
  },
  {
   "cell_type": "code",
   "execution_count": null,
   "metadata": {},
   "outputs": [],
   "source": [
    "def mask_array(variable, #ens_memb, \n",
    "               y, x, EM):\n",
    "    if EM == 10:\n",
    "        if np.ma.is_masked(variable[:,:,:,#ens_memb,\n",
    "                                    y,x]):\n",
    "            mask = np.ma.getmaskarray(variable[:,:,:,#ens_memb,\n",
    "                                               y,x])  \n",
    "            fill_value = np.nan\n",
    "            marr = np.ma.array(variable[:,:,:,#ens_memb,\n",
    "                                        y,x], mask = mask, fill_value = fill_value)\n",
    "            dtype = marr.filled().dtype\n",
    "            filled = marr.filled()\n",
    "        else:\n",
    "            fill_value = np.nan\n",
    "            marr = variable[:,:,:,#ens_memb,\n",
    "                        y,x]\n",
    "            filled = marr\n",
    "            dtype = marr.dtype\n",
    "    elif EM == 1:\n",
    "        if np.ma.is_masked(variable[:,:,y,x]):\n",
    "            mask = np.ma.getmaskarray(variable[:,:,y,x])  \n",
    "            fill_value = np.nan\n",
    "            marr = np.ma.array(variable[:,:,y,x], mask = mask, fill_value = fill_value)\n",
    "            dtype = marr.filled().dtype\n",
    "            filled = marr.filled()\n",
    "        else:\n",
    "            fill_value = np.nan\n",
    "            marr = variable[:,:,y,x]\n",
    "            filled = marr\n",
    "            dtype = marr.dtype\n",
    "    return(filled, dtype)"
   ]
  },
  {
   "cell_type": "code",
   "execution_count": null,
   "metadata": {},
   "outputs": [],
   "source": [
    "### mask arrays\n",
    "surface_air_pressure, dtype_sap  = mask_array(surface_air_pressure, #ens_memb, \n",
    "                                                  y, x,EM=1)\n",
    "air_temperature_0m,   dtype_at0m = mask_array(air_temperature_0m,   #ens_memb, \n",
    "                                                  y, x,EM=1)\n",
    "air_temperature_ml,   dtype_atml = mask_array(air_temperature_ml,   #ens_memb, \n",
    "                                                  y, x,EM=1)"
   ]
  },
  {
   "cell_type": "code",
   "execution_count": null,
   "metadata": {},
   "outputs": [],
   "source": [
    "surface_air_pressure.shape"
   ]
  },
  {
   "cell_type": "code",
   "execution_count": null,
   "metadata": {},
   "outputs": [],
   "source": [
    "def get_value_at_station(fn, variable, y, x):\n",
    "    variable = fn.variables[variable]\n",
    "    variable, dtype = mask_array(variable,y,x,EM=1)\n",
    "    variable = np.fliplr(variable)\n",
    "    variable = np.ma.masked_where(np.isnan(variable), variable)\n",
    "    return(variable)"
   ]
  },
  {
   "cell_type": "code",
   "execution_count": null,
   "metadata": {},
   "outputs": [],
   "source": [
    "for ens_memb in memb:\n",
    "### Transfer pressure coordinate\n",
    "    p_interface = ap[:]+b[:]*surface_air_pressure[:,:]\n",
    "\n",
    "### 1) Connect interface values and surface values for pressure\n",
    "### Pressure\n",
    "    p_interfaces2 = np.concatenate((p_interface[:,:],surface_air_pressure[:,:]),axis=1)\n",
    "\n",
    "# transform hybrid sigma pressure coordinates at interface levels to pressure at model levels\n",
    "    p_ml = np.empty([p_interfaces2.shape[0],p_interfaces2.shape[1]-1])\n",
    "    for i in range(0,p_interfaces2.shape[1]-1):\n",
    "        p_ml[:,i] = 1/2 * (p_interfaces2[:,i] + p_interfaces2[:,i+1])\n",
    "    p_ml = np.concatenate((p_ml[:,:],surface_air_pressure[:,:]),axis=1)\n",
    "    \n",
    "### --> Now the pressure is calculated at each model level\n",
    "\n",
    "### 2) Connect model levels and surface values for temperature\n",
    "### Temperature\n",
    "    temperature_ml = np.concatenate((air_temperature_ml[:air_temperature_ml.shape[0],:],\n",
    "                                        air_temperature_0m[:air_temperature_ml.shape[0],:]),axis=1)\n",
    "\n",
    "    \n",
    "\n",
    "    dz, dgeop = rs.get_thickness(p_ml, temperature_ml)\n",
    "\n",
    "    if ens_memb == 0:\n",
    "        pressure_in_modellev = p_ml[:,0:-1]\n",
    "        thickness_m   = dz\n",
    "        thickness_phi = dgeop  \n",
    "    else:\n",
    "        pressure_in_modellev = np.dstack((pressure_in_modellev,p_ml[:,0:5]))\n",
    "        thickness_m   = np.dstack((thickness_m,dz))\n",
    "        thickness_phi = np.dstack((thickness_phi,dgeop))\n",
    "\n",
    "pressure_in_modellev = np.ma.array(pressure_in_modellev,mask=np.ma.is_masked(pressure_in_modellev), \n",
    "                                       fill_value = np.nan)\n",
    "thickness_m = np.ma.array(thickness_m,mask=np.ma.is_masked(thickness_m), \n",
    "                                       fill_value = np.nan)\n",
    "thickness_phi = np.ma.array(thickness_phi,mask=np.ma.is_masked(thickness_phi), \n",
    "                                       fill_value = np.nan)"
   ]
  },
  {
   "cell_type": "code",
   "execution_count": null,
   "metadata": {},
   "outputs": [],
   "source": [
    "# Read in all values needed to present the microphysics\n",
    "## Time\n",
    "time_arr = fn.variables['time']\n",
    "#ensemble_member_arr = fn.variables['ensemble_member']\n",
    "\n",
    "## heights\n",
    "height_above_msl_arr = fn.variables['height_above_msl']\n",
    "height0_arr = fn.variables['height0']\n",
    "height1_arr = fn.variables['height1']\n",
    "height3_arr = fn.variables['height3']\n",
    "hybrid_arr = fn.variables['hybrid']\n",
    "\n",
    "\n",
    "\n",
    "\n",
    "\n",
    "######## with Vertical Levels ( height0 ) #################################\n",
    "liquid_water_content_of_surface_snow = get_value_at_station(fn, 'liquid_water_content_of_surface_snow',y,x)\n",
    "air_temperature_0m                   = get_value_at_station(fn, 'air_temperature_0m', y,x)\n",
    "rainfall_amount                      = get_value_at_station(fn, 'rainfall_amount',y,x)\n",
    "snowfall_amount                      = get_value_at_station(fn, 'snowfall_amount',y,x)\n",
    "graupelfall_amount                   = get_value_at_station(fn, 'graupelfall_amount', y,x)\n",
    "surface_air_pressure                 = get_value_at_station(fn, 'surface_air_pressure',y,x)\n",
    "surface_geopotential                 = get_value_at_station(fn, 'surface_geopotential',y,x)\n",
    "precipitation_amount_acc             = get_value_at_station(fn, 'precipitation_amount_acc',y,x)\n",
    "int_rainfall_amount_wrt_time         = get_value_at_station(fn, 'integral_of_rainfall_amount_wrt_time',y,x)\n",
    "int_snowfall_amount_wrt_time         = get_value_at_station(fn, 'integral_of_snowfall_amount_wrt_time',y,x)\n",
    "int_graupelfall_amount_wrt_time      = get_value_at_station(fn, 'integral_of_graupelfall_amount_wrt_time',y,x)        \n",
    "        \n",
    "######## with Vertical Levels ( height1 )#################################\n",
    "air_temperature_2m   = get_value_at_station(fn,'air_temperature_2m',y,x)\n",
    "relative_humidity_2m = get_value_at_station(fn,'relative_humidity_2m',y,x)   \n",
    "specific_humidity_2m = get_value_at_station(fn,'specific_humidity_2m',y,x) \n",
    "\n",
    "######## with Vertical Levels ( height3 )#################################\n",
    "x_wind_10m = get_value_at_station(fn,'x_wind_10m',y,x)\n",
    "y_wind_10m = get_value_at_station(fn,'y_wind_10m',y,x)\n",
    "\n",
    "######## with Vertical Levels ( height_above_msl )#################################\n",
    "air_pressure_at_sea_level = get_value_at_station(fn,'air_pressure_at_sea_level',y,x)\n",
    "\n",
    "######## with Vertical Levels ( hybrid )#################################\n",
    "## hybrid levels atmosphere_hybrid_sigma_pressure_coordinate\n",
    "# formula: p(n,k,j,i) = ap(k) + b(k)*ps(n,j,i)\n",
    "# positive: down\n",
    "\n",
    "## values in fn file\n",
    "specific_humidity_ml     = get_value_at_station(fn,'specific_humidity_ml',y,x)\n",
    "cloud_condensed_water_ml = get_value_at_station(fn,'mass_fraction_of_cloud_condensed_water_in_air_ml',y,x)\n",
    "cloud_ice_ml             = get_value_at_station(fn,'mass_fraction_of_cloud_ice_in_air_ml',y,x)\n",
    "snow_ml                  = get_value_at_station(fn,'mass_fraction_of_snow_in_air_ml',y,x)\n",
    "rain_ml                  = get_value_at_station(fn,'mass_fraction_of_rain_in_air_ml',y,x)\n",
    "graupel_ml               = get_value_at_station(fn,'mass_fraction_of_graupel_in_air_ml',y,x)\n",
    "pressure_departure       = get_value_at_station(fn,'pressure_departure',y,x)\n",
    "air_temperature_ml       = get_value_at_station(fn,'air_temperature_ml',y,x)\n",
    "x_wind_ml                = get_value_at_station(fn,'x_wind_ml',y,x)\n",
    "y_wind_ml                = get_value_at_station(fn,'y_wind_ml',y,x)\n",
    "\n"
   ]
  },
  {
   "cell_type": "code",
   "execution_count": null,
   "metadata": {},
   "outputs": [],
   "source": [
    "# calculate density at each level\n",
    "density_ml = pressure_in_modellev/(Rd*air_temperature_ml)\n",
    "\n",
    "# convert from [kg/kg] to [kg/m^3]\n",
    "cloud_condensed_water_ml = (cloud_condensed_water_ml*density_ml)\n",
    "cloud_ice_ml = (cloud_ice_ml*density_ml)\n",
    "snow_ml = (snow_ml*density_ml)\n",
    "rain_ml = (rain_ml*density_ml)\n",
    "graupel_ml = (graupel_ml*density_ml)\n",
    "\n",
    "\n",
    "# convert the snow amount from [kg/m^2] into [g/m^2] by multiply with 1000\n",
    "cloud_condensed_water_ml = (cloud_condensed_water_ml*1000.)\n",
    "cloud_ice_ml = (cloud_ice_ml*1000.)\n",
    "snow_ml = (snow_ml*1000.)\n",
    "rain_ml = (rain_ml*1000.)\n",
    "graupel_ml = (graupel_ml*1000)\n",
    "\n",
    "# get ice amount (snow+graupel+cloud_ice)\n",
    "ice_amount_ml = snow_ml + graupel_ml + cloud_ice_ml\n",
    "\n",
    "# get liquid amount (rain+cloud_water)\n",
    "water_amount_ml = rain_ml+cloud_condensed_water_ml"
   ]
  },
  {
   "cell_type": "code",
   "execution_count": null,
   "metadata": {},
   "outputs": [],
   "source": [
    "####\n",
    "# create 2d time array\n",
    "time_arr = np.repeat(time_arr, pressure_in_modellev.shape[1], axis = 0)\n",
    "time_arr = np.reshape(time_arr, (-1, pressure_in_modellev.shape[1]))"
   ]
  },
  {
   "cell_type": "code",
   "execution_count": null,
   "metadata": {},
   "outputs": [],
   "source": [
    "# layer thickness to calculate height\n",
    "thickness_ml     = thickness_m\n",
    "h_above = []\n",
    "h_above.append(np.zeros(thickness_ml[:,:].shape[0]))\n",
    "th_arr = np.nansum([np.asarray(h_above)[:,0], thickness_ml[:,0]], axis = 0)\n",
    "h_above.append(th_arr)\n",
    "for i in range(2,thickness_ml[:,:].shape[1]):\n",
    "    th_arr = np.nansum([h_above[i-1], thickness_ml[:,i-1]], axis = 0)\n",
    "    h_above.append(th_arr)\n",
    "height_ml = np.transpose(h_above) "
   ]
  },
  {
   "cell_type": "code",
   "execution_count": null,
   "metadata": {},
   "outputs": [],
   "source": [
    "np.max(ice_amount_ml)"
   ]
  },
  {
   "cell_type": "code",
   "execution_count": null,
   "metadata": {},
   "outputs": [],
   "source": [
    "np.max(water_amount_ml)"
   ]
  },
  {
   "cell_type": "code",
   "execution_count": null,
   "metadata": {},
   "outputs": [],
   "source": [
    "np.max(rain_ml)"
   ]
  },
  {
   "cell_type": "code",
   "execution_count": null,
   "metadata": {},
   "outputs": [],
   "source": [
    "np.max(cloud_condensed_water_ml)"
   ]
  },
  {
   "cell_type": "code",
   "execution_count": null,
   "metadata": {},
   "outputs": [],
   "source": [
    "year = 2016\n",
    "month = 12\n",
    "ini_day = 20"
   ]
  },
  {
   "cell_type": "code",
   "execution_count": null,
   "metadata": {},
   "outputs": [],
   "source": [
    "cc = 'snow+graupel+cloud ice'\n",
    "plt_cloud_content(time_arr,height_ml,ice_amount_ml,cc)"
   ]
  },
  {
   "cell_type": "code",
   "execution_count": null,
   "metadata": {},
   "outputs": [],
   "source": [
    "cc = 'rain+cloud water'\n",
    "plt_cloud_content(time_arr,height_ml,water_amount_ml,cc)"
   ]
  },
  {
   "cell_type": "code",
   "execution_count": null,
   "metadata": {},
   "outputs": [],
   "source": [
    "from matplotlib.gridspec import GridSpec"
   ]
  },
  {
   "cell_type": "code",
   "execution_count": null,
   "metadata": {},
   "outputs": [],
   "source": []
  },
  {
   "cell_type": "code",
   "execution_count": null,
   "metadata": {},
   "outputs": [],
   "source": [
    "def plt_cloud_content(time_arr,height_ml,cloud_content_ml,cc):\n",
    "    \n",
    "    ##### define things which are set for all #####\n",
    "    champ = 255.\n",
    "    vert_col = np.array([197,197,197])/champ    # vertical line for day marker\n",
    "\n",
    "    \n",
    "    #var_label = 'SWC [g m$^{-3}$]'\n",
    "    var_label = 'Cloud content [g m$^{-3}$]'\n",
    "    label_txt = 'height [km]'\n",
    "\n",
    "    xmax = 24.\n",
    "    ymax = 12500.\n",
    "\n",
    "    xdays = ['%s-%s-%s' %(year,month,ini_day), '', \n",
    "        6, '',12, '', 18, '',\n",
    "        '%s-%s-%s' %(year,month,ini_day+1),  '',\n",
    "        6, '', 12, '', 18, '',\n",
    "        '%s-%s-%s' %(year,month,ini_day+2)]\n",
    "    \n",
    "#    yticks3 = np.arange(0,14000.,2000)\n",
    " #   yticks = yticks3\n",
    "    yticks3 = np.arange(0,4000.,1000)\n",
    "    yticks = yticks3\n",
    "    \n",
    "    \n",
    "    \n",
    "    #levels = np.arange(0,1.51,0.01)\n",
    "    levels = np.arange(0.,0.1,0.001)\n",
    "    levels = np.arange(0., np.nanmax(cloud_content_ml),0.0001)\n",
    "\n",
    "    #cb_ticks = []\n",
    "    cb_ticks = levels[::30]\n",
    "    \n",
    "    \n",
    "#    if np.max(cloud_content_ml) < 0.0001:\n",
    " #       print('cloud content < 0.001')\n",
    "  #      return\n",
    "   # else:\n",
    "        \n",
    "        \n",
    "    ##### begin figure #####\n",
    "    fig =plt.figure(figsize=(10,3))\n",
    "\n",
    "    gs = GridSpec(2,3)\n",
    "    ax0 = plt.subplot(gs[0,:-1])\n",
    "    im0 = ax0.contourf(time_arr,height_ml,cloud_content_ml,#levels, \n",
    "            cmap='jet', extend = 'max', alpha = 1.0, \n",
    "       #    vmin = 0, vmax = 0.3, \n",
    "            origin = 'lower')\n",
    "    #ax0.axis([time_arr[0,0], time_arr[-1,0], 0., ymax])\n",
    "    ax0.axis([time_arr[0,0], time_arr[-1,0], 0., 4000])\n",
    "    ax0.set_xticks( np.arange(time_arr[0,0],time_arr[-1,0],3*60*60))\n",
    "    #ax0.get_xaxis().set_tick_params(width=5)\n",
    "    ax0.set_xticklabels(xdays)\n",
    "\n",
    "    ax0.set_yticks(yticks)\n",
    "    ax0.set_ylabel(label_txt)#, fontsize = label_fs-2)\n",
    "\n",
    "#ax.xaxis.grid()\n",
    "# Vertical line to show end of day\n",
    "    ax0.axvline(time_arr[0,0],color = vert_col, linewidth = 3)\n",
    "    ax0.axvline(time_arr[24,0],color = vert_col, linewidth = 3)\n",
    "    ax0.axvline(time_arr[-1,0],color = vert_col, linewidth = 3)\n",
    "\n",
    "\n",
    "    ax31 = plt.subplot(gs[1,-1])\n",
    "    ax31.axis('off')\n",
    "    cbaxes = fig.add_axes([0.685, .275, 0.017, 0.66])  # [left, bottom, width, height] \n",
    "    cbar = fig.colorbar(im0, cax=cbaxes, #ticks = cb_ticks, \n",
    "                    orientation = 'vertical')#, pad=0.20, fraction = 0.08, shrink = 2.5)\n",
    "    cbar.ax.tick_params()#labelsize= tick_fs-2)\n",
    "    cbar.ax.set_ylabel(var_label)#,fontsize = label_fs-2)\n",
    "\n",
    "    \n",
    "\n",
    "    ax0.set_title('Cloud content MEPS$_{CONTROL}$')\n",
    "    \n",
    "    \n",
    "    ax0.text(0.02,0.95, #'SWC$_{Retrieval\\,\\,3h}$' ,\n",
    "                 cc ,\n",
    "            verticalalignment ='top', horizontalalignment='left',\n",
    "             transform = ax0.transAxes,\n",
    "             color = 'k', #ontsize = im.fontsize,\n",
    "             bbox={'facecolor':'white','alpha':1.,'pad':3})\n",
    "    \n",
    "#    lgd = plt.tight_layout(pad=1.4, w_pad=1.5, h_pad=1.5)\n",
    " #   return(lgd)"
   ]
  },
  {
   "cell_type": "code",
   "execution_count": null,
   "metadata": {},
   "outputs": [],
   "source": []
  }
 ],
 "metadata": {
  "kernelspec": {
   "display_name": "Python 3",
   "language": "python",
   "name": "python3"
  },
  "language_info": {
   "codemirror_mode": {
    "name": "ipython",
    "version": 3
   },
   "file_extension": ".py",
   "mimetype": "text/x-python",
   "name": "python",
   "nbconvert_exporter": "python",
   "pygments_lexer": "ipython3",
   "version": "3.6.7"
  }
 },
 "nbformat": 4,
 "nbformat_minor": 2
}
